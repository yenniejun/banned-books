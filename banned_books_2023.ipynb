{
 "cells": [
  {
   "cell_type": "markdown",
   "metadata": {},
   "source": [
    "# Banned Books Analysis\n",
    "Analysis of recently banned books in the US. \n",
    "* Data from https://docs.google.com/spreadsheets/d/1hTs_PB7KuTMBtNMESFEGuK-0abzhNxVv4tgpI5-iKe8/edit#gid=1171606318\n",
    "* Article from PEN https://pen.org/report/banned-usa-growing-movement-to-censor-books-in-schools/"
   ]
  },
  {
   "cell_type": "code",
   "execution_count": 1,
   "metadata": {},
   "outputs": [],
   "source": [
    "%load_ext autoreload\n",
    "%autoreload 2"
   ]
  },
  {
   "cell_type": "code",
   "execution_count": 6,
   "metadata": {},
   "outputs": [
    {
     "data": {
      "text/html": [
       "<svg  width=\"330\" height=\"55\"><rect x=\"0\" y=\"0\" width=\"55\" height=\"55\" style=\"fill:#ffbe0b;stroke-width:2;stroke:rgb(255,255,255)\"/><rect x=\"55\" y=\"0\" width=\"55\" height=\"55\" style=\"fill:#008080;stroke-width:2;stroke:rgb(255,255,255)\"/><rect x=\"110\" y=\"0\" width=\"55\" height=\"55\" style=\"fill:#3a86ff;stroke-width:2;stroke:rgb(255,255,255)\"/><rect x=\"165\" y=\"0\" width=\"55\" height=\"55\" style=\"fill:#8338ec;stroke-width:2;stroke:rgb(255,255,255)\"/><rect x=\"220\" y=\"0\" width=\"55\" height=\"55\" style=\"fill:#ff006e;stroke-width:2;stroke:rgb(255,255,255)\"/><rect x=\"275\" y=\"0\" width=\"55\" height=\"55\" style=\"fill:#fb5607;stroke-width:2;stroke:rgb(255,255,255)\"/></svg>"
      ],
      "text/plain": [
       "[(1.0, 0.7450980392156863, 0.043137254901960784),\n",
       " (0.0, 0.5019607843137255, 0.5019607843137255),\n",
       " (0.22745098039215686, 0.5254901960784314, 1.0),\n",
       " (0.5137254901960784, 0.2196078431372549, 0.9254901960784314),\n",
       " (1.0, 0.0, 0.43137254901960786),\n",
       " (0.984313725490196, 0.33725490196078434, 0.027450980392156862)]"
      ]
     },
     "execution_count": 6,
     "metadata": {},
     "output_type": "execute_result"
    }
   ],
   "source": [
    "import pandas as pd\n",
    "import time, tqdm, re, requests, json, os\n",
    "import numpy as np\n",
    "import seaborn as sns\n",
    "from collections import Counter, defaultdict\n",
    "import scipy\n",
    "import warnings\n",
    "warnings.filterwarnings(\"ignore\", category=DeprecationWarning)\n",
    "\n",
    "# NLP stuff\n",
    "from nltk import ngrams\n",
    "from nltk.stem import WordNetLemmatizer\n",
    "lemmatizer = WordNetLemmatizer()\n",
    "from nltk.corpus import stopwords\n",
    "from nltk.tokenize import word_tokenize\n",
    "stop_words = set(stopwords.words('english'))\n",
    "\n",
    "# OPENAI\n",
    "import openai\n",
    "openai.api_key = os.environ[\"OPENAI_API_KEY\"]\n",
    "\n",
    "# Plotting\n",
    "import matplotlib.pyplot as plt\n",
    "import matplotlib.lines as mlines\n",
    "import matplotlib as mpl\n",
    "import seaborn as sns\n",
    "\n",
    "mpl.rcParams['font.family'] = 'monospace'\n",
    "COLORS = ['#FFBE0B', '#008080', '#3A86FF', '#8338EC',  '#FF006E', '#FB5607', ]\n",
    "sns.set_palette(sns.color_palette(COLORS))\n",
    "sns.color_palette(COLORS)\n"
   ]
  },
  {
   "cell_type": "markdown",
   "metadata": {
    "heading_collapsed": true
   },
   "source": [
    "## Helper Functions"
   ]
  },
  {
   "cell_type": "code",
   "execution_count": 1,
   "metadata": {
    "hidden": true
   },
   "outputs": [
    {
     "ename": "NameError",
     "evalue": "name 'COLORS' is not defined",
     "output_type": "error",
     "traceback": [
      "\u001b[0;31m---------------------------------------------------------------------------\u001b[0m",
      "\u001b[0;31mNameError\u001b[0m                                 Traceback (most recent call last)",
      "Cell \u001b[0;32mIn[1], line 25\u001b[0m\n\u001b[1;32m     21\u001b[0m         labels\u001b[38;5;241m.\u001b[39mappend(textwrap\u001b[38;5;241m.\u001b[39mfill(text, width\u001b[38;5;241m=\u001b[39mwidth,\n\u001b[1;32m     22\u001b[0m                       break_long_words\u001b[38;5;241m=\u001b[39mbreak_long_words))\n\u001b[1;32m     23\u001b[0m     ax\u001b[38;5;241m.\u001b[39mset_yticklabels(labels, rotation\u001b[38;5;241m=\u001b[39m\u001b[38;5;241m0\u001b[39m)\n\u001b[0;32m---> 25\u001b[0m \u001b[38;5;28;01mdef\u001b[39;00m \u001b[38;5;21mmake_barchart\u001b[39m(data, x, y, palette\u001b[38;5;241m=\u001b[39m\u001b[43mCOLORS\u001b[49m):\n\u001b[1;32m     26\u001b[0m     plt\u001b[38;5;241m.\u001b[39mfigure(figsize\u001b[38;5;241m=\u001b[39m(\u001b[38;5;241m10\u001b[39m,\u001b[38;5;241m5\u001b[39m))\n\u001b[1;32m     27\u001b[0m     ax \u001b[38;5;241m=\u001b[39m sns\u001b[38;5;241m.\u001b[39mbarplot(data\u001b[38;5;241m=\u001b[39mdata, \n\u001b[1;32m     28\u001b[0m                 x\u001b[38;5;241m=\u001b[39mx, \n\u001b[1;32m     29\u001b[0m                 y\u001b[38;5;241m=\u001b[39my,\n\u001b[1;32m     30\u001b[0m                 palette\u001b[38;5;241m=\u001b[39mpalette,\n\u001b[1;32m     31\u001b[0m                )\n",
      "\u001b[0;31mNameError\u001b[0m: name 'COLORS' is not defined"
     ]
    }
   ],
   "source": [
    "def clean_tokens(tok_list):\n",
    "    tok_list = [i.lower() for i in tok_list]\n",
    "    for strip_char in ['\"', \"'\", '“', '‘', '.', ',', '(', '-']:\n",
    "        tok_list = [i.strip(strip_char) for i in tok_list]\n",
    "    tok_list = [i for i in tok_list if i != '']\n",
    "    tok_list = [i for i in tok_list if i not in stop_words]\n",
    "    \n",
    "    tok_list = [lemmatizer.lemmatize(i) for i in tok_list]\n",
    "    \n",
    "    return tok_list\n",
    "    \n",
    "def get_ngrams(token_list, n=2):\n",
    "    return ngrams(token_list, n)\n",
    "\n",
    "# https://medium.com/dunder-data/automatically-wrap-graph-labels-in-matplotlib-and-seaborn-a48740bc9ce\n",
    "import textwrap\n",
    "def wrap_labels(ax, width, break_long_words=False):\n",
    "    labels = []\n",
    "    for label in ax.get_yticklabels():\n",
    "        text = label.get_text()\n",
    "        labels.append(textwrap.fill(text, width=width,\n",
    "                      break_long_words=break_long_words))\n",
    "    ax.set_yticklabels(labels, rotation=0)\n",
    "    \n",
    "def make_barchart(data, x, y, palette=COLORS):\n",
    "    plt.figure(figsize=(10,5))\n",
    "    ax = sns.barplot(data=data, \n",
    "                x=x, \n",
    "                y=y,\n",
    "                palette=palette,\n",
    "               )\n",
    "    ax.bar_label(ax.containers[0], padding=3)\n",
    "    ax.margins(x=0.1)\n",
    "    wrap_labels(ax,30)\n",
    "\n",
    "    plt.ylabel(None)\n",
    "    sns.despine(top=True, right=True)\n",
    "    \n",
    "    return ax"
   ]
  },
  {
   "cell_type": "markdown",
   "metadata": {
    "heading_collapsed": true
   },
   "source": [
    "# Data Creation\n",
    "Take the list of banned books from PEN and combine with metadata from Google Books"
   ]
  },
  {
   "cell_type": "markdown",
   "metadata": {
    "heading_collapsed": true,
    "hidden": true
   },
   "source": [
    "### Get metadata from Google Books for all unique books"
   ]
  },
  {
   "cell_type": "code",
   "execution_count": 8,
   "metadata": {
    "hidden": true
   },
   "outputs": [],
   "source": [
    "# Google books API key\n",
    "GOOGLE_API_KEY = os.environ[\"GOOGLE_API_KEY\"]"
   ]
  },
  {
   "cell_type": "code",
   "execution_count": 7,
   "metadata": {
    "hidden": true
   },
   "outputs": [
    {
     "name": "stdout",
     "output_type": "stream",
     "text": [
      "Number of unique books banned 1648\n",
      "Number of books banned in more than 1 place 345\n",
      "Number of books banned in more than 2 places 136\n"
     ]
    }
   ],
   "source": [
    "# Banned books in 2021-2022, compiled by PEN\n",
    "df = pd.read_csv('pen_2022_banned_books.csv', header=2)\n",
    "print(\"Number of unique books banned\", len(df.Title.unique()))\n",
    "\n",
    "vc = df.Title.value_counts()\n",
    "print(\"Number of books banned in more than 1 place\", len(vc[vc > 1]))\n",
    "print(\"Number of books banned in more than 2 places\", len(vc[vc > 2]))"
   ]
  },
  {
   "cell_type": "code",
   "execution_count": 9,
   "metadata": {
    "hidden": true
   },
   "outputs": [],
   "source": [
    "# Clean up author and title names\n",
    "\n",
    "unique_books = df[['Author', 'Title']]\n",
    "# Remove duplicated\n",
    "unique_books = unique_books[~unique_books.duplicated()]\n",
    "# Split author name into first and last name\n",
    "unique_books[\"Author_lastname\"] = unique_books.Author.apply(lambda x: x.split(\",\")[0])\n",
    "unique_books.reset_index(inplace=True, drop=True)\n",
    "unique_books['Original_Title'] = unique_books['Title']\n",
    "unique_books['Author_fullname'] = unique_books.Author.apply(lambda x: ' '.join(x.split(',')[::-1]).strip())\n",
    "\n",
    "# Adding new metadata columns to dataframe\n",
    "metadata_cols = ['description', 'printType', 'pageCount', 'categories', 'maturityRating', \n",
    "                'infoLink', 'averageRating', 'ratingsCount', 'ISBN_10', 'ISBN_13', 'Published_Google']\n",
    "for m in metadata_cols: unique_books[m] = None"
   ]
  },
  {
   "cell_type": "code",
   "execution_count": 10,
   "metadata": {
    "hidden": true
   },
   "outputs": [],
   "source": [
    "# Fix a few of the titles\n",
    "for idx in unique_books[unique_books.Title.str.contains('Series\\)')].index:\n",
    "    # If the title is Blah blah (Blah Series), remove the (Blah Series) part\n",
    "    unique_books.loc[idx, \"Title\"] = unique_books.loc[idx, 'Title'].split('(')[0].strip()\n",
    "\n",
    "# Fix a few unique last names\n",
    "idx=662\n",
    "unique_books.loc[idx, \"Author_lastname\"] = \"Johnson\"\n",
    "idx=1575\n",
    "unique_books.loc[idx, \"Author_lastname\"] = \"Popovic\""
   ]
  },
  {
   "cell_type": "code",
   "execution_count": 230,
   "metadata": {
    "hidden": true,
    "scrolled": false
   },
   "outputs": [
    {
     "name": "stderr",
     "output_type": "stream",
     "text": [
      "100%|██████████| 1656/1656 [01:46<00:00, 15.59it/s] \n"
     ]
    }
   ],
   "source": [
    "for i, row in tqdm.tqdm(unique_books.iterrows(), total=unique_books.shape[0]):\n",
    "#     print(row.Title, \"-\", row.Author_lastname)\n",
    "    \n",
    "    title = row.Title.split(':')[0]\n",
    "    res = requests.get(f'https://www.googleapis.com/books/v1/volumes?q={title}+inauthor:{row.Author_lastname}&key={GOOGLE_API_KEY}')\n",
    "    \n",
    "    # If being throttled, sleep and try again until no longer getting 429\n",
    "    while 'error' in res.json() and res.json()['error']['code'] == 429:\n",
    "        print('--sleeping--')\n",
    "        time.sleep(5)\n",
    "        res = requests.get(f'https://www.googleapis.com/books/v1/volumes?q={title}+inauthor:{row.Author_lastname}&key={GOOGLE_API_KEY}')\n",
    "\n",
    "    # If non-throttling error OR can't find book\n",
    "    if ('error' in res.json() and res.json()['error']['code'] != 429) or 'items' not in res.json():\n",
    "        print(f\"---Error for {row.Author_lastname}, {row.Title}\")\n",
    "        continue\n",
    "    \n",
    "    volumeInfo = res.json()['items'][0]['volumeInfo']\n",
    "    \n",
    "    for key in ['description', 'printType', 'pageCount', 'categories', 'maturityRating', \n",
    "                'infoLink', 'averageRating', 'ratingsCount']:\n",
    "        if key in volumeInfo:\n",
    "            unique_books.loc[i, key] = volumeInfo[key]\n",
    "            \n",
    "    if 'publishedDate' in volumeInfo:\n",
    "        unique_books.loc[i, \"Published_Google\"] = volumeInfo['publishedDate']\n",
    "    \n",
    "    if 'industryIdentifiers' in volumeInfo:\n",
    "        for t in volumeInfo['industryIdentifiers']:\n",
    "            if t['type'] == 'ISBN_13':\n",
    "                unique_books.loc[i, \"ISBN_13\"] = t['identifier']\n",
    "            if t['type'] == 'ISBN_10':\n",
    "                unique_books.loc[i, \"ISBN_10\"] = t['identifier']\n",
    "\n",
    "    if i%5==0:\n",
    "        time.sleep(3)\n",
    "    "
   ]
  },
  {
   "cell_type": "code",
   "execution_count": null,
   "metadata": {
    "hidden": true
   },
   "outputs": [],
   "source": [
    "unique_books.to_csv('pen_unique_books_2022.csv', index=False)"
   ]
  },
  {
   "cell_type": "markdown",
   "metadata": {
    "hidden": true
   },
   "source": [
    "### Combine Google Books metadata with PEN dataset"
   ]
  },
  {
   "cell_type": "code",
   "execution_count": 12,
   "metadata": {
    "hidden": true
   },
   "outputs": [],
   "source": [
    "def get_year(x):\n",
    "    for pattern in ['(\\d\\d\\d\\d)-\\d\\d-\\d\\d', '(\\d\\d\\d\\d)-\\d\\d']:\n",
    "        if re.match(pattern, x):\n",
    "            return re.match(pattern, x).group(1)\n",
    "    return x"
   ]
  },
  {
   "cell_type": "code",
   "execution_count": null,
   "metadata": {
    "hidden": true
   },
   "outputs": [],
   "source": [
    "df = pd.read_csv('pen_2022_banned_books.csv', header=2)"
   ]
  },
  {
   "cell_type": "code",
   "execution_count": 13,
   "metadata": {
    "hidden": true
   },
   "outputs": [],
   "source": [
    "book_metadata = pd.read_csv('pen_unique_books_2022.csv')\n",
    "book_metadata['Author_fullname'] = book_metadata.Author.apply(lambda x: ' '.join(x.split(',')[::-1]).strip())\n",
    "book_metadata.Published_Google = book_metadata.Published_Google.apply(str)\n",
    "book_metadata['Published_Year'] = book_metadata.Published_Google.apply(get_year)\n",
    "for repeat_author in ['Rhodes, Jewel Parker','Perez, Ashley Hope']:\n",
    "    book_metadata = book_metadata[book_metadata.Author!=repeat_author]\n",
    "book_metadata = book_metadata[~book_metadata[['Author', 'Title']].duplicated()]"
   ]
  },
  {
   "cell_type": "code",
   "execution_count": 15,
   "metadata": {
    "hidden": true
   },
   "outputs": [],
   "source": [
    "book_cols = ['Original_Title', 'Author_fullname', 'description', 'printType', 'pageCount', 'categories', 'maturityRating',\n",
    "            'averageRating', 'ratingsCount', 'Published_Year']\n",
    "df_merge = df\\\n",
    "    .merge(book_metadata[book_cols], left_on='Title', right_on='Original_Title', how='left')\n"
   ]
  },
  {
   "cell_type": "markdown",
   "metadata": {},
   "source": [
    "# Data Analysis"
   ]
  },
  {
   "cell_type": "markdown",
   "metadata": {},
   "source": [
    "## Banned Books (Overall)\n",
    "Overall analyses on the types of books that are banned"
   ]
  },
  {
   "cell_type": "markdown",
   "metadata": {},
   "source": [
    "Note: A book may be banned in one district of a state, but doesn't mean it's a state-wide ban."
   ]
  },
  {
   "cell_type": "code",
   "execution_count": 16,
   "metadata": {},
   "outputs": [
    {
     "data": {
      "text/plain": [
       "BOOK    1645\n",
       "Name: printType, dtype: int64"
      ]
     },
     "execution_count": 16,
     "metadata": {},
     "output_type": "execute_result"
    }
   ],
   "source": [
    "book_metadata.printType.value_counts()"
   ]
  },
  {
   "cell_type": "markdown",
   "metadata": {
    "heading_collapsed": true
   },
   "source": [
    "### Page count distribution (histogram)"
   ]
  },
  {
   "cell_type": "markdown",
   "metadata": {
    "hidden": true
   },
   "source": [
    "Page count -- most books are around 200-300 pages long. Bimodal though - huge spike in the sub-50 page long books. These are majority books tagged for juvenile fiction."
   ]
  },
  {
   "cell_type": "code",
   "execution_count": 328,
   "metadata": {
    "hidden": true,
    "scrolled": true
   },
   "outputs": [
    {
     "data": {
      "text/plain": [
       "Text(0.5, 0, 'Number of Pages')"
      ]
     },
     "execution_count": 328,
     "metadata": {},
     "output_type": "execute_result"
    },
    {
     "data": {
      "image/png": "[encoded data removed]",
      "text/plain": [
       "<Figure size 864x360 with 1 Axes>"
      ]
     },
     "metadata": {
      "needs_background": "light"
     },
     "output_type": "display_data"
    }
   ],
   "source": [
    "plt.figure(figsize=(12,5))\n",
    "pc = book_metadata[book_metadata.pageCount > 0]\n",
    "sns.histplot(data=pc, x='pageCount', bins=80)\n",
    "plt.ylabel('Count', size=14)\n",
    "plt.yticks(size=12)\n",
    "sns.despine(top=True, right=True)\n",
    "plt.xticks(size=12)\n",
    "plt.xlabel('Number of Pages', size=14)\n"
   ]
  },
  {
   "cell_type": "markdown",
   "metadata": {
    "heading_collapsed": true
   },
   "source": [
    "### Published year distribution (histogram)"
   ]
  },
  {
   "cell_type": "code",
   "execution_count": 17,
   "metadata": {
    "hidden": true
   },
   "outputs": [],
   "source": [
    "pub_year = book_metadata[['Published_Year']]\n",
    "pub_year = pub_year[pub_year.Published_Year!='nan']\n",
    "pub_year.Published_Year = pub_year.Published_Year.apply(int)"
   ]
  },
  {
   "cell_type": "code",
   "execution_count": 18,
   "metadata": {
    "hidden": true,
    "scrolled": true
   },
   "outputs": [
    {
     "data": {
      "image/png": "[encoded data removed]",
      "text/plain": [
       "<Figure size 1200x500 with 1 Axes>"
      ]
     },
     "metadata": {},
     "output_type": "display_data"
    }
   ],
   "source": [
    "plt.figure(figsize=(12,5))\n",
    "sns.histplot(data=pub_year, \n",
    "             x='Published_Year', \n",
    "#              bins=70,\n",
    "             color=COLORS[3])\n",
    "# plt.yscale('log')\n",
    "plt.xlabel('Published Year', size=14)\n",
    "plt.ylabel('Count', size=14)\n",
    "plt.yticks(size=12)\n",
    "sns.despine(top=True, right=True)\n",
    "plt.xticks(size=12)\n",
    "sns.despine(top=True, right=True)\n",
    "plt.show()"
   ]
  },
  {
   "cell_type": "code",
   "execution_count": 273,
   "metadata": {
    "hidden": true
   },
   "outputs": [
    {
     "data": {
      "text/html": [
       "<div>\n",
       "<style scoped>\n",
       "    .dataframe tbody tr th:only-of-type {\n",
       "        vertical-align: middle;\n",
       "    }\n",
       "\n",
       "    .dataframe tbody tr th {\n",
       "        vertical-align: top;\n",
       "    }\n",
       "\n",
       "    .dataframe thead th {\n",
       "        text-align: right;\n",
       "    }\n",
       "</style>\n",
       "<table border=\"1\" class=\"dataframe\">\n",
       "  <thead>\n",
       "    <tr style=\"text-align: right;\">\n",
       "      <th></th>\n",
       "      <th>Original_Title</th>\n",
       "      <th>count</th>\n",
       "      <th>Author_fullname</th>\n",
       "      <th>description</th>\n",
       "      <th>Published_Year</th>\n",
       "      <th>printType</th>\n",
       "      <th>pageCount</th>\n",
       "      <th>categories</th>\n",
       "      <th>maturityRating</th>\n",
       "      <th>averageRating</th>\n",
       "      <th>ratingsCount</th>\n",
       "      <th>genre</th>\n",
       "      <th>age_group</th>\n",
       "      <th>author</th>\n",
       "      <th>ethnicity</th>\n",
       "      <th>gender</th>\n",
       "    </tr>\n",
       "  </thead>\n",
       "  <tbody>\n",
       "    <tr>\n",
       "      <th>0</th>\n",
       "      <td>The Bluest Eye</td>\n",
       "      <td>22</td>\n",
       "      <td>Toni Morrison</td>\n",
       "      <td>NATIONAL BESTSELLER • From the acclaimed Nobel...</td>\n",
       "      <td>1970</td>\n",
       "      <td>BOOK</td>\n",
       "      <td>226.0</td>\n",
       "      <td>['Fiction']</td>\n",
       "      <td>NOT_MATURE</td>\n",
       "      <td>3.5</td>\n",
       "      <td>138.0</td>\n",
       "      <td>Fiction</td>\n",
       "      <td>Adult</td>\n",
       "      <td>Toni Morrison</td>\n",
       "      <td>Black</td>\n",
       "      <td>F</td>\n",
       "    </tr>\n",
       "    <tr>\n",
       "      <th>1</th>\n",
       "      <td>Beloved</td>\n",
       "      <td>11</td>\n",
       "      <td>Toni Morrison</td>\n",
       "      <td>Sethe, an escaped slave living in post-Civil W...</td>\n",
       "      <td>1987</td>\n",
       "      <td>BOOK</td>\n",
       "      <td>354.0</td>\n",
       "      <td>['African Americans']</td>\n",
       "      <td>NOT_MATURE</td>\n",
       "      <td>NaN</td>\n",
       "      <td>NaN</td>\n",
       "      <td>Nonfiction</td>\n",
       "      <td>Adult</td>\n",
       "      <td>Toni Morrison</td>\n",
       "      <td>Black</td>\n",
       "      <td>F</td>\n",
       "    </tr>\n",
       "    <tr>\n",
       "      <th>2</th>\n",
       "      <td>Lucky</td>\n",
       "      <td>6</td>\n",
       "      <td>Alice Sebold</td>\n",
       "      <td>An acclaimed journalist shares the gripping st...</td>\n",
       "      <td>2017</td>\n",
       "      <td>BOOK</td>\n",
       "      <td>288.0</td>\n",
       "      <td>['Biography &amp; Autobiography']</td>\n",
       "      <td>NOT_MATURE</td>\n",
       "      <td>4.0</td>\n",
       "      <td>79.0</td>\n",
       "      <td>Nonfiction</td>\n",
       "      <td>Adult</td>\n",
       "      <td>Alice Sebold</td>\n",
       "      <td>UNK</td>\n",
       "      <td>F</td>\n",
       "    </tr>\n",
       "    <tr>\n",
       "      <th>3</th>\n",
       "      <td>Lucky</td>\n",
       "      <td>6</td>\n",
       "      <td>Alice Seabold</td>\n",
       "      <td>NaN</td>\n",
       "      <td>1908</td>\n",
       "      <td>BOOK</td>\n",
       "      <td>350.0</td>\n",
       "      <td>['Common fallacies']</td>\n",
       "      <td>NOT_MATURE</td>\n",
       "      <td>NaN</td>\n",
       "      <td>NaN</td>\n",
       "      <td>Nonfiction</td>\n",
       "      <td>Adult</td>\n",
       "      <td>Alice Seabold</td>\n",
       "      <td>UNK</td>\n",
       "      <td>F</td>\n",
       "    </tr>\n",
       "    <tr>\n",
       "      <th>4</th>\n",
       "      <td>Speak</td>\n",
       "      <td>6</td>\n",
       "      <td>Laurie Halse Anderson</td>\n",
       "      <td>The first ten lies they tell you in high schoo...</td>\n",
       "      <td>1999</td>\n",
       "      <td>BOOK</td>\n",
       "      <td>208.0</td>\n",
       "      <td>['Young Adult Fiction']</td>\n",
       "      <td>NOT_MATURE</td>\n",
       "      <td>4.0</td>\n",
       "      <td>407.0</td>\n",
       "      <td>Fiction</td>\n",
       "      <td>YA</td>\n",
       "      <td>Laurie Halse Anderson</td>\n",
       "      <td>UNK</td>\n",
       "      <td>F</td>\n",
       "    </tr>\n",
       "    <tr>\n",
       "      <th>5</th>\n",
       "      <td>Maus 1: A Survivor's Tale: My Father Bleeds Hi...</td>\n",
       "      <td>3</td>\n",
       "      <td>Art Spiegelman</td>\n",
       "      <td>The definitive edition of the graphic novel ac...</td>\n",
       "      <td>1996</td>\n",
       "      <td>BOOK</td>\n",
       "      <td>298.0</td>\n",
       "      <td>['Comics &amp; Graphic Novels']</td>\n",
       "      <td>NOT_MATURE</td>\n",
       "      <td>4.5</td>\n",
       "      <td>123.0</td>\n",
       "      <td>Fiction</td>\n",
       "      <td>Adult</td>\n",
       "      <td>Art Spiegelman</td>\n",
       "      <td>UNK</td>\n",
       "      <td>M</td>\n",
       "    </tr>\n",
       "    <tr>\n",
       "      <th>6</th>\n",
       "      <td>Slaughterhouse-Five</td>\n",
       "      <td>2</td>\n",
       "      <td>Kurt Vonnegut Jr.</td>\n",
       "      <td>Kurt Vonnegut’s masterpiece, Slaughterhouse-Fi...</td>\n",
       "      <td>1999</td>\n",
       "      <td>BOOK</td>\n",
       "      <td>285.0</td>\n",
       "      <td>['Fiction']</td>\n",
       "      <td>NOT_MATURE</td>\n",
       "      <td>4.0</td>\n",
       "      <td>1807.0</td>\n",
       "      <td>Fiction</td>\n",
       "      <td>Adult</td>\n",
       "      <td>Kurt Vonnegut Jr.</td>\n",
       "      <td>UNK</td>\n",
       "      <td>M</td>\n",
       "    </tr>\n",
       "    <tr>\n",
       "      <th>7</th>\n",
       "      <td>Jack</td>\n",
       "      <td>2</td>\n",
       "      <td>A. M. Homes</td>\n",
       "      <td>Fifteen-year-old Jack's confused feelings for ...</td>\n",
       "      <td>1989</td>\n",
       "      <td>BOOK</td>\n",
       "      <td>220.0</td>\n",
       "      <td>['Juvenile Fiction']</td>\n",
       "      <td>NOT_MATURE</td>\n",
       "      <td>4.0</td>\n",
       "      <td>6.0</td>\n",
       "      <td>Fiction</td>\n",
       "      <td>Juvenile</td>\n",
       "      <td>A. M. Homes</td>\n",
       "      <td>UNK</td>\n",
       "      <td>F</td>\n",
       "    </tr>\n",
       "    <tr>\n",
       "      <th>8</th>\n",
       "      <td>Encounter</td>\n",
       "      <td>2</td>\n",
       "      <td>Brittany Luby</td>\n",
       "      <td>A powerful imagining by two Native creators of...</td>\n",
       "      <td>2019</td>\n",
       "      <td>BOOK</td>\n",
       "      <td>40.0</td>\n",
       "      <td>['Juvenile Fiction']</td>\n",
       "      <td>NOT_MATURE</td>\n",
       "      <td>4.0</td>\n",
       "      <td>4.0</td>\n",
       "      <td>Fiction</td>\n",
       "      <td>Juvenile</td>\n",
       "      <td>Brittany Luby</td>\n",
       "      <td>UNK</td>\n",
       "      <td>F</td>\n",
       "    </tr>\n",
       "    <tr>\n",
       "      <th>9</th>\n",
       "      <td>Encounter</td>\n",
       "      <td>2</td>\n",
       "      <td>Jane Yolen</td>\n",
       "      <td>A Taino Indian boy on the island of San Salvad...</td>\n",
       "      <td>1996</td>\n",
       "      <td>BOOK</td>\n",
       "      <td>36.0</td>\n",
       "      <td>['Juvenile Fiction']</td>\n",
       "      <td>NOT_MATURE</td>\n",
       "      <td>5.0</td>\n",
       "      <td>1.0</td>\n",
       "      <td>Fiction</td>\n",
       "      <td>Juvenile</td>\n",
       "      <td>Jane Yolen</td>\n",
       "      <td>White</td>\n",
       "      <td>F</td>\n",
       "    </tr>\n",
       "    <tr>\n",
       "      <th>10</th>\n",
       "      <td>The Teenage Body Book</td>\n",
       "      <td>2</td>\n",
       "      <td>Kathy McCoy</td>\n",
       "      <td>An updated manual for teenagers and their pare...</td>\n",
       "      <td>1999</td>\n",
       "      <td>BOOK</td>\n",
       "      <td>260.0</td>\n",
       "      <td>['Family &amp; Relationships']</td>\n",
       "      <td>NOT_MATURE</td>\n",
       "      <td>3.5</td>\n",
       "      <td>3.0</td>\n",
       "      <td>Nonfiction</td>\n",
       "      <td>Adult</td>\n",
       "      <td>Kathy McCoy</td>\n",
       "      <td>UNK</td>\n",
       "      <td>F</td>\n",
       "    </tr>\n",
       "    <tr>\n",
       "      <th>11</th>\n",
       "      <td>The Cider House Rules</td>\n",
       "      <td>2</td>\n",
       "      <td>John Irving</td>\n",
       "      <td>First published in 1985, The Cider House Rules...</td>\n",
       "      <td>1999</td>\n",
       "      <td>BOOK</td>\n",
       "      <td>594.0</td>\n",
       "      <td>['Fiction']</td>\n",
       "      <td>NOT_MATURE</td>\n",
       "      <td>4.0</td>\n",
       "      <td>69.0</td>\n",
       "      <td>Fiction</td>\n",
       "      <td>Adult</td>\n",
       "      <td>John Irving</td>\n",
       "      <td>UNK</td>\n",
       "      <td>M</td>\n",
       "    </tr>\n",
       "    <tr>\n",
       "      <th>12</th>\n",
       "      <td>Whistle Me Home</td>\n",
       "      <td>2</td>\n",
       "      <td>Barbara Wersba</td>\n",
       "      <td>Seventeen-year-old Noli feels as if she has fo...</td>\n",
       "      <td>1997</td>\n",
       "      <td>BOOK</td>\n",
       "      <td>126.0</td>\n",
       "      <td>['Juvenile Fiction']</td>\n",
       "      <td>NOT_MATURE</td>\n",
       "      <td>NaN</td>\n",
       "      <td>NaN</td>\n",
       "      <td>Fiction</td>\n",
       "      <td>Juvenile</td>\n",
       "      <td>Barbara Wersba</td>\n",
       "      <td>UNK</td>\n",
       "      <td>F</td>\n",
       "    </tr>\n",
       "    <tr>\n",
       "      <th>13</th>\n",
       "      <td>SEX: If You're Scared of The Truth Don't Read ...</td>\n",
       "      <td>2</td>\n",
       "      <td>Carl Sommer</td>\n",
       "      <td>Challenging a commonly held assumption that me...</td>\n",
       "      <td>1998</td>\n",
       "      <td>BOOK</td>\n",
       "      <td>212.0</td>\n",
       "      <td>['Psychology']</td>\n",
       "      <td>NOT_MATURE</td>\n",
       "      <td>NaN</td>\n",
       "      <td>NaN</td>\n",
       "      <td>Nonfiction</td>\n",
       "      <td>Adult</td>\n",
       "      <td>Carl Sommer</td>\n",
       "      <td>UNK</td>\n",
       "      <td>M</td>\n",
       "    </tr>\n",
       "    <tr>\n",
       "      <th>14</th>\n",
       "      <td>Reparations, Yes!: The Legal And Political Rea...</td>\n",
       "      <td>1</td>\n",
       "      <td>Chokwe Lumumba</td>\n",
       "      <td>NaN</td>\n",
       "      <td>1989</td>\n",
       "      <td>BOOK</td>\n",
       "      <td>92.0</td>\n",
       "      <td>['African Americans']</td>\n",
       "      <td>NOT_MATURE</td>\n",
       "      <td>NaN</td>\n",
       "      <td>NaN</td>\n",
       "      <td>Nonfiction</td>\n",
       "      <td>Adult</td>\n",
       "      <td>Chokwe Lumumba</td>\n",
       "      <td>Black</td>\n",
       "      <td>M</td>\n",
       "    </tr>\n",
       "    <tr>\n",
       "      <th>15</th>\n",
       "      <td>Pedagogy of the Oppressed</td>\n",
       "      <td>1</td>\n",
       "      <td>Paulo Freire</td>\n",
       "      <td>NaN</td>\n",
       "      <td>1970</td>\n",
       "      <td>BOOK</td>\n",
       "      <td>196.0</td>\n",
       "      <td>['Education']</td>\n",
       "      <td>NOT_MATURE</td>\n",
       "      <td>NaN</td>\n",
       "      <td>NaN</td>\n",
       "      <td>Nonfiction</td>\n",
       "      <td>Adult</td>\n",
       "      <td>Paulo Freire</td>\n",
       "      <td>UNK</td>\n",
       "      <td>M</td>\n",
       "    </tr>\n",
       "    <tr>\n",
       "      <th>16</th>\n",
       "      <td>Mrs. Katz and Tush</td>\n",
       "      <td>1</td>\n",
       "      <td>Patricia Polacco</td>\n",
       "      <td>A long-lasting friendship develops between Lar...</td>\n",
       "      <td>1994</td>\n",
       "      <td>BOOK</td>\n",
       "      <td>36.0</td>\n",
       "      <td>['Juvenile Fiction']</td>\n",
       "      <td>NOT_MATURE</td>\n",
       "      <td>4.0</td>\n",
       "      <td>26.0</td>\n",
       "      <td>Fiction</td>\n",
       "      <td>Juvenile</td>\n",
       "      <td>Patricia Polacco</td>\n",
       "      <td>UNK</td>\n",
       "      <td>F</td>\n",
       "    </tr>\n",
       "    <tr>\n",
       "      <th>17</th>\n",
       "      <td>Luis Munoz Marin (Community Builders)</td>\n",
       "      <td>1</td>\n",
       "      <td>Linda George</td>\n",
       "      <td>A biography of a Puerto Rican leader who worke...</td>\n",
       "      <td>1999</td>\n",
       "      <td>BOOK</td>\n",
       "      <td>52.0</td>\n",
       "      <td>['Juvenile Nonfiction']</td>\n",
       "      <td>NOT_MATURE</td>\n",
       "      <td>NaN</td>\n",
       "      <td>NaN</td>\n",
       "      <td>Nonfiction</td>\n",
       "      <td>Juvenile</td>\n",
       "      <td>Linda George</td>\n",
       "      <td>UNK</td>\n",
       "      <td>F</td>\n",
       "    </tr>\n",
       "    <tr>\n",
       "      <th>18</th>\n",
       "      <td>The Boy Who Didn't Believe in Spring</td>\n",
       "      <td>1</td>\n",
       "      <td>Lucille Clifton</td>\n",
       "      <td>Two skeptical city boys set out to find spring...</td>\n",
       "      <td>1992</td>\n",
       "      <td>BOOK</td>\n",
       "      <td>40.0</td>\n",
       "      <td>['Juvenile Fiction']</td>\n",
       "      <td>NOT_MATURE</td>\n",
       "      <td>4.0</td>\n",
       "      <td>3.0</td>\n",
       "      <td>Fiction</td>\n",
       "      <td>Juvenile</td>\n",
       "      <td>Lucille Clifton</td>\n",
       "      <td>Black</td>\n",
       "      <td>F</td>\n",
       "    </tr>\n",
       "    <tr>\n",
       "      <th>19</th>\n",
       "      <td>How Many Stars in the Sky?</td>\n",
       "      <td>1</td>\n",
       "      <td>Lenny Hort</td>\n",
       "      <td>Mama's away one night, and her son can't sleep...</td>\n",
       "      <td>1997</td>\n",
       "      <td>BOOK</td>\n",
       "      <td>36.0</td>\n",
       "      <td>['Juvenile Fiction']</td>\n",
       "      <td>NOT_MATURE</td>\n",
       "      <td>4.0</td>\n",
       "      <td>2.0</td>\n",
       "      <td>Fiction</td>\n",
       "      <td>Juvenile</td>\n",
       "      <td>Lenny Hort</td>\n",
       "      <td>UNK</td>\n",
       "      <td>M</td>\n",
       "    </tr>\n",
       "  </tbody>\n",
       "</table>\n",
       "</div>"
      ],
      "text/plain": [
       "                                       Original_Title  count  \\\n",
       "0                                      The Bluest Eye     22   \n",
       "1                                             Beloved     11   \n",
       "2                                               Lucky      6   \n",
       "3                                               Lucky      6   \n",
       "4                                               Speak      6   \n",
       "5   Maus 1: A Survivor's Tale: My Father Bleeds Hi...      3   \n",
       "6                                 Slaughterhouse-Five      2   \n",
       "7                                                Jack      2   \n",
       "8                                           Encounter      2   \n",
       "9                                           Encounter      2   \n",
       "10                              The Teenage Body Book      2   \n",
       "11                              The Cider House Rules      2   \n",
       "12                                    Whistle Me Home      2   \n",
       "13  SEX: If You're Scared of The Truth Don't Read ...      2   \n",
       "14  Reparations, Yes!: The Legal And Political Rea...      1   \n",
       "15                          Pedagogy of the Oppressed      1   \n",
       "16                                 Mrs. Katz and Tush      1   \n",
       "17              Luis Munoz Marin (Community Builders)      1   \n",
       "18               The Boy Who Didn't Believe in Spring      1   \n",
       "19                         How Many Stars in the Sky?      1   \n",
       "\n",
       "          Author_fullname                                        description  \\\n",
       "0           Toni Morrison  NATIONAL BESTSELLER • From the acclaimed Nobel...   \n",
       "1           Toni Morrison  Sethe, an escaped slave living in post-Civil W...   \n",
       "2            Alice Sebold  An acclaimed journalist shares the gripping st...   \n",
       "3           Alice Seabold                                                NaN   \n",
       "4   Laurie Halse Anderson  The first ten lies they tell you in high schoo...   \n",
       "5          Art Spiegelman  The definitive edition of the graphic novel ac...   \n",
       "6       Kurt Vonnegut Jr.  Kurt Vonnegut’s masterpiece, Slaughterhouse-Fi...   \n",
       "7             A. M. Homes  Fifteen-year-old Jack's confused feelings for ...   \n",
       "8           Brittany Luby  A powerful imagining by two Native creators of...   \n",
       "9              Jane Yolen  A Taino Indian boy on the island of San Salvad...   \n",
       "10            Kathy McCoy  An updated manual for teenagers and their pare...   \n",
       "11            John Irving  First published in 1985, The Cider House Rules...   \n",
       "12         Barbara Wersba  Seventeen-year-old Noli feels as if she has fo...   \n",
       "13            Carl Sommer  Challenging a commonly held assumption that me...   \n",
       "14         Chokwe Lumumba                                                NaN   \n",
       "15           Paulo Freire                                                NaN   \n",
       "16       Patricia Polacco  A long-lasting friendship develops between Lar...   \n",
       "17           Linda George  A biography of a Puerto Rican leader who worke...   \n",
       "18        Lucille Clifton  Two skeptical city boys set out to find spring...   \n",
       "19             Lenny Hort  Mama's away one night, and her son can't sleep...   \n",
       "\n",
       "   Published_Year printType  pageCount                     categories  \\\n",
       "0            1970      BOOK      226.0                    ['Fiction']   \n",
       "1            1987      BOOK      354.0          ['African Americans']   \n",
       "2            2017      BOOK      288.0  ['Biography & Autobiography']   \n",
       "3            1908      BOOK      350.0           ['Common fallacies']   \n",
       "4            1999      BOOK      208.0        ['Young Adult Fiction']   \n",
       "5            1996      BOOK      298.0    ['Comics & Graphic Novels']   \n",
       "6            1999      BOOK      285.0                    ['Fiction']   \n",
       "7            1989      BOOK      220.0           ['Juvenile Fiction']   \n",
       "8            2019      BOOK       40.0           ['Juvenile Fiction']   \n",
       "9            1996      BOOK       36.0           ['Juvenile Fiction']   \n",
       "10           1999      BOOK      260.0     ['Family & Relationships']   \n",
       "11           1999      BOOK      594.0                    ['Fiction']   \n",
       "12           1997      BOOK      126.0           ['Juvenile Fiction']   \n",
       "13           1998      BOOK      212.0                 ['Psychology']   \n",
       "14           1989      BOOK       92.0          ['African Americans']   \n",
       "15           1970      BOOK      196.0                  ['Education']   \n",
       "16           1994      BOOK       36.0           ['Juvenile Fiction']   \n",
       "17           1999      BOOK       52.0        ['Juvenile Nonfiction']   \n",
       "18           1992      BOOK       40.0           ['Juvenile Fiction']   \n",
       "19           1997      BOOK       36.0           ['Juvenile Fiction']   \n",
       "\n",
       "   maturityRating  averageRating  ratingsCount       genre age_group  \\\n",
       "0      NOT_MATURE            3.5         138.0     Fiction     Adult   \n",
       "1      NOT_MATURE            NaN           NaN  Nonfiction     Adult   \n",
       "2      NOT_MATURE            4.0          79.0  Nonfiction     Adult   \n",
       "3      NOT_MATURE            NaN           NaN  Nonfiction     Adult   \n",
       "4      NOT_MATURE            4.0         407.0     Fiction        YA   \n",
       "5      NOT_MATURE            4.5         123.0     Fiction     Adult   \n",
       "6      NOT_MATURE            4.0        1807.0     Fiction     Adult   \n",
       "7      NOT_MATURE            4.0           6.0     Fiction  Juvenile   \n",
       "8      NOT_MATURE            4.0           4.0     Fiction  Juvenile   \n",
       "9      NOT_MATURE            5.0           1.0     Fiction  Juvenile   \n",
       "10     NOT_MATURE            3.5           3.0  Nonfiction     Adult   \n",
       "11     NOT_MATURE            4.0          69.0     Fiction     Adult   \n",
       "12     NOT_MATURE            NaN           NaN     Fiction  Juvenile   \n",
       "13     NOT_MATURE            NaN           NaN  Nonfiction     Adult   \n",
       "14     NOT_MATURE            NaN           NaN  Nonfiction     Adult   \n",
       "15     NOT_MATURE            NaN           NaN  Nonfiction     Adult   \n",
       "16     NOT_MATURE            4.0          26.0     Fiction  Juvenile   \n",
       "17     NOT_MATURE            NaN           NaN  Nonfiction  Juvenile   \n",
       "18     NOT_MATURE            4.0           3.0     Fiction  Juvenile   \n",
       "19     NOT_MATURE            4.0           2.0     Fiction  Juvenile   \n",
       "\n",
       "                   author ethnicity gender  \n",
       "0           Toni Morrison     Black      F  \n",
       "1           Toni Morrison     Black      F  \n",
       "2            Alice Sebold       UNK      F  \n",
       "3           Alice Seabold       UNK      F  \n",
       "4   Laurie Halse Anderson       UNK      F  \n",
       "5          Art Spiegelman       UNK      M  \n",
       "6       Kurt Vonnegut Jr.       UNK      M  \n",
       "7             A. M. Homes       UNK      F  \n",
       "8           Brittany Luby       UNK      F  \n",
       "9              Jane Yolen     White      F  \n",
       "10            Kathy McCoy       UNK      F  \n",
       "11            John Irving       UNK      M  \n",
       "12         Barbara Wersba       UNK      F  \n",
       "13            Carl Sommer       UNK      M  \n",
       "14         Chokwe Lumumba     Black      M  \n",
       "15           Paulo Freire       UNK      M  \n",
       "16       Patricia Polacco       UNK      F  \n",
       "17           Linda George       UNK      F  \n",
       "18        Lucille Clifton     Black      F  \n",
       "19             Lenny Hort       UNK      M  "
      ]
     },
     "execution_count": 273,
     "metadata": {},
     "output_type": "execute_result"
    }
   ],
   "source": [
    "older_books = df_merge[df_merge.Published_Year<'2000']\n",
    "\n",
    "# Most banned books overall across all districts\n",
    " \n",
    "banned_books_older = older_books.Title.value_counts().reset_index()\n",
    "banned_books_older.columns = ['Original_Title', 'count']\n",
    "book_cols = ['Original_Title', 'Author_fullname', 'description', 'Published_Year', \n",
    "             'printType', 'pageCount', 'categories', 'maturityRating',\n",
    "            'averageRating', 'ratingsCount', 'genre', 'age_group']\n",
    "author_cols = ['author', 'ethnicity', 'gender']\n",
    "\n",
    "banned_books_older = banned_books_older\\\n",
    "    .merge(book_metadata[book_cols], on='Original_Title', how='left')\\\n",
    "    .merge(author_metadata[author_cols], left_on='Author_fullname', right_on='author', how='left')\n",
    "\n",
    "# banned_books\n",
    "banned_books_older.head(20)"
   ]
  },
  {
   "cell_type": "markdown",
   "metadata": {
    "heading_collapsed": true
   },
   "source": [
    "### Categories/Genres - Children/YA books, Fiction v nonfiction"
   ]
  },
  {
   "cell_type": "markdown",
   "metadata": {
    "hidden": true
   },
   "source": [
    "Categories (Tagged by Google?). 34% books are Juvenile Fiction, 26% Young Adult, 11% Juvenile Nonfiction ..."
   ]
  },
  {
   "cell_type": "code",
   "execution_count": 23,
   "metadata": {
    "hidden": true
   },
   "outputs": [
    {
     "name": "stdout",
     "output_type": "stream",
     "text": [
      "Juvenile Fiction \t 34.202546998180715\n",
      "Young Adult Fiction \t 26.743480897513646\n",
      "Juvenile Nonfiction \t 11.643420254699818\n",
      "Fiction \t 5.45785324439054\n",
      "Young Adult Nonfiction \t 2.850212249848393\n",
      "Education \t 1.758641600970285\n",
      "Comics & Graphic Novels \t 1.3947847180109159\n",
      "Biography & Autobiography \t 1.3947847180109159\n",
      "Social Science \t 1.2734990903577925\n",
      "JUVENILE FICTION \t 0.8489993935718617\n"
     ]
    }
   ],
   "source": [
    "all_categories = [i for sublist in [eval(cat) for cat in book_metadata[book_metadata.categories.notnull()].categories.values] for i in sublist]\n",
    "for genre, count in Counter(all_categories).most_common(10):\n",
    "    print(genre, '\\t', count / len(book_metadata) * 100)\n",
    "    "
   ]
  },
  {
   "cell_type": "markdown",
   "metadata": {
    "hidden": true
   },
   "source": [
    "A lot of the books are labeled as juvenile (46%) or YA (30%) ... Majority of the banned books are fiction (almost 70%)"
   ]
  },
  {
   "cell_type": "code",
   "execution_count": 24,
   "metadata": {
    "hidden": true
   },
   "outputs": [],
   "source": [
    "# How many are \"Juvenile\" or \"Young Adult\"?\n",
    "def get_book_age_group(x):\n",
    "    if pd.isna(x): return 'Other'\n",
    "    if 'juvenile' in x.lower():\n",
    "        return 'Juvenile'\n",
    "    if 'young adult' in x.lower():\n",
    "        return 'YA'\n",
    "    else:\n",
    "        return 'Adult'\n",
    "    \n",
    "def get_genre(x):\n",
    "    if pd.isna(x): return 'Other'\n",
    "    for f in ['nonfiction', 'history', 'biography', 'social science', 'education', 'family', \n",
    "              'health', 'art', 'african americans']:\n",
    "        if f in x.lower():\n",
    "            return 'Nonfiction'\n",
    "    \n",
    "    for f in ['fiction', 'comics']:\n",
    "        if f in x.lower():\n",
    "            return 'Fiction'\n",
    "        \n",
    "    if 'poetry' in x.lower():\n",
    "        return 'Other'\n",
    "    \n",
    "    return 'Nonfiction'\n",
    "    \n",
    "book_metadata['genre'] = book_metadata.categories.apply(get_genre)\n",
    "# book_metadata['genre'].value_counts(normalize=True)\n",
    "book_metadata['age_group'] = book_metadata.categories.apply(get_book_age_group)\n",
    "# book_metadata['age_group'].value_counts(normalize=True)"
   ]
  },
  {
   "cell_type": "code",
   "execution_count": 215,
   "metadata": {
    "hidden": true
   },
   "outputs": [
    {
     "data": {
      "image/png": "[encoded data removed]",
      "text/plain": [
       "<Figure size 720x360 with 2 Axes>"
      ]
     },
     "metadata": {},
     "output_type": "display_data"
    }
   ],
   "source": [
    "# https://stackoverflow.com/questions/14279344/how-can-i-add-textures-to-my-bars-and-wedges\n",
    "\n",
    "# 3 pie charts - one for each GROUP -  Not self aware, Self aware, and US Adults 2022\n",
    "fig, axes = plt.subplots(1,2, figsize=(10,5))\n",
    "\n",
    "for ax, col_name in zip(axes, ['age_group', 'genre']):\n",
    "    d = book_metadata[col_name].value_counts(normalize=True).reset_index()\n",
    "    d.columns=[col_name, 'Percentage']\n",
    "    d['label'] = d.apply(lambda x: f\"{x[col_name]}(\" + '{:.1%}'.format(x.Percentage) + ')', axis=1)\n",
    "    \n",
    "    patches, texts, autopcts = ax.pie(x=d.Percentage,\n",
    "                                      startangle=180,\n",
    "                                      labels=d[col_name],\n",
    "                                      autopct='%1.1f%%', \n",
    "                                      colors=COLORS, \n",
    "                                      counterclock=False,\n",
    "                                      textprops={'fontsize': 16}\n",
    "                                     )\n",
    "    plt.setp(autopcts, **{'fontsize':16})\n",
    "    ax.set_xlabel(col_name.replace('_', ' ').upper(), size=20)\n",
    "    \n",
    "plt.tight_layout()\n",
    "\n",
    "\n",
    "# plt.show()\n",
    "# plt.savefig('img/pct_crying_per_city_combined.png', transparent=True, bbox_inches='tight')\n",
    "# plt.show()"
   ]
  },
  {
   "cell_type": "markdown",
   "metadata": {},
   "source": [
    "### Banned Books descriptions - Topic Modeling"
   ]
  },
  {
   "cell_type": "code",
   "execution_count": 1,
   "metadata": {},
   "outputs": [],
   "source": [
    "from bertopic import BERTopic\n",
    "from sklearn.feature_extraction.text import CountVectorizer\n",
    "from sklearn.feature_extraction import text"
   ]
  },
  {
   "cell_type": "code",
   "execution_count": null,
   "metadata": {},
   "outputs": [],
   "source": [
    "descriptions = book_metadata[book_metadata.description.notnull()].description\n",
    "def clean_desc(x):\n",
    "    if pd.isna(x): return []\n",
    "    return clean_tokens(x.split())\n",
    "book_metadata['clean_description'] = book_metadata.description.apply(clean_desc)\n",
    "\n",
    "\n",
    "desc_toks = [i for sublist in descriptions for i in sublist.split()]\n",
    "desc_toks = clean_tokens(desc_toks)"
   ]
  },
  {
   "cell_type": "code",
   "execution_count": 351,
   "metadata": {
    "scrolled": true
   },
   "outputs": [
    {
     "data": {
      "application/vnd.jupyter.widget-view+json": {
       "model_id": "d46a8f4e9afa433d9e32215caea5fa82",
       "version_major": 2,
       "version_minor": 0
      },
      "text/plain": [
       "Batches:   0%|          | 0/51 [00:00<?, ?it/s]"
      ]
     },
     "metadata": {},
     "output_type": "display_data"
    },
    {
     "name": "stderr",
     "output_type": "stream",
     "text": [
      "2023-02-25 15:21:29,726 - BERTopic - Transformed documents to Embeddings\n",
      "2023-02-25 15:21:38,177 - BERTopic - Reduced dimensionality\n",
      "2023-02-25 15:21:38,658 - BERTopic - Clustered reduced embeddings\n"
     ]
    },
    {
     "data": {
      "text/html": [
       "<div>\n",
       "<style scoped>\n",
       "    .dataframe tbody tr th:only-of-type {\n",
       "        vertical-align: middle;\n",
       "    }\n",
       "\n",
       "    .dataframe tbody tr th {\n",
       "        vertical-align: top;\n",
       "    }\n",
       "\n",
       "    .dataframe thead th {\n",
       "        text-align: right;\n",
       "    }\n",
       "</style>\n",
       "<table border=\"1\" class=\"dataframe\">\n",
       "  <thead>\n",
       "    <tr style=\"text-align: right;\">\n",
       "      <th></th>\n",
       "      <th>Topic</th>\n",
       "      <th>Count</th>\n",
       "      <th>Name</th>\n",
       "    </tr>\n",
       "  </thead>\n",
       "  <tbody>\n",
       "    <tr>\n",
       "      <th>0</th>\n",
       "      <td>-1</td>\n",
       "      <td>820</td>\n",
       "      <td>-1_new_book_story_family</td>\n",
       "    </tr>\n",
       "    <tr>\n",
       "      <th>1</th>\n",
       "      <td>0</td>\n",
       "      <td>107</td>\n",
       "      <td>0_love_life_new_friend</td>\n",
       "    </tr>\n",
       "    <tr>\n",
       "      <th>2</th>\n",
       "      <td>1</td>\n",
       "      <td>88</td>\n",
       "      <td>1_boy_school_best_new</td>\n",
       "    </tr>\n",
       "    <tr>\n",
       "      <th>3</th>\n",
       "      <td>2</td>\n",
       "      <td>59</td>\n",
       "      <td>2_magic_fantasy_new_queen</td>\n",
       "    </tr>\n",
       "    <tr>\n",
       "      <th>4</th>\n",
       "      <td>3</td>\n",
       "      <td>54</td>\n",
       "      <td>3_gender_gay_transgender_lgbt</td>\n",
       "    </tr>\n",
       "    <tr>\n",
       "      <th>5</th>\n",
       "      <td>4</td>\n",
       "      <td>50</td>\n",
       "      <td>4_book_native_american_moon</td>\n",
       "    </tr>\n",
       "    <tr>\n",
       "      <th>6</th>\n",
       "      <td>5</td>\n",
       "      <td>43</td>\n",
       "      <td>5_love_story_life_girls</td>\n",
       "    </tr>\n",
       "    <tr>\n",
       "      <th>7</th>\n",
       "      <td>6</td>\n",
       "      <td>28</td>\n",
       "      <td>6_malala_hijab_book_story</td>\n",
       "    </tr>\n",
       "    <tr>\n",
       "      <th>8</th>\n",
       "      <td>7</td>\n",
       "      <td>28</td>\n",
       "      <td>7_students_schools_urban_education</td>\n",
       "    </tr>\n",
       "    <tr>\n",
       "      <th>9</th>\n",
       "      <td>8</td>\n",
       "      <td>27</td>\n",
       "      <td>8_movement_black_civil_civil rights</td>\n",
       "    </tr>\n",
       "    <tr>\n",
       "      <th>10</th>\n",
       "      <td>9</td>\n",
       "      <td>24</td>\n",
       "      <td>9_families_family_board_parents</td>\n",
       "    </tr>\n",
       "    <tr>\n",
       "      <th>11</th>\n",
       "      <td>10</td>\n",
       "      <td>21</td>\n",
       "      <td>10_sex_sexual_information_pregnancy</td>\n",
       "    </tr>\n",
       "    <tr>\n",
       "      <th>12</th>\n",
       "      <td>11</td>\n",
       "      <td>19</td>\n",
       "      <td>11_sofia_martinez_sofias_family</td>\n",
       "    </tr>\n",
       "    <tr>\n",
       "      <th>13</th>\n",
       "      <td>12</td>\n",
       "      <td>19</td>\n",
       "      <td>12_women_mathematician_science_math</td>\n",
       "    </tr>\n",
       "    <tr>\n",
       "      <th>14</th>\n",
       "      <td>13</td>\n",
       "      <td>18</td>\n",
       "      <td>13_lola_lolas_library_big</td>\n",
       "    </tr>\n",
       "    <tr>\n",
       "      <th>15</th>\n",
       "      <td>14</td>\n",
       "      <td>17</td>\n",
       "      <td>14_abortion_supreme_supreme court_court</td>\n",
       "    </tr>\n",
       "    <tr>\n",
       "      <th>16</th>\n",
       "      <td>15</td>\n",
       "      <td>17</td>\n",
       "      <td>15_zoey_house night_vampyre_night</td>\n",
       "    </tr>\n",
       "    <tr>\n",
       "      <th>17</th>\n",
       "      <td>16</td>\n",
       "      <td>17</td>\n",
       "      <td>16_coding_tony_tony awardwinning actress_julin</td>\n",
       "    </tr>\n",
       "    <tr>\n",
       "      <th>18</th>\n",
       "      <td>17</td>\n",
       "      <td>17</td>\n",
       "      <td>17_yasmin_yasmins_sound_nani</td>\n",
       "    </tr>\n",
       "    <tr>\n",
       "      <th>19</th>\n",
       "      <td>18</td>\n",
       "      <td>17</td>\n",
       "      <td>18_weir_thats_hit chapter_hit chapter book</td>\n",
       "    </tr>\n",
       "    <tr>\n",
       "      <th>20</th>\n",
       "      <td>19</td>\n",
       "      <td>16</td>\n",
       "      <td>19_desmond_desmond cole_cole_ghost</td>\n",
       "    </tr>\n",
       "    <tr>\n",
       "      <th>21</th>\n",
       "      <td>20</td>\n",
       "      <td>16</td>\n",
       "      <td>20_baseball_jackie_father_robinson</td>\n",
       "    </tr>\n",
       "    <tr>\n",
       "      <th>22</th>\n",
       "      <td>21</td>\n",
       "      <td>13</td>\n",
       "      <td>21_kindness_gift_world_book</td>\n",
       "    </tr>\n",
       "    <tr>\n",
       "      <th>23</th>\n",
       "      <td>22</td>\n",
       "      <td>13</td>\n",
       "      <td>22_taichi_futaba_toma_best friends fallen</td>\n",
       "    </tr>\n",
       "    <tr>\n",
       "      <th>24</th>\n",
       "      <td>23</td>\n",
       "      <td>13</td>\n",
       "      <td>23_white_race_racism_book</td>\n",
       "    </tr>\n",
       "    <tr>\n",
       "      <th>25</th>\n",
       "      <td>24</td>\n",
       "      <td>11</td>\n",
       "      <td>24_que_la_en_el</td>\n",
       "    </tr>\n",
       "    <tr>\n",
       "      <th>26</th>\n",
       "      <td>25</td>\n",
       "      <td>11</td>\n",
       "      <td>25_fifteenyearold_priest_high school seniors_s...</td>\n",
       "    </tr>\n",
       "    <tr>\n",
       "      <th>27</th>\n",
       "      <td>26</td>\n",
       "      <td>11</td>\n",
       "      <td>26_julia_grief_new_mother</td>\n",
       "    </tr>\n",
       "    <tr>\n",
       "      <th>28</th>\n",
       "      <td>27</td>\n",
       "      <td>11</td>\n",
       "      <td>27_music_jazz_carlos_angels</td>\n",
       "    </tr>\n",
       "    <tr>\n",
       "      <th>29</th>\n",
       "      <td>28</td>\n",
       "      <td>11</td>\n",
       "      <td>28_caste_book_bestseller_times</td>\n",
       "    </tr>\n",
       "  </tbody>\n",
       "</table>\n",
       "</div>"
      ],
      "text/plain": [
       "    Topic  Count                                               Name\n",
       "0      -1    820                           -1_new_book_story_family\n",
       "1       0    107                             0_love_life_new_friend\n",
       "2       1     88                              1_boy_school_best_new\n",
       "3       2     59                          2_magic_fantasy_new_queen\n",
       "4       3     54                      3_gender_gay_transgender_lgbt\n",
       "5       4     50                        4_book_native_american_moon\n",
       "6       5     43                            5_love_story_life_girls\n",
       "7       6     28                          6_malala_hijab_book_story\n",
       "8       7     28                 7_students_schools_urban_education\n",
       "9       8     27                8_movement_black_civil_civil rights\n",
       "10      9     24                    9_families_family_board_parents\n",
       "11     10     21                10_sex_sexual_information_pregnancy\n",
       "12     11     19                    11_sofia_martinez_sofias_family\n",
       "13     12     19                12_women_mathematician_science_math\n",
       "14     13     18                          13_lola_lolas_library_big\n",
       "15     14     17            14_abortion_supreme_supreme court_court\n",
       "16     15     17                  15_zoey_house night_vampyre_night\n",
       "17     16     17     16_coding_tony_tony awardwinning actress_julin\n",
       "18     17     17                       17_yasmin_yasmins_sound_nani\n",
       "19     18     17         18_weir_thats_hit chapter_hit chapter book\n",
       "20     19     16                 19_desmond_desmond cole_cole_ghost\n",
       "21     20     16                 20_baseball_jackie_father_robinson\n",
       "22     21     13                        21_kindness_gift_world_book\n",
       "23     22     13          22_taichi_futaba_toma_best friends fallen\n",
       "24     23     13                          23_white_race_racism_book\n",
       "25     24     11                                    24_que_la_en_el\n",
       "26     25     11  25_fifteenyearold_priest_high school seniors_s...\n",
       "27     26     11                          26_julia_grief_new_mother\n",
       "28     27     11                        27_music_jazz_carlos_angels\n",
       "29     28     11                     28_caste_book_bestseller_times"
      ]
     },
     "execution_count": 351,
     "metadata": {},
     "output_type": "execute_result"
    }
   ],
   "source": [
    "my_stop_words = list(text.ENGLISH_STOP_WORDS.union([\"she's\", \"he's\", \"shes\", \"hes\"]))\n",
    "# we add this to remove stopwords\n",
    "vectorizer_model = CountVectorizer(ngram_range=(1, 3), stop_words=my_stop_words)\n",
    "\n",
    "topic_model2 = BERTopic(\n",
    "    vectorizer_model=vectorizer_model,\n",
    "    language='english', \n",
    "    calculate_probabilities=True,\n",
    "    verbose=True\n",
    ")\n",
    "topics, probs = topic_model2.fit_transform(descriptions.values)\n",
    "\n",
    "topic_model2.get_topic_info()\n",
    "\n"
   ]
  },
  {
   "cell_type": "code",
   "execution_count": 405,
   "metadata": {},
   "outputs": [],
   "source": [
    "bookstopics = book_metadata[book_metadata.description.notnull()][['Author_lastname', 'Original_Title']]\n",
    "bookstopics['Topic'] = topics"
   ]
  },
  {
   "cell_type": "code",
   "execution_count": 406,
   "metadata": {},
   "outputs": [],
   "source": [
    "df_with_topics = df.Title.value_counts().reset_index()\n",
    "df_with_topics.columns = ['Original_Title', 'count']\n",
    "df_with_topics = df_with_topics.merge(bookstopics, on='Original_Title')\n",
    "df_with_topics['Title_Author'] = df_with_topics['Original_Title'] + ' (' + df_with_topics['Author_lastname'] + ')'\n"
   ]
  },
  {
   "cell_type": "code",
   "execution_count": 408,
   "metadata": {
    "scrolled": false
   },
   "outputs": [
    {
     "name": "stdout",
     "output_type": "stream",
     "text": [
      "Topic (0): New/Love\n",
      "The Truth About Alice: A Novel (Mathieu)\n",
      "Speak (Anderson)\n",
      "Blended (Draper)\n",
      "Sloppy Firsts (Jessica Darling Series) (McCafferty)\n",
      "The Upside of Unrequited (Simonverse Series) (Albertalli)\n",
      "Odd One Out (Stone)\n",
      "Ask the Passengers (King)\n",
      "As I Descended (Talley)\n",
      "If I Was Your Girl (Russo)\n",
      "The Opposite of Innocent (Sones)\n",
      "\n",
      "Topic (1): Boy/Gay\n",
      "Thirteen Reasons Why (Asher)\n",
      "Flamer (Curato)\n",
      "Jack of Hearts (and other parts) (Rosen)\n",
      "We Are the Ants (Hutchinson)\n",
      "Cemetery Boys (Thomas)\n",
      "Trans Mission: My Quest to a Beard (Bertie)\n",
      "Geography Club (Russel Middlebrook Series) (Hartinger)\n",
      "They Both Die at the End (Silvera)\n",
      "Darius the Great Deserves Better (Darius the Great Series) (Khorram)\n",
      "Class Act (Craft)\n",
      "\n",
      "Topic (2): Gender/Transgender\n",
      "City of Heavenly Fire (The Mortal Instruments Series) (Clare)\n",
      "Ash (Lo)\n",
      "Of Fire and Stars (Of Fire and Stars Series) (Coulthurst)\n",
      "A Court of Frost and Starlight (A Court of Thorns and Roses Series) (Maas)\n",
      "The Midnight Lie (Forgotten Gods Series) (Rutkoski)\n",
      "Graceling (Graceling Realm Series) (Cashore)\n",
      "Clockwork Princess (The Infernal Devices Series) (Clare)\n",
      "Of Ice and Shadows (Of Fire and Stars Series) (Coulthurst)\n",
      "A Court of Thorns and Roses (A Court of Thorns and Roses Series) (Maas)\n",
      "A ​Court of Silver Flames (A Court of Thorns and Roses Series) (Maas)\n",
      "\n",
      "Topic (3): Black/Racism\n",
      "Gender Queer: A Memoir (Kobabe)\n",
      "Beyond Magenta: Transgender Teens Speak Out (Kuklin)\n",
      "This Book Is Gay (Dawson)\n",
      "Pride: The Story of Harvey Milk and the Rainbow Flag (Sanders)\n",
      "Queer: The Ultimate LGBTQ Guide for Teens (Belge)\n",
      "Queer, There and Everywhere: 23 People Who Changed the World (Prager)\n",
      "Trans+: Love, Sex, Romance, and Being You (Gonzales)\n",
      "The Gender Quest Workbook: A Guide for Teens and Young Adults Exploring Gender Identity (Testa)\n",
      "Pride: Celebrating Diversity & Community (Stevenson)\n",
      "Teens and Gender Dysphoria (Nardo)\n",
      "\n",
      "Topic (4): Magic/Fantasy\n",
      "New Kid (Craft)\n",
      "Little & Lion (Colbert)\n",
      "The Vincent Boys (The Vincent Boys Series) (Glines)\n",
      "Encounter (Luby)\n",
      "Indian No More (McManis)\n",
      "We Are Grateful: Otsaliheliga (Sorell)\n",
      "Radiant Child: The Story of Young Artist Jean-Michel Basquiat (Steptoe)\n",
      "Seedfolks (Fleischman)\n",
      "Making a Play (The Field Party Series) (Glines)\n",
      "Away We Go (Ostrovski)\n",
      "\n",
      "Topic (9): Muslim/Hijab\n",
      "In Our Mothers' House (Polacco)\n",
      "Everywhere Babies (Meyers)\n",
      "The Baby Tree (Blackall)\n",
      "The Family Book (Parr)\n",
      "Baby & Solo (Posthuma)\n",
      "Remake (Remake Series) (Todd)\n",
      "It's Not the Stork!: A Book About Girls, Boys, Babies, Bodies, Families and Friends (Harris)\n",
      "Two Dads: A Book About Adopton (Robertson)\n",
      "Mommy, Mama, and Me (Newman)\n",
      "Daddy, Papa, and Me (Newman)\n",
      "\n",
      "Topic (12): Women/Science\n",
      "No Girls Allowed: Tales of Daring Women Dressed as Men for Love, Freedom and Adventure (Hughes)\n",
      "The Hope Chest (Schwabach)\n",
      "No Way, They Were Gay?: Hidden Lives and Secret Loves (Wind)\n",
      "The Imitation Game: Alan Turing Decoded (Ottaviani)\n",
      "25 Women Who Thought of It First (Sherman)\n",
      "25 Women Who Fought Back (Sherman)\n",
      "25 Women Who Dared to Go (Lassieur)\n",
      "Amelia to Zora: Twenty-Six Women Who Changed the World (Chin-Lee)\n",
      "Ada Byron Lovelace and the Thinking Machine (Wallmark)\n",
      "The Girl with a Mind for Math: The Story of Raye Montague (Mosca)\n",
      "\n",
      "Topic (14): Abortion/Supreme Court\n",
      "Separate Is Never Equal: Sylvia Mendez and Her Family’s Fight for Desegregation (Tonatiuh)\n",
      "The Abortion Debate (Essential Viewpoints) (Farrell)\n",
      "Roe v. Wade: The Untold Story of the Landmark Supreme Court Decision that Made Abortion Legal (Faux)\n",
      "Bioethics: Who Lives, Who Dies, And Who Decides? (Altman)\n",
      "Protect and Defend (Kerry Kilcannon Series) (Patterson)\n",
      "The Abortion Debate: Understanding the Issues (Issues in Focus Today) (Haney)\n",
      "Should Abortion Be Legal? (Mooney)\n",
      "LGBT Families (Changing Families) (Currie-McGhee)\n",
      "Jane Against the World: Roe v. Wade and the Fight for Reproductive Rights (Blumenthal)\n",
      "Abortion (Opposing Viewpoints Series) (Torr)\n",
      "\n"
     ]
    }
   ],
   "source": [
    "for topic_num in [0,1,2,3,4,9,12,14]:\n",
    "    print(f'Topic ({topic_num}):', topicmodel2labels[topic_num])\n",
    "    for i in df_with_topics[df_with_topics.Topic==topic_num]['Title_Author'].head(10):\n",
    "        print(i)\n",
    "    print()"
   ]
  },
  {
   "cell_type": "markdown",
   "metadata": {},
   "source": [
    "Set custom labels and display them on the chart"
   ]
  },
  {
   "cell_type": "code",
   "execution_count": 252,
   "metadata": {},
   "outputs": [],
   "source": [
    "topicmodel2labels = {\n",
    "    0: \"New/Love\",\n",
    "    1: \"Boy/Gay\",\n",
    "    2: \"Gender/Transgender\",\n",
    "    3: \"Black/Racism\",\n",
    "    4: \"Magic/Fantasy\",\n",
    "    9: \"Muslim/Hijab\",\n",
    "    12: \"Women/Science\",\n",
    "    14: \"Abortion/Supreme Court\"\n",
    "}\n",
    "topic_model2.set_topic_labels(topicmodel2labels)\n"
   ]
  },
  {
   "cell_type": "code",
   "execution_count": 253,
   "metadata": {},
   "outputs": [
    {
     "data": {
      "application/vnd.plotly.v1+json": {
       "config": {
        "plotlyServerURL": "https://plot.ly"
       },
       "data": [
        {
         "marker": {
          "color": "#D55E00"
         },
         "orientation": "h",
         "type": "bar",
         "x": [
          0.005980423922222265,
          0.006091352820187793,
          0.006135831210068063,
          0.006866996000305513,
          0.006895613984355036,
          0.007438238173351493,
          0.008186051155073473,
          0.008787037618116703
         ],
         "xaxis": "x",
         "y": [
          "story  ",
          "way  ",
          "best  ",
          "friend  ",
          "girl  ",
          "life  ",
          "love  ",
          "new  "
         ],
         "yaxis": "y"
        },
        {
         "marker": {
          "color": "#0072B2"
         },
         "orientation": "h",
         "type": "bar",
         "x": [
          0.00687801283127439,
          0.006990111407774874,
          0.007226303324223439,
          0.00787230591347918,
          0.007935581284185022,
          0.008283297143169298,
          0.008324402582437251,
          0.009345946302290086
         ],
         "xaxis": "x2",
         "y": [
          "author  ",
          "novel  ",
          "friend  ",
          "best  ",
          "gay  ",
          "new  ",
          "boy  ",
          "school  "
         ],
         "yaxis": "y2"
        },
        {
         "marker": {
          "color": "#CC79A7"
         },
         "orientation": "h",
         "type": "bar",
         "x": [
          0.008233817971875793,
          0.008590689589329334,
          0.009462411135516317,
          0.010698433392118126,
          0.011185919422471461,
          0.012984019920249463,
          0.015307952876287648,
          0.021988101232995744
         ],
         "xaxis": "x3",
         "y": [
          "teens  ",
          "body  ",
          "book  ",
          "gay  ",
          "people  ",
          "sex  ",
          "transgender  ",
          "gender  "
         ],
         "yaxis": "y3"
        },
        {
         "marker": {
          "color": "#E69F00"
         },
         "orientation": "h",
         "type": "bar",
         "x": [
          0.008833374253993973,
          0.009006773304828823,
          0.009512209256784206,
          0.009814380081993278,
          0.01110818474994466,
          0.012083594012552202,
          0.0130553061807755,
          0.01690867086828413
         ],
         "xaxis": "x4",
         "y": [
          "racial  ",
          "racism  ",
          "people  ",
          "civil  ",
          "history  ",
          "white  ",
          "book  ",
          "black  "
         ],
         "yaxis": "y4"
        },
        {
         "marker": {
          "color": "#56B4E9"
         },
         "orientation": "h",
         "type": "bar",
         "x": [
          0.006254658478872765,
          0.006541229106822254,
          0.006586118682427718,
          0.0066494816683679014,
          0.006776096749287858,
          0.009313395852784161,
          0.009959832810348042,
          0.011183217732125241
         ],
         "xaxis": "x5",
         "y": [
          "empire  ",
          "world  ",
          "author  ",
          "kingdom  ",
          "queen  ",
          "fantasy  ",
          "new  ",
          "magic  "
         ],
         "yaxis": "y5"
        },
        {
         "marker": {
          "color": "#009E73"
         },
         "orientation": "h",
         "type": "bar",
         "x": [
          0.00925588506617754,
          0.009778016798301295,
          0.009847228281884541,
          0.01038865148367182,
          0.010724949150056479,
          0.014034479577448505,
          0.014770842422826808,
          0.021600610458195276
         ],
         "xaxis": "x6",
         "y": [
          "new  ",
          "peace  ",
          "nobel  ",
          "nobel peace  ",
          "book  ",
          "muslim  ",
          "hijab  ",
          "malala  "
         ],
         "yaxis": "y6"
        },
        {
         "marker": {
          "color": "#F0E442"
         },
         "orientation": "h",
         "type": "bar",
         "x": [
          0.009442508361297338,
          0.010321600049909707,
          0.010630244852985435,
          0.01079119344256919,
          0.01180313545162167,
          0.013065637309480387,
          0.014223529943212897,
          0.04258306204204576
         ],
         "xaxis": "x7",
         "y": [
          "black women  ",
          "book  ",
          "cece  ",
          "history  ",
          "mathematician  ",
          "world  ",
          "science  ",
          "women  "
         ],
         "yaxis": "y7"
        },
        {
         "marker": {
          "color": "#D55E00"
         },
         "orientation": "h",
         "type": "bar",
         "x": [
          0.021591571976725073,
          0.022028061290448604,
          0.022717067685095033,
          0.02601913658900836,
          0.028968013390129794,
          0.03009849048478018,
          0.03306518087415866,
          0.04587635480136374
         ],
         "xaxis": "x8",
         "y": [
          "buck  ",
          "sterilization  ",
          "case  ",
          "justice  ",
          "court  ",
          "supreme court  ",
          "supreme  ",
          "abortion  "
         ],
         "yaxis": "y8"
        }
       ],
       "layout": {
        "annotations": [
         {
          "font": {
           "size": 16
          },
          "showarrow": false,
          "text": "New/Love",
          "x": 0.0875,
          "xanchor": "center",
          "xref": "paper",
          "y": 1,
          "yanchor": "bottom",
          "yref": "paper"
         },
         {
          "font": {
           "size": 16
          },
          "showarrow": false,
          "text": "Boy/Gay",
          "x": 0.36250000000000004,
          "xanchor": "center",
          "xref": "paper",
          "y": 1,
          "yanchor": "bottom",
          "yref": "paper"
         },
         {
          "font": {
           "size": 16
          },
          "showarrow": false,
          "text": "Gender/Transgender",
          "x": 0.6375000000000001,
          "xanchor": "center",
          "xref": "paper",
          "y": 1,
          "yanchor": "bottom",
          "yref": "paper"
         },
         {
          "font": {
           "size": 16
          },
          "showarrow": false,
          "text": "Black/Racism",
          "x": 0.9125,
          "xanchor": "center",
          "xref": "paper",
          "y": 1,
          "yanchor": "bottom",
          "yref": "paper"
         },
         {
          "font": {
           "size": 16
          },
          "showarrow": false,
          "text": "Magic/Fantasy",
          "x": 0.0875,
          "xanchor": "center",
          "xref": "paper",
          "y": 0.4,
          "yanchor": "bottom",
          "yref": "paper"
         },
         {
          "font": {
           "size": 16
          },
          "showarrow": false,
          "text": "Muslim/Hijab",
          "x": 0.36250000000000004,
          "xanchor": "center",
          "xref": "paper",
          "y": 0.4,
          "yanchor": "bottom",
          "yref": "paper"
         },
         {
          "font": {
           "size": 16
          },
          "showarrow": false,
          "text": "Women/Science",
          "x": 0.6375000000000001,
          "xanchor": "center",
          "xref": "paper",
          "y": 0.4,
          "yanchor": "bottom",
          "yref": "paper"
         },
         {
          "font": {
           "size": 16
          },
          "showarrow": false,
          "text": "Abortion/Supreme Court",
          "x": 0.9125,
          "xanchor": "center",
          "xref": "paper",
          "y": 0.4,
          "yanchor": "bottom",
          "yref": "paper"
         }
        ],
        "height": 500,
        "hoverlabel": {
         "bgcolor": "white",
         "font": {
          "family": "Rockwell",
          "size": 16
         }
        },
        "showlegend": false,
        "template": {
         "data": {
          "bar": [
           {
            "error_x": {
             "color": "#2a3f5f"
            },
            "error_y": {
             "color": "#2a3f5f"
            },
            "marker": {
             "line": {
              "color": "white",
              "width": 0.5
             },
             "pattern": {
              "fillmode": "overlay",
              "size": 10,
              "solidity": 0.2
             }
            },
            "type": "bar"
           }
          ],
          "barpolar": [
           {
            "marker": {
             "line": {
              "color": "white",
              "width": 0.5
             },
             "pattern": {
              "fillmode": "overlay",
              "size": 10,
              "solidity": 0.2
             }
            },
            "type": "barpolar"
           }
          ],
          "carpet": [
           {
            "aaxis": {
             "endlinecolor": "#2a3f5f",
             "gridcolor": "#C8D4E3",
             "linecolor": "#C8D4E3",
             "minorgridcolor": "#C8D4E3",
             "startlinecolor": "#2a3f5f"
            },
            "baxis": {
             "endlinecolor": "#2a3f5f",
             "gridcolor": "#C8D4E3",
             "linecolor": "#C8D4E3",
             "minorgridcolor": "#C8D4E3",
             "startlinecolor": "#2a3f5f"
            },
            "type": "carpet"
           }
          ],
          "choropleth": [
           {
            "colorbar": {
             "outlinewidth": 0,
             "ticks": ""
            },
            "type": "choropleth"
           }
          ],
          "contour": [
           {
            "colorbar": {
             "outlinewidth": 0,
             "ticks": ""
            },
            "colorscale": [
             [
              0,
              "#0d0887"
             ],
             [
              0.1111111111111111,
              "#46039f"
             ],
             [
              0.2222222222222222,
              "#7201a8"
             ],
             [
              0.3333333333333333,
              "#9c179e"
             ],
             [
              0.4444444444444444,
              "#bd3786"
             ],
             [
              0.5555555555555556,
              "#d8576b"
             ],
             [
              0.6666666666666666,
              "#ed7953"
             ],
             [
              0.7777777777777778,
              "#fb9f3a"
             ],
             [
              0.8888888888888888,
              "#fdca26"
             ],
             [
              1,
              "#f0f921"
             ]
            ],
            "type": "contour"
           }
          ],
          "contourcarpet": [
           {
            "colorbar": {
             "outlinewidth": 0,
             "ticks": ""
            },
            "type": "contourcarpet"
           }
          ],
          "heatmap": [
           {
            "colorbar": {
             "outlinewidth": 0,
             "ticks": ""
            },
            "colorscale": [
             [
              0,
              "#0d0887"
             ],
             [
              0.1111111111111111,
              "#46039f"
             ],
             [
              0.2222222222222222,
              "#7201a8"
             ],
             [
              0.3333333333333333,
              "#9c179e"
             ],
             [
              0.4444444444444444,
              "#bd3786"
             ],
             [
              0.5555555555555556,
              "#d8576b"
             ],
             [
              0.6666666666666666,
              "#ed7953"
             ],
             [
              0.7777777777777778,
              "#fb9f3a"
             ],
             [
              0.8888888888888888,
              "#fdca26"
             ],
             [
              1,
              "#f0f921"
             ]
            ],
            "type": "heatmap"
           }
          ],
          "heatmapgl": [
           {
            "colorbar": {
             "outlinewidth": 0,
             "ticks": ""
            },
            "colorscale": [
             [
              0,
              "#0d0887"
             ],
             [
              0.1111111111111111,
              "#46039f"
             ],
             [
              0.2222222222222222,
              "#7201a8"
             ],
             [
              0.3333333333333333,
              "#9c179e"
             ],
             [
              0.4444444444444444,
              "#bd3786"
             ],
             [
              0.5555555555555556,
              "#d8576b"
             ],
             [
              0.6666666666666666,
              "#ed7953"
             ],
             [
              0.7777777777777778,
              "#fb9f3a"
             ],
             [
              0.8888888888888888,
              "#fdca26"
             ],
             [
              1,
              "#f0f921"
             ]
            ],
            "type": "heatmapgl"
           }
          ],
          "histogram": [
           {
            "marker": {
             "pattern": {
              "fillmode": "overlay",
              "size": 10,
              "solidity": 0.2
             }
            },
            "type": "histogram"
           }
          ],
          "histogram2d": [
           {
            "colorbar": {
             "outlinewidth": 0,
             "ticks": ""
            },
            "colorscale": [
             [
              0,
              "#0d0887"
             ],
             [
              0.1111111111111111,
              "#46039f"
             ],
             [
              0.2222222222222222,
              "#7201a8"
             ],
             [
              0.3333333333333333,
              "#9c179e"
             ],
             [
              0.4444444444444444,
              "#bd3786"
             ],
             [
              0.5555555555555556,
              "#d8576b"
             ],
             [
              0.6666666666666666,
              "#ed7953"
             ],
             [
              0.7777777777777778,
              "#fb9f3a"
             ],
             [
              0.8888888888888888,
              "#fdca26"
             ],
             [
              1,
              "#f0f921"
             ]
            ],
            "type": "histogram2d"
           }
          ],
          "histogram2dcontour": [
           {
            "colorbar": {
             "outlinewidth": 0,
             "ticks": ""
            },
            "colorscale": [
             [
              0,
              "#0d0887"
             ],
             [
              0.1111111111111111,
              "#46039f"
             ],
             [
              0.2222222222222222,
              "#7201a8"
             ],
             [
              0.3333333333333333,
              "#9c179e"
             ],
             [
              0.4444444444444444,
              "#bd3786"
             ],
             [
              0.5555555555555556,
              "#d8576b"
             ],
             [
              0.6666666666666666,
              "#ed7953"
             ],
             [
              0.7777777777777778,
              "#fb9f3a"
             ],
             [
              0.8888888888888888,
              "#fdca26"
             ],
             [
              1,
              "#f0f921"
             ]
            ],
            "type": "histogram2dcontour"
           }
          ],
          "mesh3d": [
           {
            "colorbar": {
             "outlinewidth": 0,
             "ticks": ""
            },
            "type": "mesh3d"
           }
          ],
          "parcoords": [
           {
            "line": {
             "colorbar": {
              "outlinewidth": 0,
              "ticks": ""
             }
            },
            "type": "parcoords"
           }
          ],
          "pie": [
           {
            "automargin": true,
            "type": "pie"
           }
          ],
          "scatter": [
           {
            "fillpattern": {
             "fillmode": "overlay",
             "size": 10,
             "solidity": 0.2
            },
            "type": "scatter"
           }
          ],
          "scatter3d": [
           {
            "line": {
             "colorbar": {
              "outlinewidth": 0,
              "ticks": ""
             }
            },
            "marker": {
             "colorbar": {
              "outlinewidth": 0,
              "ticks": ""
             }
            },
            "type": "scatter3d"
           }
          ],
          "scattercarpet": [
           {
            "marker": {
             "colorbar": {
              "outlinewidth": 0,
              "ticks": ""
             }
            },
            "type": "scattercarpet"
           }
          ],
          "scattergeo": [
           {
            "marker": {
             "colorbar": {
              "outlinewidth": 0,
              "ticks": ""
             }
            },
            "type": "scattergeo"
           }
          ],
          "scattergl": [
           {
            "marker": {
             "colorbar": {
              "outlinewidth": 0,
              "ticks": ""
             }
            },
            "type": "scattergl"
           }
          ],
          "scattermapbox": [
           {
            "marker": {
             "colorbar": {
              "outlinewidth": 0,
              "ticks": ""
             }
            },
            "type": "scattermapbox"
           }
          ],
          "scatterpolar": [
           {
            "marker": {
             "colorbar": {
              "outlinewidth": 0,
              "ticks": ""
             }
            },
            "type": "scatterpolar"
           }
          ],
          "scatterpolargl": [
           {
            "marker": {
             "colorbar": {
              "outlinewidth": 0,
              "ticks": ""
             }
            },
            "type": "scatterpolargl"
           }
          ],
          "scatterternary": [
           {
            "marker": {
             "colorbar": {
              "outlinewidth": 0,
              "ticks": ""
             }
            },
            "type": "scatterternary"
           }
          ],
          "surface": [
           {
            "colorbar": {
             "outlinewidth": 0,
             "ticks": ""
            },
            "colorscale": [
             [
              0,
              "#0d0887"
             ],
             [
              0.1111111111111111,
              "#46039f"
             ],
             [
              0.2222222222222222,
              "#7201a8"
             ],
             [
              0.3333333333333333,
              "#9c179e"
             ],
             [
              0.4444444444444444,
              "#bd3786"
             ],
             [
              0.5555555555555556,
              "#d8576b"
             ],
             [
              0.6666666666666666,
              "#ed7953"
             ],
             [
              0.7777777777777778,
              "#fb9f3a"
             ],
             [
              0.8888888888888888,
              "#fdca26"
             ],
             [
              1,
              "#f0f921"
             ]
            ],
            "type": "surface"
           }
          ],
          "table": [
           {
            "cells": {
             "fill": {
              "color": "#EBF0F8"
             },
             "line": {
              "color": "white"
             }
            },
            "header": {
             "fill": {
              "color": "#C8D4E3"
             },
             "line": {
              "color": "white"
             }
            },
            "type": "table"
           }
          ]
         },
         "layout": {
          "annotationdefaults": {
           "arrowcolor": "#2a3f5f",
           "arrowhead": 0,
           "arrowwidth": 1
          },
          "autotypenumbers": "strict",
          "coloraxis": {
           "colorbar": {
            "outlinewidth": 0,
            "ticks": ""
           }
          },
          "colorscale": {
           "diverging": [
            [
             0,
             "#8e0152"
            ],
            [
             0.1,
             "#c51b7d"
            ],
            [
             0.2,
             "#de77ae"
            ],
            [
             0.3,
             "#f1b6da"
            ],
            [
             0.4,
             "#fde0ef"
            ],
            [
             0.5,
             "#f7f7f7"
            ],
            [
             0.6,
             "#e6f5d0"
            ],
            [
             0.7,
             "#b8e186"
            ],
            [
             0.8,
             "#7fbc41"
            ],
            [
             0.9,
             "#4d9221"
            ],
            [
             1,
             "#276419"
            ]
           ],
           "sequential": [
            [
             0,
             "#0d0887"
            ],
            [
             0.1111111111111111,
             "#46039f"
            ],
            [
             0.2222222222222222,
             "#7201a8"
            ],
            [
             0.3333333333333333,
             "#9c179e"
            ],
            [
             0.4444444444444444,
             "#bd3786"
            ],
            [
             0.5555555555555556,
             "#d8576b"
            ],
            [
             0.6666666666666666,
             "#ed7953"
            ],
            [
             0.7777777777777778,
             "#fb9f3a"
            ],
            [
             0.8888888888888888,
             "#fdca26"
            ],
            [
             1,
             "#f0f921"
            ]
           ],
           "sequentialminus": [
            [
             0,
             "#0d0887"
            ],
            [
             0.1111111111111111,
             "#46039f"
            ],
            [
             0.2222222222222222,
             "#7201a8"
            ],
            [
             0.3333333333333333,
             "#9c179e"
            ],
            [
             0.4444444444444444,
             "#bd3786"
            ],
            [
             0.5555555555555556,
             "#d8576b"
            ],
            [
             0.6666666666666666,
             "#ed7953"
            ],
            [
             0.7777777777777778,
             "#fb9f3a"
            ],
            [
             0.8888888888888888,
             "#fdca26"
            ],
            [
             1,
             "#f0f921"
            ]
           ]
          },
          "colorway": [
           "#636efa",
           "#EF553B",
           "#00cc96",
           "#ab63fa",
           "#FFA15A",
           "#19d3f3",
           "#FF6692",
           "#B6E880",
           "#FF97FF",
           "#FECB52"
          ],
          "font": {
           "color": "#2a3f5f"
          },
          "geo": {
           "bgcolor": "white",
           "lakecolor": "white",
           "landcolor": "white",
           "showlakes": true,
           "showland": true,
           "subunitcolor": "#C8D4E3"
          },
          "hoverlabel": {
           "align": "left"
          },
          "hovermode": "closest",
          "mapbox": {
           "style": "light"
          },
          "paper_bgcolor": "white",
          "plot_bgcolor": "white",
          "polar": {
           "angularaxis": {
            "gridcolor": "#EBF0F8",
            "linecolor": "#EBF0F8",
            "ticks": ""
           },
           "bgcolor": "white",
           "radialaxis": {
            "gridcolor": "#EBF0F8",
            "linecolor": "#EBF0F8",
            "ticks": ""
           }
          },
          "scene": {
           "xaxis": {
            "backgroundcolor": "white",
            "gridcolor": "#DFE8F3",
            "gridwidth": 2,
            "linecolor": "#EBF0F8",
            "showbackground": true,
            "ticks": "",
            "zerolinecolor": "#EBF0F8"
           },
           "yaxis": {
            "backgroundcolor": "white",
            "gridcolor": "#DFE8F3",
            "gridwidth": 2,
            "linecolor": "#EBF0F8",
            "showbackground": true,
            "ticks": "",
            "zerolinecolor": "#EBF0F8"
           },
           "zaxis": {
            "backgroundcolor": "white",
            "gridcolor": "#DFE8F3",
            "gridwidth": 2,
            "linecolor": "#EBF0F8",
            "showbackground": true,
            "ticks": "",
            "zerolinecolor": "#EBF0F8"
           }
          },
          "shapedefaults": {
           "line": {
            "color": "#2a3f5f"
           }
          },
          "ternary": {
           "aaxis": {
            "gridcolor": "#DFE8F3",
            "linecolor": "#A2B1C6",
            "ticks": ""
           },
           "baxis": {
            "gridcolor": "#DFE8F3",
            "linecolor": "#A2B1C6",
            "ticks": ""
           },
           "bgcolor": "white",
           "caxis": {
            "gridcolor": "#DFE8F3",
            "linecolor": "#A2B1C6",
            "ticks": ""
           }
          },
          "title": {
           "x": 0.05
          },
          "xaxis": {
           "automargin": true,
           "gridcolor": "#EBF0F8",
           "linecolor": "#EBF0F8",
           "ticks": "",
           "title": {
            "standoff": 15
           },
           "zerolinecolor": "#EBF0F8",
           "zerolinewidth": 2
          },
          "yaxis": {
           "automargin": true,
           "gridcolor": "#EBF0F8",
           "linecolor": "#EBF0F8",
           "ticks": "",
           "title": {
            "standoff": 15
           },
           "zerolinecolor": "#EBF0F8",
           "zerolinewidth": 2
          }
         }
        },
        "title": {
         "font": {
          "color": "Black",
          "size": 22
         },
         "text": "",
         "x": 0.5,
         "xanchor": "center",
         "yanchor": "top"
        },
        "width": 1000,
        "xaxis": {
         "anchor": "y",
         "domain": [
          0,
          0.175
         ],
         "showgrid": true
        },
        "xaxis2": {
         "anchor": "y2",
         "domain": [
          0.275,
          0.45
         ],
         "showgrid": true
        },
        "xaxis3": {
         "anchor": "y3",
         "domain": [
          0.55,
          0.7250000000000001
         ],
         "showgrid": true
        },
        "xaxis4": {
         "anchor": "y4",
         "domain": [
          0.825,
          1
         ],
         "showgrid": true
        },
        "xaxis5": {
         "anchor": "y5",
         "domain": [
          0,
          0.175
         ],
         "showgrid": true
        },
        "xaxis6": {
         "anchor": "y6",
         "domain": [
          0.275,
          0.45
         ],
         "showgrid": true
        },
        "xaxis7": {
         "anchor": "y7",
         "domain": [
          0.55,
          0.7250000000000001
         ],
         "showgrid": true
        },
        "xaxis8": {
         "anchor": "y8",
         "domain": [
          0.825,
          1
         ],
         "showgrid": true
        },
        "yaxis": {
         "anchor": "x",
         "domain": [
          0.6000000000000001,
          1
         ],
         "showgrid": true
        },
        "yaxis2": {
         "anchor": "x2",
         "domain": [
          0.6000000000000001,
          1
         ],
         "showgrid": true
        },
        "yaxis3": {
         "anchor": "x3",
         "domain": [
          0.6000000000000001,
          1
         ],
         "showgrid": true
        },
        "yaxis4": {
         "anchor": "x4",
         "domain": [
          0.6000000000000001,
          1
         ],
         "showgrid": true
        },
        "yaxis5": {
         "anchor": "x5",
         "domain": [
          0,
          0.4
         ],
         "showgrid": true
        },
        "yaxis6": {
         "anchor": "x6",
         "domain": [
          0,
          0.4
         ],
         "showgrid": true
        },
        "yaxis7": {
         "anchor": "x7",
         "domain": [
          0,
          0.4
         ],
         "showgrid": true
        },
        "yaxis8": {
         "anchor": "x8",
         "domain": [
          0,
          0.4
         ],
         "showgrid": true
        }
       }
      },
      "text/html": [
       "<div>                            <div id=\"18f1ff34-e90c-4630-8f49-4b86d2a82fe5\" class=\"plotly-graph-div\" style=\"height:500px; width:1000px;\"></div>            <script type=\"text/javascript\">                require([\"plotly\"], function(Plotly) {                    window.PLOTLYENV=window.PLOTLYENV || {};                                    if (document.getElementById(\"18f1ff34-e90c-4630-8f49-4b86d2a82fe5\")) {                    Plotly.newPlot(                        \"18f1ff34-e90c-4630-8f49-4b86d2a82fe5\",                        [{\"marker\":{\"color\":\"#D55E00\"},\"orientation\":\"h\",\"x\":[0.005980423922222265,0.006091352820187793,0.006135831210068063,0.006866996000305513,0.006895613984355036,0.007438238173351493,0.008186051155073473,0.008787037618116703],\"y\":[\"story  \",\"way  \",\"best  \",\"friend  \",\"girl  \",\"life  \",\"love  \",\"new  \"],\"type\":\"bar\",\"xaxis\":\"x\",\"yaxis\":\"y\"},{\"marker\":{\"color\":\"#0072B2\"},\"orientation\":\"h\",\"x\":[0.00687801283127439,0.006990111407774874,0.007226303324223439,0.00787230591347918,0.007935581284185022,0.008283297143169298,0.008324402582437251,0.009345946302290086],\"y\":[\"author  \",\"novel  \",\"friend  \",\"best  \",\"gay  \",\"new  \",\"boy  \",\"school  \"],\"type\":\"bar\",\"xaxis\":\"x2\",\"yaxis\":\"y2\"},{\"marker\":{\"color\":\"#CC79A7\"},\"orientation\":\"h\",\"x\":[0.008233817971875793,0.008590689589329334,0.009462411135516317,0.010698433392118126,0.011185919422471461,0.012984019920249463,0.015307952876287648,0.021988101232995744],\"y\":[\"teens  \",\"body  \",\"book  \",\"gay  \",\"people  \",\"sex  \",\"transgender  \",\"gender  \"],\"type\":\"bar\",\"xaxis\":\"x3\",\"yaxis\":\"y3\"},{\"marker\":{\"color\":\"#E69F00\"},\"orientation\":\"h\",\"x\":[0.008833374253993973,0.009006773304828823,0.009512209256784206,0.009814380081993278,0.01110818474994466,0.012083594012552202,0.0130553061807755,0.01690867086828413],\"y\":[\"racial  \",\"racism  \",\"people  \",\"civil  \",\"history  \",\"white  \",\"book  \",\"black  \"],\"type\":\"bar\",\"xaxis\":\"x4\",\"yaxis\":\"y4\"},{\"marker\":{\"color\":\"#56B4E9\"},\"orientation\":\"h\",\"x\":[0.006254658478872765,0.006541229106822254,0.006586118682427718,0.0066494816683679014,0.006776096749287858,0.009313395852784161,0.009959832810348042,0.011183217732125241],\"y\":[\"empire  \",\"world  \",\"author  \",\"kingdom  \",\"queen  \",\"fantasy  \",\"new  \",\"magic  \"],\"type\":\"bar\",\"xaxis\":\"x5\",\"yaxis\":\"y5\"},{\"marker\":{\"color\":\"#009E73\"},\"orientation\":\"h\",\"x\":[0.00925588506617754,0.009778016798301295,0.009847228281884541,0.01038865148367182,0.010724949150056479,0.014034479577448505,0.014770842422826808,0.021600610458195276],\"y\":[\"new  \",\"peace  \",\"nobel  \",\"nobel peace  \",\"book  \",\"muslim  \",\"hijab  \",\"malala  \"],\"type\":\"bar\",\"xaxis\":\"x6\",\"yaxis\":\"y6\"},{\"marker\":{\"color\":\"#F0E442\"},\"orientation\":\"h\",\"x\":[0.009442508361297338,0.010321600049909707,0.010630244852985435,0.01079119344256919,0.01180313545162167,0.013065637309480387,0.014223529943212897,0.04258306204204576],\"y\":[\"black women  \",\"book  \",\"cece  \",\"history  \",\"mathematician  \",\"world  \",\"science  \",\"women  \"],\"type\":\"bar\",\"xaxis\":\"x7\",\"yaxis\":\"y7\"},{\"marker\":{\"color\":\"#D55E00\"},\"orientation\":\"h\",\"x\":[0.021591571976725073,0.022028061290448604,0.022717067685095033,0.02601913658900836,0.028968013390129794,0.03009849048478018,0.03306518087415866,0.04587635480136374],\"y\":[\"buck  \",\"sterilization  \",\"case  \",\"justice  \",\"court  \",\"supreme court  \",\"supreme  \",\"abortion  \"],\"type\":\"bar\",\"xaxis\":\"x8\",\"yaxis\":\"y8\"}],                        {\"template\":{\"data\":{\"barpolar\":[{\"marker\":{\"line\":{\"color\":\"white\",\"width\":0.5},\"pattern\":{\"fillmode\":\"overlay\",\"size\":10,\"solidity\":0.2}},\"type\":\"barpolar\"}],\"bar\":[{\"error_x\":{\"color\":\"#2a3f5f\"},\"error_y\":{\"color\":\"#2a3f5f\"},\"marker\":{\"line\":{\"color\":\"white\",\"width\":0.5},\"pattern\":{\"fillmode\":\"overlay\",\"size\":10,\"solidity\":0.2}},\"type\":\"bar\"}],\"carpet\":[{\"aaxis\":{\"endlinecolor\":\"#2a3f5f\",\"gridcolor\":\"#C8D4E3\",\"linecolor\":\"#C8D4E3\",\"minorgridcolor\":\"#C8D4E3\",\"startlinecolor\":\"#2a3f5f\"},\"baxis\":{\"endlinecolor\":\"#2a3f5f\",\"gridcolor\":\"#C8D4E3\",\"linecolor\":\"#C8D4E3\",\"minorgridcolor\":\"#C8D4E3\",\"startlinecolor\":\"#2a3f5f\"},\"type\":\"carpet\"}],\"choropleth\":[{\"colorbar\":{\"outlinewidth\":0,\"ticks\":\"\"},\"type\":\"choropleth\"}],\"contourcarpet\":[{\"colorbar\":{\"outlinewidth\":0,\"ticks\":\"\"},\"type\":\"contourcarpet\"}],\"contour\":[{\"colorbar\":{\"outlinewidth\":0,\"ticks\":\"\"},\"colorscale\":[[0.0,\"#0d0887\"],[0.1111111111111111,\"#46039f\"],[0.2222222222222222,\"#7201a8\"],[0.3333333333333333,\"#9c179e\"],[0.4444444444444444,\"#bd3786\"],[0.5555555555555556,\"#d8576b\"],[0.6666666666666666,\"#ed7953\"],[0.7777777777777778,\"#fb9f3a\"],[0.8888888888888888,\"#fdca26\"],[1.0,\"#f0f921\"]],\"type\":\"contour\"}],\"heatmapgl\":[{\"colorbar\":{\"outlinewidth\":0,\"ticks\":\"\"},\"colorscale\":[[0.0,\"#0d0887\"],[0.1111111111111111,\"#46039f\"],[0.2222222222222222,\"#7201a8\"],[0.3333333333333333,\"#9c179e\"],[0.4444444444444444,\"#bd3786\"],[0.5555555555555556,\"#d8576b\"],[0.6666666666666666,\"#ed7953\"],[0.7777777777777778,\"#fb9f3a\"],[0.8888888888888888,\"#fdca26\"],[1.0,\"#f0f921\"]],\"type\":\"heatmapgl\"}],\"heatmap\":[{\"colorbar\":{\"outlinewidth\":0,\"ticks\":\"\"},\"colorscale\":[[0.0,\"#0d0887\"],[0.1111111111111111,\"#46039f\"],[0.2222222222222222,\"#7201a8\"],[0.3333333333333333,\"#9c179e\"],[0.4444444444444444,\"#bd3786\"],[0.5555555555555556,\"#d8576b\"],[0.6666666666666666,\"#ed7953\"],[0.7777777777777778,\"#fb9f3a\"],[0.8888888888888888,\"#fdca26\"],[1.0,\"#f0f921\"]],\"type\":\"heatmap\"}],\"histogram2dcontour\":[{\"colorbar\":{\"outlinewidth\":0,\"ticks\":\"\"},\"colorscale\":[[0.0,\"#0d0887\"],[0.1111111111111111,\"#46039f\"],[0.2222222222222222,\"#7201a8\"],[0.3333333333333333,\"#9c179e\"],[0.4444444444444444,\"#bd3786\"],[0.5555555555555556,\"#d8576b\"],[0.6666666666666666,\"#ed7953\"],[0.7777777777777778,\"#fb9f3a\"],[0.8888888888888888,\"#fdca26\"],[1.0,\"#f0f921\"]],\"type\":\"histogram2dcontour\"}],\"histogram2d\":[{\"colorbar\":{\"outlinewidth\":0,\"ticks\":\"\"},\"colorscale\":[[0.0,\"#0d0887\"],[0.1111111111111111,\"#46039f\"],[0.2222222222222222,\"#7201a8\"],[0.3333333333333333,\"#9c179e\"],[0.4444444444444444,\"#bd3786\"],[0.5555555555555556,\"#d8576b\"],[0.6666666666666666,\"#ed7953\"],[0.7777777777777778,\"#fb9f3a\"],[0.8888888888888888,\"#fdca26\"],[1.0,\"#f0f921\"]],\"type\":\"histogram2d\"}],\"histogram\":[{\"marker\":{\"pattern\":{\"fillmode\":\"overlay\",\"size\":10,\"solidity\":0.2}},\"type\":\"histogram\"}],\"mesh3d\":[{\"colorbar\":{\"outlinewidth\":0,\"ticks\":\"\"},\"type\":\"mesh3d\"}],\"parcoords\":[{\"line\":{\"colorbar\":{\"outlinewidth\":0,\"ticks\":\"\"}},\"type\":\"parcoords\"}],\"pie\":[{\"automargin\":true,\"type\":\"pie\"}],\"scatter3d\":[{\"line\":{\"colorbar\":{\"outlinewidth\":0,\"ticks\":\"\"}},\"marker\":{\"colorbar\":{\"outlinewidth\":0,\"ticks\":\"\"}},\"type\":\"scatter3d\"}],\"scattercarpet\":[{\"marker\":{\"colorbar\":{\"outlinewidth\":0,\"ticks\":\"\"}},\"type\":\"scattercarpet\"}],\"scattergeo\":[{\"marker\":{\"colorbar\":{\"outlinewidth\":0,\"ticks\":\"\"}},\"type\":\"scattergeo\"}],\"scattergl\":[{\"marker\":{\"colorbar\":{\"outlinewidth\":0,\"ticks\":\"\"}},\"type\":\"scattergl\"}],\"scattermapbox\":[{\"marker\":{\"colorbar\":{\"outlinewidth\":0,\"ticks\":\"\"}},\"type\":\"scattermapbox\"}],\"scatterpolargl\":[{\"marker\":{\"colorbar\":{\"outlinewidth\":0,\"ticks\":\"\"}},\"type\":\"scatterpolargl\"}],\"scatterpolar\":[{\"marker\":{\"colorbar\":{\"outlinewidth\":0,\"ticks\":\"\"}},\"type\":\"scatterpolar\"}],\"scatter\":[{\"fillpattern\":{\"fillmode\":\"overlay\",\"size\":10,\"solidity\":0.2},\"type\":\"scatter\"}],\"scatterternary\":[{\"marker\":{\"colorbar\":{\"outlinewidth\":0,\"ticks\":\"\"}},\"type\":\"scatterternary\"}],\"surface\":[{\"colorbar\":{\"outlinewidth\":0,\"ticks\":\"\"},\"colorscale\":[[0.0,\"#0d0887\"],[0.1111111111111111,\"#46039f\"],[0.2222222222222222,\"#7201a8\"],[0.3333333333333333,\"#9c179e\"],[0.4444444444444444,\"#bd3786\"],[0.5555555555555556,\"#d8576b\"],[0.6666666666666666,\"#ed7953\"],[0.7777777777777778,\"#fb9f3a\"],[0.8888888888888888,\"#fdca26\"],[1.0,\"#f0f921\"]],\"type\":\"surface\"}],\"table\":[{\"cells\":{\"fill\":{\"color\":\"#EBF0F8\"},\"line\":{\"color\":\"white\"}},\"header\":{\"fill\":{\"color\":\"#C8D4E3\"},\"line\":{\"color\":\"white\"}},\"type\":\"table\"}]},\"layout\":{\"annotationdefaults\":{\"arrowcolor\":\"#2a3f5f\",\"arrowhead\":0,\"arrowwidth\":1},\"autotypenumbers\":\"strict\",\"coloraxis\":{\"colorbar\":{\"outlinewidth\":0,\"ticks\":\"\"}},\"colorscale\":{\"diverging\":[[0,\"#8e0152\"],[0.1,\"#c51b7d\"],[0.2,\"#de77ae\"],[0.3,\"#f1b6da\"],[0.4,\"#fde0ef\"],[0.5,\"#f7f7f7\"],[0.6,\"#e6f5d0\"],[0.7,\"#b8e186\"],[0.8,\"#7fbc41\"],[0.9,\"#4d9221\"],[1,\"#276419\"]],\"sequential\":[[0.0,\"#0d0887\"],[0.1111111111111111,\"#46039f\"],[0.2222222222222222,\"#7201a8\"],[0.3333333333333333,\"#9c179e\"],[0.4444444444444444,\"#bd3786\"],[0.5555555555555556,\"#d8576b\"],[0.6666666666666666,\"#ed7953\"],[0.7777777777777778,\"#fb9f3a\"],[0.8888888888888888,\"#fdca26\"],[1.0,\"#f0f921\"]],\"sequentialminus\":[[0.0,\"#0d0887\"],[0.1111111111111111,\"#46039f\"],[0.2222222222222222,\"#7201a8\"],[0.3333333333333333,\"#9c179e\"],[0.4444444444444444,\"#bd3786\"],[0.5555555555555556,\"#d8576b\"],[0.6666666666666666,\"#ed7953\"],[0.7777777777777778,\"#fb9f3a\"],[0.8888888888888888,\"#fdca26\"],[1.0,\"#f0f921\"]]},\"colorway\":[\"#636efa\",\"#EF553B\",\"#00cc96\",\"#ab63fa\",\"#FFA15A\",\"#19d3f3\",\"#FF6692\",\"#B6E880\",\"#FF97FF\",\"#FECB52\"],\"font\":{\"color\":\"#2a3f5f\"},\"geo\":{\"bgcolor\":\"white\",\"lakecolor\":\"white\",\"landcolor\":\"white\",\"showlakes\":true,\"showland\":true,\"subunitcolor\":\"#C8D4E3\"},\"hoverlabel\":{\"align\":\"left\"},\"hovermode\":\"closest\",\"mapbox\":{\"style\":\"light\"},\"paper_bgcolor\":\"white\",\"plot_bgcolor\":\"white\",\"polar\":{\"angularaxis\":{\"gridcolor\":\"#EBF0F8\",\"linecolor\":\"#EBF0F8\",\"ticks\":\"\"},\"bgcolor\":\"white\",\"radialaxis\":{\"gridcolor\":\"#EBF0F8\",\"linecolor\":\"#EBF0F8\",\"ticks\":\"\"}},\"scene\":{\"xaxis\":{\"backgroundcolor\":\"white\",\"gridcolor\":\"#DFE8F3\",\"gridwidth\":2,\"linecolor\":\"#EBF0F8\",\"showbackground\":true,\"ticks\":\"\",\"zerolinecolor\":\"#EBF0F8\"},\"yaxis\":{\"backgroundcolor\":\"white\",\"gridcolor\":\"#DFE8F3\",\"gridwidth\":2,\"linecolor\":\"#EBF0F8\",\"showbackground\":true,\"ticks\":\"\",\"zerolinecolor\":\"#EBF0F8\"},\"zaxis\":{\"backgroundcolor\":\"white\",\"gridcolor\":\"#DFE8F3\",\"gridwidth\":2,\"linecolor\":\"#EBF0F8\",\"showbackground\":true,\"ticks\":\"\",\"zerolinecolor\":\"#EBF0F8\"}},\"shapedefaults\":{\"line\":{\"color\":\"#2a3f5f\"}},\"ternary\":{\"aaxis\":{\"gridcolor\":\"#DFE8F3\",\"linecolor\":\"#A2B1C6\",\"ticks\":\"\"},\"baxis\":{\"gridcolor\":\"#DFE8F3\",\"linecolor\":\"#A2B1C6\",\"ticks\":\"\"},\"bgcolor\":\"white\",\"caxis\":{\"gridcolor\":\"#DFE8F3\",\"linecolor\":\"#A2B1C6\",\"ticks\":\"\"}},\"title\":{\"x\":0.05},\"xaxis\":{\"automargin\":true,\"gridcolor\":\"#EBF0F8\",\"linecolor\":\"#EBF0F8\",\"ticks\":\"\",\"title\":{\"standoff\":15},\"zerolinecolor\":\"#EBF0F8\",\"zerolinewidth\":2},\"yaxis\":{\"automargin\":true,\"gridcolor\":\"#EBF0F8\",\"linecolor\":\"#EBF0F8\",\"ticks\":\"\",\"title\":{\"standoff\":15},\"zerolinecolor\":\"#EBF0F8\",\"zerolinewidth\":2}}},\"xaxis\":{\"anchor\":\"y\",\"domain\":[0.0,0.175],\"showgrid\":true},\"yaxis\":{\"anchor\":\"x\",\"domain\":[0.6000000000000001,1.0],\"showgrid\":true},\"xaxis2\":{\"anchor\":\"y2\",\"domain\":[0.275,0.45],\"showgrid\":true},\"yaxis2\":{\"anchor\":\"x2\",\"domain\":[0.6000000000000001,1.0],\"showgrid\":true},\"xaxis3\":{\"anchor\":\"y3\",\"domain\":[0.55,0.7250000000000001],\"showgrid\":true},\"yaxis3\":{\"anchor\":\"x3\",\"domain\":[0.6000000000000001,1.0],\"showgrid\":true},\"xaxis4\":{\"anchor\":\"y4\",\"domain\":[0.825,1.0],\"showgrid\":true},\"yaxis4\":{\"anchor\":\"x4\",\"domain\":[0.6000000000000001,1.0],\"showgrid\":true},\"xaxis5\":{\"anchor\":\"y5\",\"domain\":[0.0,0.175],\"showgrid\":true},\"yaxis5\":{\"anchor\":\"x5\",\"domain\":[0.0,0.4],\"showgrid\":true},\"xaxis6\":{\"anchor\":\"y6\",\"domain\":[0.275,0.45],\"showgrid\":true},\"yaxis6\":{\"anchor\":\"x6\",\"domain\":[0.0,0.4],\"showgrid\":true},\"xaxis7\":{\"anchor\":\"y7\",\"domain\":[0.55,0.7250000000000001],\"showgrid\":true},\"yaxis7\":{\"anchor\":\"x7\",\"domain\":[0.0,0.4],\"showgrid\":true},\"xaxis8\":{\"anchor\":\"y8\",\"domain\":[0.825,1.0],\"showgrid\":true},\"yaxis8\":{\"anchor\":\"x8\",\"domain\":[0.0,0.4],\"showgrid\":true},\"annotations\":[{\"font\":{\"size\":16},\"showarrow\":false,\"text\":\"New/Love\",\"x\":0.0875,\"xanchor\":\"center\",\"xref\":\"paper\",\"y\":1.0,\"yanchor\":\"bottom\",\"yref\":\"paper\"},{\"font\":{\"size\":16},\"showarrow\":false,\"text\":\"Boy/Gay\",\"x\":0.36250000000000004,\"xanchor\":\"center\",\"xref\":\"paper\",\"y\":1.0,\"yanchor\":\"bottom\",\"yref\":\"paper\"},{\"font\":{\"size\":16},\"showarrow\":false,\"text\":\"Gender/Transgender\",\"x\":0.6375000000000001,\"xanchor\":\"center\",\"xref\":\"paper\",\"y\":1.0,\"yanchor\":\"bottom\",\"yref\":\"paper\"},{\"font\":{\"size\":16},\"showarrow\":false,\"text\":\"Black/Racism\",\"x\":0.9125,\"xanchor\":\"center\",\"xref\":\"paper\",\"y\":1.0,\"yanchor\":\"bottom\",\"yref\":\"paper\"},{\"font\":{\"size\":16},\"showarrow\":false,\"text\":\"Magic/Fantasy\",\"x\":0.0875,\"xanchor\":\"center\",\"xref\":\"paper\",\"y\":0.4,\"yanchor\":\"bottom\",\"yref\":\"paper\"},{\"font\":{\"size\":16},\"showarrow\":false,\"text\":\"Muslim/Hijab\",\"x\":0.36250000000000004,\"xanchor\":\"center\",\"xref\":\"paper\",\"y\":0.4,\"yanchor\":\"bottom\",\"yref\":\"paper\"},{\"font\":{\"size\":16},\"showarrow\":false,\"text\":\"Women/Science\",\"x\":0.6375000000000001,\"xanchor\":\"center\",\"xref\":\"paper\",\"y\":0.4,\"yanchor\":\"bottom\",\"yref\":\"paper\"},{\"font\":{\"size\":16},\"showarrow\":false,\"text\":\"Abortion/Supreme Court\",\"x\":0.9125,\"xanchor\":\"center\",\"xref\":\"paper\",\"y\":0.4,\"yanchor\":\"bottom\",\"yref\":\"paper\"}],\"title\":{\"font\":{\"size\":22,\"color\":\"Black\"},\"text\":\"\",\"x\":0.5,\"xanchor\":\"center\",\"yanchor\":\"top\"},\"hoverlabel\":{\"font\":{\"size\":16,\"family\":\"Rockwell\"},\"bgcolor\":\"white\"},\"showlegend\":false,\"width\":1000,\"height\":500},                        {\"responsive\": true}                    ).then(function(){\n",
       "                            \n",
       "var gd = document.getElementById('18f1ff34-e90c-4630-8f49-4b86d2a82fe5');\n",
       "var x = new MutationObserver(function (mutations, observer) {{\n",
       "        var display = window.getComputedStyle(gd).display;\n",
       "        if (!display || display === 'none') {{\n",
       "            console.log([gd, 'removed!']);\n",
       "            Plotly.purge(gd);\n",
       "            observer.disconnect();\n",
       "        }}\n",
       "}});\n",
       "\n",
       "// Listen for the removal of the full notebook cells\n",
       "var notebookContainer = gd.closest('#notebook-container');\n",
       "if (notebookContainer) {{\n",
       "    x.observe(notebookContainer, {childList: true});\n",
       "}}\n",
       "\n",
       "// Listen for the clearing of the current output cell\n",
       "var outputEl = gd.closest('.output');\n",
       "if (outputEl) {{\n",
       "    x.observe(outputEl, {childList: true});\n",
       "}}\n",
       "\n",
       "                        })                };                });            </script>        </div>"
      ]
     },
     "metadata": {},
     "output_type": "display_data"
    }
   ],
   "source": [
    "fig = topic_model2.visualize_barchart(topics=[0,1,2,3,4,9,12,14], n_words=8, custom_labels=True, title='')\n",
    "# fig.write_html(\"book_description_topic_model_selected.html\")\n",
    "fig"
   ]
  },
  {
   "cell_type": "markdown",
   "metadata": {},
   "source": [
    "### The top banned books by state/location"
   ]
  },
  {
   "cell_type": "markdown",
   "metadata": {},
   "source": [
    "Number of unique books banned per state (only showing states that banned more than 10 books)\n",
    "\n",
    "> It is important to recognize that books available in schools, whether in a school or classroom library, or as part of a curriculum, were selected by librarians and educators as part of the educational offerings to students. Book bans occur when those choices are overridden by school boards, administrators, teachers, or even politicians, on the basis of a particular book’s content. The phrase “book ban” does not apply to initial decisions by a school district or school on which books to purchase or assign to students. It does not refer to situations in which educators initially determine that certain books are more appropriate for access at or above particular grade levels. Nor does it apply to situations where professional educators and administrators engage in regular curriculum review or updates and make decisions about which books will or will not be assigned in class. Likewise, if books are deaccessioned from libraries following best practices of collection maintenance and “weeding” that are content-neutral, and the result of regular updating, that is not a ban. A book ban occurs when an objection to the content of a specific book or type of book leads to that volume being withdrawn either fully or partially from availability, or when a blanket prohibition or absolute restriction is placed on a particular title."
   ]
  },
  {
   "cell_type": "code",
   "execution_count": 209,
   "metadata": {},
   "outputs": [
    {
     "data": {
      "image/png": "[encoded data removed]",
      "text/plain": [
       "<Figure size 720x360 with 1 Axes>"
      ]
     },
     "metadata": {
      "needs_background": "light"
     },
     "output_type": "display_data"
    }
   ],
   "source": [
    "book_titles_by_state = df_merge.groupby('State')['Title'].nunique().sort_values(ascending=False).reset_index()\n",
    "book_titles_by_state.columns=['State', 'Count']\n",
    "\n",
    "ax = make_barchart(book_titles_by_state[book_titles_by_state.Count>10], x='Count', y='State')\n"
   ]
  },
  {
   "cell_type": "markdown",
   "metadata": {},
   "source": [
    "Top 10 books that are banned in the most school districts"
   ]
  },
  {
   "cell_type": "code",
   "execution_count": 15,
   "metadata": {},
   "outputs": [
    {
     "data": {
      "text/plain": [
       "<AxesSubplot: xlabel='count'>"
      ]
     },
     "execution_count": 15,
     "metadata": {},
     "output_type": "execute_result"
    },
    {
     "data": {
      "image/png": "[encoded data removed]",
      "text/plain": [
       "<Figure size 1000x500 with 1 Axes>"
      ]
     },
     "metadata": {},
     "output_type": "display_data"
    }
   ],
   "source": [
    "# Most banned books overall across all districts\n",
    " \n",
    "banned_books = df.Title.value_counts().reset_index()\n",
    "banned_books.columns = ['Original_Title', 'count']\n",
    "book_cols = ['Original_Title', 'Author_fullname', 'description', 'Published_Year', \n",
    "             'printType', 'pageCount', 'categories', 'maturityRating',\n",
    "            'averageRating', 'ratingsCount', 'genre', 'age_group']\n",
    "author_cols = ['author', 'ethnicity', 'gender']\n",
    "\n",
    "banned_books = banned_books\\\n",
    "    .merge(book_metadata[book_cols], on='Original_Title', how='left')\\\n",
    "    .merge(author_metadata[author_cols], left_on='Author_fullname', right_on='author', how='left')\n",
    "\n",
    "# banned_books\n",
    "make_barchart(banned_books.head(10), x='count', y='Original_Title')"
   ]
  },
  {
   "cell_type": "code",
   "execution_count": 246,
   "metadata": {},
   "outputs": [
    {
     "data": {
      "text/plain": [
       "(1649, 1146)"
      ]
     },
     "execution_count": 246,
     "metadata": {},
     "output_type": "execute_result"
    }
   ],
   "source": [
    "len(book_metadata), len(author_metadata)"
   ]
  },
  {
   "cell_type": "code",
   "execution_count": 244,
   "metadata": {},
   "outputs": [
    {
     "name": "stdout",
     "output_type": "stream",
     "text": [
      "Top Banned Fiction Books\n",
      "------------------------------\n",
      "Gender Queer: A Memoir (Maia Kobabe)\n",
      "Out of Darkness (Ashley Hope Pérez)\n",
      "The Bluest Eye (Toni Morrison)\n",
      "Lawn Boy (Jonathan Evison)\n",
      "The Hate U Give (Angie Thomas)\n",
      "\n",
      "Top Banned Nonfiction Books\n",
      "------------------------------\n",
      "All Boys Aren't Blue (George M. Johnson)\n",
      "Beyond Magenta: Transgender Teens Speak Out (Susan Kuklin)\n",
      "This Book Is Gay (Juno Dawson)\n",
      "Beloved (Toni Morrison)\n",
      "Fun Home: A Family Tragicomic (Alison Bechdel)\n",
      "\n",
      "Top Banned Juvenile Books\n",
      "------------------------------\n",
      "Out of Darkness (Ashley Hope Pérez)\n",
      "Me and Earl and the Dying Girl (Jesse Andrews)\n",
      "Crank (Crank Series) (Ellen Hopkins)\n",
      "This One Summer (Mariko Tamaki)\n",
      "Drama: A Graphic Novel (Raina Telgemeier)\n",
      "\n",
      "Top Banned Adult Books\n",
      "------------------------------\n",
      "Gender Queer: A Memoir (Maia Kobabe)\n",
      "The Bluest Eye (Toni Morrison)\n",
      "Lawn Boy (Jonathan Evison)\n",
      "The Kite Runner (Khaled Hosseini)\n",
      "Beloved (Toni Morrison)\n",
      "\n"
     ]
    }
   ],
   "source": [
    "for genre in ['Fiction', 'Nonfiction']:\n",
    "    print(f'Top Banned {genre} Books')\n",
    "    print('-'*30)\n",
    "    rows = banned_books[banned_books.genre==genre].head()[['Original_Title', 'Author_fullname']]\n",
    "    print('\\n'.join(rows['Original_Title'] + ' (' + rows['Author_fullname'] + ')'))\n",
    "    print()\n",
    "\n",
    "for age_group in ['Juvenile', 'Adult']:\n",
    "    print(f'Top Banned {age_group} Books')\n",
    "    print('-'*30)\n",
    "    rows = banned_books[banned_books.age_group==age_group].head()[['Original_Title', 'Author_fullname']]\n",
    "    print('\\n'.join(rows['Original_Title'] + ' (' + rows['Author_fullname'] + ')'))\n",
    "    print()\n"
   ]
  },
  {
   "cell_type": "code",
   "execution_count": 1498,
   "metadata": {
    "scrolled": false
   },
   "outputs": [
    {
     "name": "stderr",
     "output_type": "stream",
     "text": [
      "/Users/yenniejun/anaconda3/envs/books/lib/python3.8/site-packages/ipykernel/ipkernel.py:287: DeprecationWarning: `should_run_async` will not call `transform_cell` automatically in the future. Please pass the result to `transformed_cell` argument and any exception that happen during thetransform in `preprocessing_exc_tuple` in IPython 7.17 and above.\n",
      "  and should_run_async(code)\n"
     ]
    },
    {
     "data": {
      "image/png": "[encoded data removed]",
      "text/plain": [
       "<Figure size 720x360 with 1 Axes>"
      ]
     },
     "metadata": {
      "needs_background": "light"
     },
     "output_type": "display_data"
    }
   ],
   "source": [
    "# Unique books banned per state\n",
    "# How many states is each book banned in?\n",
    "banned_books_by_state = df.drop_duplicates(['State', 'Title', 'Author'])\n",
    " \n",
    "banned_books_by_state = banned_books_by_state.Title.value_counts().head(10).reset_index()\n",
    "banned_books_by_state.columns = ['Original_Title', 'count']\n",
    "book_cols = ['Original_Title', 'Author_fullname', 'description', 'Published_Year', \n",
    "             'printType', 'pageCount', 'categories', 'maturityRating',\n",
    "            'averageRating', 'ratingsCount']\n",
    "author_cols = ['author', 'ethnicity', 'gender']\n",
    "\n",
    "banned_books_by_state = banned_books_by_state\\\n",
    "    .merge(book_metadata[book_cols], on='Original_Title', how='left')\\\n",
    "    .merge(author_metadata[author_cols], left_on='Author_fullname', right_on='author', how='left')\n",
    "\n",
    "# banned_books_by_state\n",
    "make_barchart(banned_books_by_state, x='count', y='Original_Title')"
   ]
  },
  {
   "cell_type": "markdown",
   "metadata": {},
   "source": [
    "## Looking at the top 10 most banned books, take those descriptions, and ask GPT-3 / ChatGPT / Bing"
   ]
  },
  {
   "cell_type": "markdown",
   "metadata": {},
   "source": [
    "Asking the following to ChatGPT:\n",
    "\n",
    "```\n",
    "The following is a description for a book. Make a Markdown table, one column for ages {3, 5, 7, 9, 11, 13, 15, 17, 19, 21}. Write Yes or No whether you would ban the book for a classroom filled with students of that corresponding age.\n",
    "\n",
    "{book description}\n",
    "```"
   ]
  },
  {
   "cell_type": "code",
   "execution_count": 25,
   "metadata": {},
   "outputs": [],
   "source": [
    "book_descriptions = {\n",
    "    'gender_queer': \"\"\"The author's intensely cathartic autobiography charts eir journey of self-identity, which includes the mortification and confusion of adolescent crushes, grappling with how to come out to family and society, bonding with friends over erotic gay fanfiction, and facing the trauma and fundamental violation of pap smears.\"\"\",\n",
    "    'all_boys_arent_blue': \"\"\"In a series of personal essays, the author explores his childhood, adolescence, and college years in New Jersey and Virginia. From the memories of getting his teeth kicked out by bullies at age five, to flea marketing with his loving grandmother, to his first sexual relationships, this young-adult memoir weaves together the trials and triumphs faced by Black queer boys.\"\"\",\n",
    "    'out_of_darkness': \"\"\"The novel chronicles a love affair between a teenage Mexican American girl and a teenage African-American boy in 1930's New London, Texas, occuring right up to the 1937 New London School explosion.\"\"\",\n",
    "    'bluest_eye': \"\"\"An 11-year-old Black girl in an America whose love for its blond, blue-eyed children can devastate all others prays for her eyes to turn blue: so that she will be beautiful, so that people will look at her, so that her world will be different. This is the story of the nightmare at the heart of her yearning, and the tragedy of its fulfillment\"\"\",\n",
    "    \"lawn_boy\": \"\"\"A semi-autobiographical coming-of-age novel that tells the story of a young adult Mexican American who has faced hardship ever since his childhood and is now going through a phase of self-discovery.\"\"\"\n",
    "}"
   ]
  },
  {
   "cell_type": "markdown",
   "metadata": {},
   "source": [
    "### Making data"
   ]
  },
  {
   "cell_type": "code",
   "execution_count": null,
   "metadata": {},
   "outputs": [],
   "source": [
    "def make_prompt(desc, age=None):\n",
    "    if age:\n",
    "        prompt = f\"Given the following description of a book, would you recommend this to a classroom of {age}-year-olds?\\n\\nDescription: \"\n",
    "    else:\n",
    "        prompt = f\"Given the following description of a book, would you recommend this to a classroom?\\n\\nDescription: \"\n",
    "\n",
    "    \n",
    "    prompt += desc\n",
    "    prompt += \"\\n\\nGive your answer (Answer:) then explain your decision (Explain:).\"\n",
    "    \n",
    "    return prompt\n",
    "    \n",
    "def make_prompt_book_author(book, author, age=None):\n",
    "    prompt = f\"\"\"Would you recommend the book \"{book}\" by {author} to a classroom\"\"\"\n",
    "    if age:\n",
    "        prompt += f\" of {age}-year-olds?\"\n",
    "    else:\n",
    "        prompt += \"?\"\n",
    "    \n",
    "    prompt += \"\\nGive your answer (Answer:) then explain your decision (Explain:).\"\n",
    "    \n",
    "    return prompt\n",
    "\n",
    "def make_prompt_ban_book(desc, age=None):\n",
    "    if age:\n",
    "        prompt = f\"Given the following description of a book, would you ban this book for a classroom of {age}-year-olds?\\n\\nDescription: \"\n",
    "    else:\n",
    "        prompt = f\"Given the following description of a book, would you ban this book?\\n\\nDescription: \"\n",
    "\n",
    "    \n",
    "    prompt += desc\n",
    "    prompt += \"\\n\\nGive your answer (Answer:) then explain your decision (Explain:).\"\n",
    "    \n",
    "    return prompt\n",
    "\n",
    "def make_prompt_book_author_ban_book(book, author, age=None):\n",
    "    prompt = f\"\"\"Would you ban the book \"{book}\" by {author} in a classroom\"\"\"\n",
    "    if age:\n",
    "        prompt += f\" of {age}-year-olds?\"\n",
    "    else:\n",
    "        prompt += \"?\"\n",
    "    \n",
    "    prompt += \"\\nGive your answer (Answer:) then explain your decision (Explain:).\"\n",
    "    \n",
    "    return prompt"
   ]
  },
  {
   "cell_type": "code",
   "execution_count": 479,
   "metadata": {},
   "outputs": [
    {
     "data": {
      "text/plain": [
       "'Given the following description of a book, would you ban this book for a classroom of 3-year-olds?\\n\\nDescription: Gender Queer\\n\\nGive your answer (Answer:) then explain your decision (Explain:).'"
      ]
     },
     "execution_count": 479,
     "metadata": {},
     "output_type": "execute_result"
    }
   ],
   "source": [
    "make_prompt_ban_book('Gender Queer', 3)"
   ]
  },
  {
   "cell_type": "code",
   "execution_count": 253,
   "metadata": {},
   "outputs": [
    {
     "name": "stdout",
     "output_type": "stream",
     "text": [
      "Would you recommend the book \"Gender Queer\" by Maia Kobabe to a classroom of 3-year-olds?\n",
      "Give your answer (Answer:) then explain your decision (Explain:).\n"
     ]
    }
   ],
   "source": [
    "print(make_prompt_book_author('Gender Queer', 'Maia Kobabe', 3))"
   ]
  },
  {
   "cell_type": "code",
   "execution_count": 18,
   "metadata": {},
   "outputs": [
    {
     "name": "stderr",
     "output_type": "stream",
     "text": [
      "100%|███████████████████████████████████████████| 10/10 [06:21<00:00, 38.20s/it]\n"
     ]
    }
   ],
   "source": [
    "# Would you RECOMMEND A BOOK with the DESCRIPTION for a clasroom...\n",
    "responses = []\n",
    "\n",
    "for age in tqdm.tqdm(range(3, 23, 2)):\n",
    "    for book in book_descriptions.keys():\n",
    "    \n",
    "        prompt = make_prompt(book_descriptions[book], age=age)\n",
    "\n",
    "        response = openai.Completion.create(model=\"text-davinci-003\", \n",
    "                                            prompt=prompt, \n",
    "                                            n=5,\n",
    "                                            max_tokens=256\n",
    "                                          )\n",
    "        for res in response['choices']:\n",
    "            responses.append({\n",
    "                'book': book,\n",
    "                'age': age,\n",
    "                'model': 'gpt3',\n",
    "                'response': res['text'],\n",
    "            })\n",
    "\n",
    "        time.sleep(3)\n",
    "\n",
    "with open('gpt3_banned_books_responses.json', 'w') as fp:\n",
    "    json.dump(responses, fp)"
   ]
  },
  {
   "cell_type": "code",
   "execution_count": 21,
   "metadata": {},
   "outputs": [
    {
     "name": "stderr",
     "output_type": "stream",
     "text": [
      "100%|███████████████████████████████████████████| 10/10 [06:21<00:00, 38.17s/it]\n"
     ]
    }
   ],
   "source": [
    "# Would you RECOMMEND A BOOK with the TITLE,AUTHOR for a clasroom...\n",
    "responses = []\n",
    "\n",
    "for age in tqdm.tqdm(range(3, 23, 2)):\n",
    "    for _, (_book, _author) in banned_books[['Original_Title', 'Author_fullname']].head().iterrows():\n",
    "\n",
    "        prompt = make_prompt_book_author(_book, _author, age=age)\n",
    "\n",
    "        response = openai.Completion.create(model=\"text-davinci-003\", \n",
    "                                            prompt=prompt, \n",
    "                                            n=5,\n",
    "                                            max_tokens=256\n",
    "                                          )\n",
    "        for res in response['choices']:\n",
    "            responses.append({\n",
    "                'book': _book,\n",
    "                'author': _author,\n",
    "                'age': age,\n",
    "                'model': 'gpt3',\n",
    "                'response': res['text'],\n",
    "            })\n",
    "\n",
    "        time.sleep(3)\n",
    "\n",
    "with open('gpt3_banned_books_title_author_responses.json', 'w') as fp:\n",
    "    json.dump(responses, fp)"
   ]
  },
  {
   "cell_type": "code",
   "execution_count": null,
   "metadata": {},
   "outputs": [],
   "source": [
    "# Would you BAN A BOOK with the DESCRIPTION for a classroom...\n",
    "responses = []\n",
    "\n",
    "for age in tqdm.tqdm(range(3, 23, 2)):\n",
    "    for book in book_descriptions.keys():\n",
    "    \n",
    "        prompt = make_prompt_ban_book(book_descriptions[book], age=age)\n",
    "\n",
    "        response = openai.Completion.create(model=\"text-davinci-003\", \n",
    "                                            prompt=prompt, \n",
    "                                            n=5,\n",
    "                                            max_tokens=256\n",
    "                                          )\n",
    "        for res in response['choices']:\n",
    "            responses.append({\n",
    "                'book': book,\n",
    "                'age': age,\n",
    "                'model': 'gpt3',\n",
    "                'response': res['text'],\n",
    "            })\n",
    "\n",
    "        time.sleep(3)\n",
    "\n",
    "with open('gpt3_banned_books_responses_wouldyoubanbook.json', 'w') as fp:\n",
    "    json.dump(responses, fp)"
   ]
  },
  {
   "cell_type": "code",
   "execution_count": 19,
   "metadata": {},
   "outputs": [
    {
     "name": "stderr",
     "output_type": "stream",
     "text": [
      "100%|███████████████████████████████████████████| 10/10 [07:27<00:00, 44.77s/it]\n"
     ]
    }
   ],
   "source": [
    "# Would you BAN A BOOK with the TITLE,AUTHOR for a clasroom...\n",
    "responses = []\n",
    "\n",
    "for age in tqdm.tqdm(range(3, 23, 2)):\n",
    "    for _, (_book, _author) in banned_books[['Original_Title', 'Author_fullname']].head().iterrows():\n",
    "\n",
    "        prompt = make_prompt_book_author_ban_book(_book, _author, age=age)\n",
    "\n",
    "        response = openai.Completion.create(model=\"text-davinci-003\", \n",
    "                                            prompt=prompt, \n",
    "                                            n=5,\n",
    "                                            max_tokens=256\n",
    "                                          )\n",
    "        for res in response['choices']:\n",
    "            responses.append({\n",
    "                'book': _book,\n",
    "                'author': _author,\n",
    "                'age': age,\n",
    "                'model': 'gpt3',\n",
    "                'response': res['text'],\n",
    "            })\n",
    "\n",
    "        time.sleep(3)\n",
    "\n",
    "with open('gpt3_banned_books_title_author_responses_wouldyoubanbook.json', 'w') as fp:\n",
    "    json.dump(responses, fp)"
   ]
  },
  {
   "cell_type": "code",
   "execution_count": 26,
   "metadata": {},
   "outputs": [],
   "source": [
    "def clean_answer(x):\n",
    "    if 'Answer' not in x: \n",
    "        cleaned_answer = x.split(',')[0].strip()\n",
    "    else:\n",
    "        cleaned_answer = x.split('Answer:')[1].replace('.', '').strip()\n",
    "        \n",
    "    if ','  in cleaned_answer:\n",
    "        return cleaned_answer.split(',')[0].strip()\n",
    "    else: return cleaned_answer\n",
    "    \n",
    "def clean_explanation(x):\n",
    "    if 'Explain' not in x:\n",
    "        return x\n",
    "    else:\n",
    "        return x.split('Explain:')[1].strip()"
   ]
  },
  {
   "cell_type": "markdown",
   "metadata": {
    "heading_collapsed": true
   },
   "source": [
    "### Analysis for \"Would you ban a book...\""
   ]
  },
  {
   "cell_type": "code",
   "execution_count": 13,
   "metadata": {
    "hidden": true
   },
   "outputs": [],
   "source": [
    "# Giving GPT3 the title+author of the book\n",
    "ban_title = pd.read_json('gpt3_banned_books_title_author_responses_wouldyoubanbook.json')\n",
    "ban_title['answer'] = ban_title['response'].apply(lambda x: x.split('\\nExplain')[0])\n",
    "ban_title['answer'] = ban_title['answer'].apply(clean_answer)\n",
    "ban_title['explain'] = ban_title['response'].apply(clean_explanation)\n",
    "\n",
    "# Giving GPT3 the description of the book\n",
    "ban_description = pd.read_json('gpt3_banned_books_responses_wouldyoubanbook.json')\n",
    "ban_description['answer'] = ban_description['response'].apply(lambda x: x.split('\\nExplain')[0])\n",
    "ban_description['answer'] = ban_description['answer'].apply(clean_answer)\n",
    "ban_description['explain'] = ban_description['response'].apply(clean_explanation)\n",
    "temptitle2title = {k:v for k, v in zip(book_descriptions.keys(), ban_title.book.unique())}\n",
    "ban_description.book = ban_description.book.apply(lambda x: temptitle2title[x])\n",
    "\n"
   ]
  },
  {
   "cell_type": "code",
   "execution_count": 106,
   "metadata": {
    "hidden": true,
    "scrolled": true
   },
   "outputs": [
    {
     "data": {
      "text/plain": [
       "Int64Index([3, 5, 7, 9, 11, 13, 15, 17, 19, 21], dtype='int64', name='age')"
      ]
     },
     "execution_count": 106,
     "metadata": {},
     "output_type": "execute_result"
    }
   ],
   "source": [
    "data_mode_pivot.columns"
   ]
  },
  {
   "cell_type": "code",
   "execution_count": 123,
   "metadata": {
    "hidden": true
   },
   "outputs": [
    {
     "data": {
      "image/png": "[encoded data removed]",
      "text/plain": [
       "<Figure size 1500x400 with 2 Axes>"
      ]
     },
     "metadata": {},
     "output_type": "display_data"
    }
   ],
   "source": [
    "fig, axes = plt.subplots(1,2, figsize=(15,4))\n",
    "\n",
    "for ax, data_mode_pivot, plot_title in zip(axes, \n",
    "                                           [data_mode_pivot_title, data_mode_pivot_description], \n",
    "                                           ['Title + Author', 'Description']):\n",
    "\n",
    "    sns.heatmap(data_mode_pivot,\n",
    "#                 square=True,\n",
    "                cbar=False,\n",
    "                cmap=[COLORS[5], COLORS[1]],\n",
    "                linewidths=.2,\n",
    "                linecolor='beige',\n",
    "                ax=ax\n",
    "               )\n",
    "    ax.set_ylabel('')\n",
    "    \n",
    "    ax.set_yticklabels(data_mode_pivot.index, fontsize=12)\n",
    " \n",
    "\n",
    "#     ax.set_tick_params(left=False, bottom=False)\n",
    "    ax.set_xticklabels(data_mode_pivot.columns, fontsize=12)\n",
    "    ax.set_xlabel('Age', size=12)\n",
    "    wrap_labels(ax, 13)\n",
    "    \n",
    "    ax.xaxis.set_ticks_position('none') \n",
    "    ax.yaxis.set_ticks_position('none')\n",
    "\n",
    "\n",
    "    no = mlines.Line2D([], [], color=COLORS[5], marker='s', ls='', label='No')\n",
    "    yes = mlines.Line2D([], [], color=COLORS[1], marker='s', ls='', label='Yes')\n",
    "    ax.legend(handles=[no,yes], loc='upper center', \n",
    "               bbox_to_anchor=(0.5, 1.2), \n",
    "               ncol=2, \n",
    "               frameon=False,\n",
    "               fontsize=14,\n",
    "               markerscale=2,\n",
    "              )\n",
    "    \n",
    "    ax.set_title(f'Would you ban [{plot_title}]?', y=1.2, size=14)\n",
    "\n",
    "ax.yaxis.set_label_position(\"right\")\n",
    "ax.yaxis.tick_right()\n",
    "ax.yaxis.set_ticks_position('none')"
   ]
  },
  {
   "cell_type": "markdown",
   "metadata": {
    "heading_collapsed": true
   },
   "source": [
    "### Topic Modeling using GPT \"ban book\" response"
   ]
  },
  {
   "cell_type": "code",
   "execution_count": 18,
   "metadata": {
    "hidden": true
   },
   "outputs": [],
   "source": [
    "ban_description['answer_binary'] = ban_description['answer'].apply(lambda x: 0 if x=='No' else 1)"
   ]
  },
  {
   "cell_type": "code",
   "execution_count": 23,
   "metadata": {
    "hidden": true
   },
   "outputs": [
    {
     "data": {
      "application/vnd.jupyter.widget-view+json": {
       "model_id": "7c106836a1354cc3bbb3590d37e5bd88",
       "version_major": 2,
       "version_minor": 0
      },
      "text/plain": [
       "Batches:   0%|          | 0/8 [00:00<?, ?it/s]"
      ]
     },
     "metadata": {},
     "output_type": "display_data"
    },
    {
     "name": "stderr",
     "output_type": "stream",
     "text": [
      "2023-03-01 11:13:04,625 - BERTopic - Transformed documents to Embeddings\n",
      "2023-03-01 11:13:08,650 - BERTopic - Reduced dimensionality\n",
      "2023-03-01 11:13:08,677 - BERTopic - Clustered reduced embeddings\n"
     ]
    },
    {
     "data": {
      "text/html": [
       "<div>\n",
       "<style scoped>\n",
       "    .dataframe tbody tr th:only-of-type {\n",
       "        vertical-align: middle;\n",
       "    }\n",
       "\n",
       "    .dataframe tbody tr th {\n",
       "        vertical-align: top;\n",
       "    }\n",
       "\n",
       "    .dataframe thead th {\n",
       "        text-align: right;\n",
       "    }\n",
       "</style>\n",
       "<table border=\"1\" class=\"dataframe\">\n",
       "  <thead>\n",
       "    <tr style=\"text-align: right;\">\n",
       "      <th></th>\n",
       "      <th>Topic</th>\n",
       "      <th>Count</th>\n",
       "      <th>Name</th>\n",
       "    </tr>\n",
       "  </thead>\n",
       "  <tbody>\n",
       "    <tr>\n",
       "      <th>0</th>\n",
       "      <td>-1</td>\n",
       "      <td>1</td>\n",
       "      <td>-1_adult parse_themes beauty standards racial_...</td>\n",
       "    </tr>\n",
       "    <tr>\n",
       "      <th>1</th>\n",
       "      <td>0</td>\n",
       "      <td>126</td>\n",
       "      <td>0_sounds like_important topics_does contain_pr...</td>\n",
       "    </tr>\n",
       "    <tr>\n",
       "      <th>2</th>\n",
       "      <td>1</td>\n",
       "      <td>36</td>\n",
       "      <td>1_important themes_provide important_does cont...</td>\n",
       "    </tr>\n",
       "    <tr>\n",
       "      <th>3</th>\n",
       "      <td>2</td>\n",
       "      <td>24</td>\n",
       "      <td>2_does contain_language content_age group_matu...</td>\n",
       "    </tr>\n",
       "    <tr>\n",
       "      <th>4</th>\n",
       "      <td>3</td>\n",
       "      <td>19</td>\n",
       "      <td>3_older children_contain mature_does contain_m...</td>\n",
       "    </tr>\n",
       "    <tr>\n",
       "      <th>5</th>\n",
       "      <td>4</td>\n",
       "      <td>18</td>\n",
       "      <td>4_does contain_contain content_content suitabl...</td>\n",
       "    </tr>\n",
       "    <tr>\n",
       "      <th>6</th>\n",
       "      <td>5</td>\n",
       "      <td>14</td>\n",
       "      <td>5_black queer_black queer boys_queer boys_quee...</td>\n",
       "    </tr>\n",
       "    <tr>\n",
       "      <th>7</th>\n",
       "      <td>6</td>\n",
       "      <td>12</td>\n",
       "      <td>6_crushes coming_topics discussed_age group_ma...</td>\n",
       "    </tr>\n",
       "  </tbody>\n",
       "</table>\n",
       "</div>"
      ],
      "text/plain": [
       "   Topic  Count                                               Name\n",
       "0     -1      1  -1_adult parse_themes beauty standards racial_...\n",
       "1      0    126  0_sounds like_important topics_does contain_pr...\n",
       "2      1     36  1_important themes_provide important_does cont...\n",
       "3      2     24  2_does contain_language content_age group_matu...\n",
       "4      3     19  3_older children_contain mature_does contain_m...\n",
       "5      4     18  4_does contain_contain content_content suitabl...\n",
       "6      5     14  5_black queer_black queer boys_queer boys_quee...\n",
       "7      6     12  6_crushes coming_topics discussed_age group_ma..."
      ]
     },
     "execution_count": 23,
     "metadata": {},
     "output_type": "execute_result"
    }
   ],
   "source": [
    "my_stop_words = list(text.ENGLISH_STOP_WORDS\\\n",
    "                     .union([\"she's\", \"he's\", \"shes\", \"hes\", 'book', 'classroom'])\\\n",
    "                     .union([f'{i}yearold' for i in range(3,23, 2)])\\\n",
    "                     .union([f'{i}yearolds' for i in range(3,23, 2)])\n",
    "                    )\n",
    "# we add this to remove stopwords\n",
    "vectorizer_model = CountVectorizer(ngram_range=(1,3), stop_words=my_stop_words)\n",
    "\n",
    "tm_ban_description = BERTopic(\n",
    "    vectorizer_model=vectorizer_model,\n",
    "    language='english', \n",
    "    calculate_probabilities=True,\n",
    "    verbose=True,\n",
    ")\n",
    "topics_ban_description, probs = tm_ban_description.fit_transform(\n",
    "    ban_description.explain.values,\n",
    "    y=ban_description['answer_binary']\n",
    ")\n",
    "\n",
    "tm_ban_description.get_topic_info()\n"
   ]
  },
  {
   "cell_type": "code",
   "execution_count": 24,
   "metadata": {
    "hidden": true
   },
   "outputs": [
    {
     "data": {
      "application/vnd.plotly.v1+json": {
       "config": {
        "plotlyServerURL": "https://plot.ly"
       },
       "data": [
        {
         "marker": {
          "color": "#D55E00"
         },
         "orientation": "h",
         "type": "bar",
         "x": [
          0.004926720128765208,
          0.004926720128765208,
          0.00502644445665121,
          0.0055274965016594195,
          0.005925442406937426,
          0.006911615904769021,
          0.010352585035184284,
          0.011240063905302775
         ],
         "xaxis": "x",
         "y": [
          "provide opportunity  ",
          "better understand  ",
          "interracial relationships  ",
          "young adults  ",
          "provide valuable  ",
          "does contain  ",
          "important topics  ",
          "sounds like  "
         ],
         "yaxis": "y"
        },
        {
         "marker": {
          "color": "#0072B2"
         },
         "orientation": "h",
         "type": "bar",
         "x": [
          0.007033388895401616,
          0.007189471749518028,
          0.007511329636417181,
          0.00810942479366713,
          0.00810942479366713,
          0.00867934149262196,
          0.009585962332690703,
          0.010094708875223318
         ],
         "xaxis": "x2",
         "y": [
          "contain material  ",
          "contains important  ",
          "important topics  ",
          "racism identity  ",
          "meaningful dialogue  ",
          "does contain  ",
          "provide important  ",
          "important themes  "
         ],
         "yaxis": "y2"
        },
        {
         "marker": {
          "color": "#CC79A7"
         },
         "orientation": "h",
         "type": "bar",
         "x": [
          0.01785975958957189,
          0.01785975958957189,
          0.01785975958957189,
          0.018184138195932037,
          0.018701740999118147,
          0.02015265675500605,
          0.020653274918657337,
          0.03058386140039457
         ],
         "xaxis": "x3",
         "y": [
          "need banned  ",
          "does need  ",
          "does need banned  ",
          "subject matter  ",
          "mature understand  ",
          "age group  ",
          "language content  ",
          "does contain  "
         ],
         "yaxis": "y3"
        },
        {
         "marker": {
          "color": "#E69F00"
         },
         "orientation": "h",
         "type": "bar",
         "x": [
          0.016090609860039837,
          0.016090609860039837,
          0.016550154247721063,
          0.01808730616824141,
          0.01842448056288605,
          0.018557111632623753,
          0.01968775638827214,
          0.02167323138805699
         ],
         "xaxis": "x4",
         "y": [
          "subject matter mature  ",
          "matter mature  ",
          "subject matter  ",
          "older audience  ",
          "mature content  ",
          "does contain  ",
          "contain mature  ",
          "older children  "
         ],
         "yaxis": "y4"
        },
        {
         "marker": {
          "color": "#56B4E9"
         },
         "orientation": "h",
         "type": "bar",
         "x": [
          0.013377104646956196,
          0.013377104646956196,
          0.013377104646956196,
          0.013377104646956196,
          0.014546172616709997,
          0.017359764970075728,
          0.01939489682228,
          0.023141486843641746
         ],
         "xaxis": "x5",
         "y": [
          "contain explicit material  ",
          "explicit material  ",
          "age does contain  ",
          "does contain explicit material  ",
          "opportunity discuss  ",
          "content suitable  ",
          "contain content  ",
          "does contain  "
         ],
         "yaxis": "y5"
        },
        {
         "marker": {
          "color": "#009E73"
         },
         "orientation": "h",
         "type": "bar",
         "x": [
          0.022416812072151272,
          0.023267155759480473,
          0.023267155759480473,
          0.023267155759480473,
          0.023267155759480473,
          0.028021015090189096,
          0.028021015090189096,
          0.06104668813545724
         ],
         "xaxis": "x6",
         "y": [
          "insight experiences  ",
          "experiences black  ",
          "black queer boy  ",
          "experiences black queer  ",
          "queer boy  ",
          "queer boys  ",
          "black queer boys  ",
          "black queer  "
         ],
         "yaxis": "y6"
        },
        {
         "marker": {
          "color": "#F0E442"
         },
         "orientation": "h",
         "type": "bar",
         "x": [
          0.026287566108553456,
          0.026287566108553456,
          0.03305723705796241,
          0.03305723705796241,
          0.03305723705796241,
          0.0399538136828899,
          0.040946318298035765,
          0.04407631607728321
         ],
         "xaxis": "x7",
         "y": [
          "sexuality coming  ",
          "traumatic medical  ",
          "young children  ",
          "mature age group  ",
          "mature age  ",
          "age group  ",
          "topics discussed  ",
          "crushes coming  "
         ],
         "yaxis": "y7"
        }
       ],
       "layout": {
        "annotations": [
         {
          "font": {
           "size": 16
          },
          "showarrow": false,
          "text": "Topic 0",
          "x": 0.0875,
          "xanchor": "center",
          "xref": "paper",
          "y": 1,
          "yanchor": "bottom",
          "yref": "paper"
         },
         {
          "font": {
           "size": 16
          },
          "showarrow": false,
          "text": "Topic 1",
          "x": 0.36250000000000004,
          "xanchor": "center",
          "xref": "paper",
          "y": 1,
          "yanchor": "bottom",
          "yref": "paper"
         },
         {
          "font": {
           "size": 16
          },
          "showarrow": false,
          "text": "Topic 2",
          "x": 0.6375000000000001,
          "xanchor": "center",
          "xref": "paper",
          "y": 1,
          "yanchor": "bottom",
          "yref": "paper"
         },
         {
          "font": {
           "size": 16
          },
          "showarrow": false,
          "text": "Topic 3",
          "x": 0.9125,
          "xanchor": "center",
          "xref": "paper",
          "y": 1,
          "yanchor": "bottom",
          "yref": "paper"
         },
         {
          "font": {
           "size": 16
          },
          "showarrow": false,
          "text": "Topic 4",
          "x": 0.0875,
          "xanchor": "center",
          "xref": "paper",
          "y": 0.4,
          "yanchor": "bottom",
          "yref": "paper"
         },
         {
          "font": {
           "size": 16
          },
          "showarrow": false,
          "text": "Topic 5",
          "x": 0.36250000000000004,
          "xanchor": "center",
          "xref": "paper",
          "y": 0.4,
          "yanchor": "bottom",
          "yref": "paper"
         },
         {
          "font": {
           "size": 16
          },
          "showarrow": false,
          "text": "Topic 6",
          "x": 0.6375000000000001,
          "xanchor": "center",
          "xref": "paper",
          "y": 0.4,
          "yanchor": "bottom",
          "yref": "paper"
         }
        ],
        "height": 500,
        "hoverlabel": {
         "bgcolor": "white",
         "font": {
          "family": "Rockwell",
          "size": 16
         }
        },
        "showlegend": false,
        "template": {
         "data": {
          "bar": [
           {
            "error_x": {
             "color": "#2a3f5f"
            },
            "error_y": {
             "color": "#2a3f5f"
            },
            "marker": {
             "line": {
              "color": "white",
              "width": 0.5
             },
             "pattern": {
              "fillmode": "overlay",
              "size": 10,
              "solidity": 0.2
             }
            },
            "type": "bar"
           }
          ],
          "barpolar": [
           {
            "marker": {
             "line": {
              "color": "white",
              "width": 0.5
             },
             "pattern": {
              "fillmode": "overlay",
              "size": 10,
              "solidity": 0.2
             }
            },
            "type": "barpolar"
           }
          ],
          "carpet": [
           {
            "aaxis": {
             "endlinecolor": "#2a3f5f",
             "gridcolor": "#C8D4E3",
             "linecolor": "#C8D4E3",
             "minorgridcolor": "#C8D4E3",
             "startlinecolor": "#2a3f5f"
            },
            "baxis": {
             "endlinecolor": "#2a3f5f",
             "gridcolor": "#C8D4E3",
             "linecolor": "#C8D4E3",
             "minorgridcolor": "#C8D4E3",
             "startlinecolor": "#2a3f5f"
            },
            "type": "carpet"
           }
          ],
          "choropleth": [
           {
            "colorbar": {
             "outlinewidth": 0,
             "ticks": ""
            },
            "type": "choropleth"
           }
          ],
          "contour": [
           {
            "colorbar": {
             "outlinewidth": 0,
             "ticks": ""
            },
            "colorscale": [
             [
              0,
              "#0d0887"
             ],
             [
              0.1111111111111111,
              "#46039f"
             ],
             [
              0.2222222222222222,
              "#7201a8"
             ],
             [
              0.3333333333333333,
              "#9c179e"
             ],
             [
              0.4444444444444444,
              "#bd3786"
             ],
             [
              0.5555555555555556,
              "#d8576b"
             ],
             [
              0.6666666666666666,
              "#ed7953"
             ],
             [
              0.7777777777777778,
              "#fb9f3a"
             ],
             [
              0.8888888888888888,
              "#fdca26"
             ],
             [
              1,
              "#f0f921"
             ]
            ],
            "type": "contour"
           }
          ],
          "contourcarpet": [
           {
            "colorbar": {
             "outlinewidth": 0,
             "ticks": ""
            },
            "type": "contourcarpet"
           }
          ],
          "heatmap": [
           {
            "colorbar": {
             "outlinewidth": 0,
             "ticks": ""
            },
            "colorscale": [
             [
              0,
              "#0d0887"
             ],
             [
              0.1111111111111111,
              "#46039f"
             ],
             [
              0.2222222222222222,
              "#7201a8"
             ],
             [
              0.3333333333333333,
              "#9c179e"
             ],
             [
              0.4444444444444444,
              "#bd3786"
             ],
             [
              0.5555555555555556,
              "#d8576b"
             ],
             [
              0.6666666666666666,
              "#ed7953"
             ],
             [
              0.7777777777777778,
              "#fb9f3a"
             ],
             [
              0.8888888888888888,
              "#fdca26"
             ],
             [
              1,
              "#f0f921"
             ]
            ],
            "type": "heatmap"
           }
          ],
          "heatmapgl": [
           {
            "colorbar": {
             "outlinewidth": 0,
             "ticks": ""
            },
            "colorscale": [
             [
              0,
              "#0d0887"
             ],
             [
              0.1111111111111111,
              "#46039f"
             ],
             [
              0.2222222222222222,
              "#7201a8"
             ],
             [
              0.3333333333333333,
              "#9c179e"
             ],
             [
              0.4444444444444444,
              "#bd3786"
             ],
             [
              0.5555555555555556,
              "#d8576b"
             ],
             [
              0.6666666666666666,
              "#ed7953"
             ],
             [
              0.7777777777777778,
              "#fb9f3a"
             ],
             [
              0.8888888888888888,
              "#fdca26"
             ],
             [
              1,
              "#f0f921"
             ]
            ],
            "type": "heatmapgl"
           }
          ],
          "histogram": [
           {
            "marker": {
             "pattern": {
              "fillmode": "overlay",
              "size": 10,
              "solidity": 0.2
             }
            },
            "type": "histogram"
           }
          ],
          "histogram2d": [
           {
            "colorbar": {
             "outlinewidth": 0,
             "ticks": ""
            },
            "colorscale": [
             [
              0,
              "#0d0887"
             ],
             [
              0.1111111111111111,
              "#46039f"
             ],
             [
              0.2222222222222222,
              "#7201a8"
             ],
             [
              0.3333333333333333,
              "#9c179e"
             ],
             [
              0.4444444444444444,
              "#bd3786"
             ],
             [
              0.5555555555555556,
              "#d8576b"
             ],
             [
              0.6666666666666666,
              "#ed7953"
             ],
             [
              0.7777777777777778,
              "#fb9f3a"
             ],
             [
              0.8888888888888888,
              "#fdca26"
             ],
             [
              1,
              "#f0f921"
             ]
            ],
            "type": "histogram2d"
           }
          ],
          "histogram2dcontour": [
           {
            "colorbar": {
             "outlinewidth": 0,
             "ticks": ""
            },
            "colorscale": [
             [
              0,
              "#0d0887"
             ],
             [
              0.1111111111111111,
              "#46039f"
             ],
             [
              0.2222222222222222,
              "#7201a8"
             ],
             [
              0.3333333333333333,
              "#9c179e"
             ],
             [
              0.4444444444444444,
              "#bd3786"
             ],
             [
              0.5555555555555556,
              "#d8576b"
             ],
             [
              0.6666666666666666,
              "#ed7953"
             ],
             [
              0.7777777777777778,
              "#fb9f3a"
             ],
             [
              0.8888888888888888,
              "#fdca26"
             ],
             [
              1,
              "#f0f921"
             ]
            ],
            "type": "histogram2dcontour"
           }
          ],
          "mesh3d": [
           {
            "colorbar": {
             "outlinewidth": 0,
             "ticks": ""
            },
            "type": "mesh3d"
           }
          ],
          "parcoords": [
           {
            "line": {
             "colorbar": {
              "outlinewidth": 0,
              "ticks": ""
             }
            },
            "type": "parcoords"
           }
          ],
          "pie": [
           {
            "automargin": true,
            "type": "pie"
           }
          ],
          "scatter": [
           {
            "fillpattern": {
             "fillmode": "overlay",
             "size": 10,
             "solidity": 0.2
            },
            "type": "scatter"
           }
          ],
          "scatter3d": [
           {
            "line": {
             "colorbar": {
              "outlinewidth": 0,
              "ticks": ""
             }
            },
            "marker": {
             "colorbar": {
              "outlinewidth": 0,
              "ticks": ""
             }
            },
            "type": "scatter3d"
           }
          ],
          "scattercarpet": [
           {
            "marker": {
             "colorbar": {
              "outlinewidth": 0,
              "ticks": ""
             }
            },
            "type": "scattercarpet"
           }
          ],
          "scattergeo": [
           {
            "marker": {
             "colorbar": {
              "outlinewidth": 0,
              "ticks": ""
             }
            },
            "type": "scattergeo"
           }
          ],
          "scattergl": [
           {
            "marker": {
             "colorbar": {
              "outlinewidth": 0,
              "ticks": ""
             }
            },
            "type": "scattergl"
           }
          ],
          "scattermapbox": [
           {
            "marker": {
             "colorbar": {
              "outlinewidth": 0,
              "ticks": ""
             }
            },
            "type": "scattermapbox"
           }
          ],
          "scatterpolar": [
           {
            "marker": {
             "colorbar": {
              "outlinewidth": 0,
              "ticks": ""
             }
            },
            "type": "scatterpolar"
           }
          ],
          "scatterpolargl": [
           {
            "marker": {
             "colorbar": {
              "outlinewidth": 0,
              "ticks": ""
             }
            },
            "type": "scatterpolargl"
           }
          ],
          "scatterternary": [
           {
            "marker": {
             "colorbar": {
              "outlinewidth": 0,
              "ticks": ""
             }
            },
            "type": "scatterternary"
           }
          ],
          "surface": [
           {
            "colorbar": {
             "outlinewidth": 0,
             "ticks": ""
            },
            "colorscale": [
             [
              0,
              "#0d0887"
             ],
             [
              0.1111111111111111,
              "#46039f"
             ],
             [
              0.2222222222222222,
              "#7201a8"
             ],
             [
              0.3333333333333333,
              "#9c179e"
             ],
             [
              0.4444444444444444,
              "#bd3786"
             ],
             [
              0.5555555555555556,
              "#d8576b"
             ],
             [
              0.6666666666666666,
              "#ed7953"
             ],
             [
              0.7777777777777778,
              "#fb9f3a"
             ],
             [
              0.8888888888888888,
              "#fdca26"
             ],
             [
              1,
              "#f0f921"
             ]
            ],
            "type": "surface"
           }
          ],
          "table": [
           {
            "cells": {
             "fill": {
              "color": "#EBF0F8"
             },
             "line": {
              "color": "white"
             }
            },
            "header": {
             "fill": {
              "color": "#C8D4E3"
             },
             "line": {
              "color": "white"
             }
            },
            "type": "table"
           }
          ]
         },
         "layout": {
          "annotationdefaults": {
           "arrowcolor": "#2a3f5f",
           "arrowhead": 0,
           "arrowwidth": 1
          },
          "autotypenumbers": "strict",
          "coloraxis": {
           "colorbar": {
            "outlinewidth": 0,
            "ticks": ""
           }
          },
          "colorscale": {
           "diverging": [
            [
             0,
             "#8e0152"
            ],
            [
             0.1,
             "#c51b7d"
            ],
            [
             0.2,
             "#de77ae"
            ],
            [
             0.3,
             "#f1b6da"
            ],
            [
             0.4,
             "#fde0ef"
            ],
            [
             0.5,
             "#f7f7f7"
            ],
            [
             0.6,
             "#e6f5d0"
            ],
            [
             0.7,
             "#b8e186"
            ],
            [
             0.8,
             "#7fbc41"
            ],
            [
             0.9,
             "#4d9221"
            ],
            [
             1,
             "#276419"
            ]
           ],
           "sequential": [
            [
             0,
             "#0d0887"
            ],
            [
             0.1111111111111111,
             "#46039f"
            ],
            [
             0.2222222222222222,
             "#7201a8"
            ],
            [
             0.3333333333333333,
             "#9c179e"
            ],
            [
             0.4444444444444444,
             "#bd3786"
            ],
            [
             0.5555555555555556,
             "#d8576b"
            ],
            [
             0.6666666666666666,
             "#ed7953"
            ],
            [
             0.7777777777777778,
             "#fb9f3a"
            ],
            [
             0.8888888888888888,
             "#fdca26"
            ],
            [
             1,
             "#f0f921"
            ]
           ],
           "sequentialminus": [
            [
             0,
             "#0d0887"
            ],
            [
             0.1111111111111111,
             "#46039f"
            ],
            [
             0.2222222222222222,
             "#7201a8"
            ],
            [
             0.3333333333333333,
             "#9c179e"
            ],
            [
             0.4444444444444444,
             "#bd3786"
            ],
            [
             0.5555555555555556,
             "#d8576b"
            ],
            [
             0.6666666666666666,
             "#ed7953"
            ],
            [
             0.7777777777777778,
             "#fb9f3a"
            ],
            [
             0.8888888888888888,
             "#fdca26"
            ],
            [
             1,
             "#f0f921"
            ]
           ]
          },
          "colorway": [
           "#636efa",
           "#EF553B",
           "#00cc96",
           "#ab63fa",
           "#FFA15A",
           "#19d3f3",
           "#FF6692",
           "#B6E880",
           "#FF97FF",
           "#FECB52"
          ],
          "font": {
           "color": "#2a3f5f"
          },
          "geo": {
           "bgcolor": "white",
           "lakecolor": "white",
           "landcolor": "white",
           "showlakes": true,
           "showland": true,
           "subunitcolor": "#C8D4E3"
          },
          "hoverlabel": {
           "align": "left"
          },
          "hovermode": "closest",
          "mapbox": {
           "style": "light"
          },
          "paper_bgcolor": "white",
          "plot_bgcolor": "white",
          "polar": {
           "angularaxis": {
            "gridcolor": "#EBF0F8",
            "linecolor": "#EBF0F8",
            "ticks": ""
           },
           "bgcolor": "white",
           "radialaxis": {
            "gridcolor": "#EBF0F8",
            "linecolor": "#EBF0F8",
            "ticks": ""
           }
          },
          "scene": {
           "xaxis": {
            "backgroundcolor": "white",
            "gridcolor": "#DFE8F3",
            "gridwidth": 2,
            "linecolor": "#EBF0F8",
            "showbackground": true,
            "ticks": "",
            "zerolinecolor": "#EBF0F8"
           },
           "yaxis": {
            "backgroundcolor": "white",
            "gridcolor": "#DFE8F3",
            "gridwidth": 2,
            "linecolor": "#EBF0F8",
            "showbackground": true,
            "ticks": "",
            "zerolinecolor": "#EBF0F8"
           },
           "zaxis": {
            "backgroundcolor": "white",
            "gridcolor": "#DFE8F3",
            "gridwidth": 2,
            "linecolor": "#EBF0F8",
            "showbackground": true,
            "ticks": "",
            "zerolinecolor": "#EBF0F8"
           }
          },
          "shapedefaults": {
           "line": {
            "color": "#2a3f5f"
           }
          },
          "ternary": {
           "aaxis": {
            "gridcolor": "#DFE8F3",
            "linecolor": "#A2B1C6",
            "ticks": ""
           },
           "baxis": {
            "gridcolor": "#DFE8F3",
            "linecolor": "#A2B1C6",
            "ticks": ""
           },
           "bgcolor": "white",
           "caxis": {
            "gridcolor": "#DFE8F3",
            "linecolor": "#A2B1C6",
            "ticks": ""
           }
          },
          "title": {
           "x": 0.05
          },
          "xaxis": {
           "automargin": true,
           "gridcolor": "#EBF0F8",
           "linecolor": "#EBF0F8",
           "ticks": "",
           "title": {
            "standoff": 15
           },
           "zerolinecolor": "#EBF0F8",
           "zerolinewidth": 2
          },
          "yaxis": {
           "automargin": true,
           "gridcolor": "#EBF0F8",
           "linecolor": "#EBF0F8",
           "ticks": "",
           "title": {
            "standoff": 15
           },
           "zerolinecolor": "#EBF0F8",
           "zerolinewidth": 2
          }
         }
        },
        "title": {
         "font": {
          "color": "Black",
          "size": 22
         },
         "text": "Topic Word Scores",
         "x": 0.5,
         "xanchor": "center",
         "yanchor": "top"
        },
        "width": 1000,
        "xaxis": {
         "anchor": "y",
         "domain": [
          0,
          0.175
         ],
         "showgrid": true
        },
        "xaxis2": {
         "anchor": "y2",
         "domain": [
          0.275,
          0.45
         ],
         "showgrid": true
        },
        "xaxis3": {
         "anchor": "y3",
         "domain": [
          0.55,
          0.7250000000000001
         ],
         "showgrid": true
        },
        "xaxis4": {
         "anchor": "y4",
         "domain": [
          0.825,
          1
         ],
         "showgrid": true
        },
        "xaxis5": {
         "anchor": "y5",
         "domain": [
          0,
          0.175
         ],
         "showgrid": true
        },
        "xaxis6": {
         "anchor": "y6",
         "domain": [
          0.275,
          0.45
         ],
         "showgrid": true
        },
        "xaxis7": {
         "anchor": "y7",
         "domain": [
          0.55,
          0.7250000000000001
         ],
         "showgrid": true
        },
        "xaxis8": {
         "anchor": "y8",
         "domain": [
          0.825,
          1
         ],
         "showgrid": true
        },
        "yaxis": {
         "anchor": "x",
         "domain": [
          0.6000000000000001,
          1
         ],
         "showgrid": true
        },
        "yaxis2": {
         "anchor": "x2",
         "domain": [
          0.6000000000000001,
          1
         ],
         "showgrid": true
        },
        "yaxis3": {
         "anchor": "x3",
         "domain": [
          0.6000000000000001,
          1
         ],
         "showgrid": true
        },
        "yaxis4": {
         "anchor": "x4",
         "domain": [
          0.6000000000000001,
          1
         ],
         "showgrid": true
        },
        "yaxis5": {
         "anchor": "x5",
         "domain": [
          0,
          0.4
         ],
         "showgrid": true
        },
        "yaxis6": {
         "anchor": "x6",
         "domain": [
          0,
          0.4
         ],
         "showgrid": true
        },
        "yaxis7": {
         "anchor": "x7",
         "domain": [
          0,
          0.4
         ],
         "showgrid": true
        },
        "yaxis8": {
         "anchor": "x8",
         "domain": [
          0,
          0.4
         ],
         "showgrid": true
        }
       }
      },
      "text/html": [
       "<div>                            <div id=\"77f756c8-5ac8-49ad-a426-8def7e893020\" class=\"plotly-graph-div\" style=\"height:500px; width:1000px;\"></div>            <script type=\"text/javascript\">                require([\"plotly\"], function(Plotly) {                    window.PLOTLYENV=window.PLOTLYENV || {};                                    if (document.getElementById(\"77f756c8-5ac8-49ad-a426-8def7e893020\")) {                    Plotly.newPlot(                        \"77f756c8-5ac8-49ad-a426-8def7e893020\",                        [{\"marker\":{\"color\":\"#D55E00\"},\"orientation\":\"h\",\"x\":[0.004926720128765208,0.004926720128765208,0.00502644445665121,0.0055274965016594195,0.005925442406937426,0.006911615904769021,0.010352585035184284,0.011240063905302775],\"y\":[\"provide opportunity  \",\"better understand  \",\"interracial relationships  \",\"young adults  \",\"provide valuable  \",\"does contain  \",\"important topics  \",\"sounds like  \"],\"type\":\"bar\",\"xaxis\":\"x\",\"yaxis\":\"y\"},{\"marker\":{\"color\":\"#0072B2\"},\"orientation\":\"h\",\"x\":[0.007033388895401616,0.007189471749518028,0.007511329636417181,0.00810942479366713,0.00810942479366713,0.00867934149262196,0.009585962332690703,0.010094708875223318],\"y\":[\"contain material  \",\"contains important  \",\"important topics  \",\"racism identity  \",\"meaningful dialogue  \",\"does contain  \",\"provide important  \",\"important themes  \"],\"type\":\"bar\",\"xaxis\":\"x2\",\"yaxis\":\"y2\"},{\"marker\":{\"color\":\"#CC79A7\"},\"orientation\":\"h\",\"x\":[0.01785975958957189,0.01785975958957189,0.01785975958957189,0.018184138195932037,0.018701740999118147,0.02015265675500605,0.020653274918657337,0.03058386140039457],\"y\":[\"need banned  \",\"does need  \",\"does need banned  \",\"subject matter  \",\"mature understand  \",\"age group  \",\"language content  \",\"does contain  \"],\"type\":\"bar\",\"xaxis\":\"x3\",\"yaxis\":\"y3\"},{\"marker\":{\"color\":\"#E69F00\"},\"orientation\":\"h\",\"x\":[0.016090609860039837,0.016090609860039837,0.016550154247721063,0.01808730616824141,0.01842448056288605,0.018557111632623753,0.01968775638827214,0.02167323138805699],\"y\":[\"subject matter mature  \",\"matter mature  \",\"subject matter  \",\"older audience  \",\"mature content  \",\"does contain  \",\"contain mature  \",\"older children  \"],\"type\":\"bar\",\"xaxis\":\"x4\",\"yaxis\":\"y4\"},{\"marker\":{\"color\":\"#56B4E9\"},\"orientation\":\"h\",\"x\":[0.013377104646956196,0.013377104646956196,0.013377104646956196,0.013377104646956196,0.014546172616709997,0.017359764970075728,0.01939489682228,0.023141486843641746],\"y\":[\"contain explicit material  \",\"explicit material  \",\"age does contain  \",\"does contain explicit material  \",\"opportunity discuss  \",\"content suitable  \",\"contain content  \",\"does contain  \"],\"type\":\"bar\",\"xaxis\":\"x5\",\"yaxis\":\"y5\"},{\"marker\":{\"color\":\"#009E73\"},\"orientation\":\"h\",\"x\":[0.022416812072151272,0.023267155759480473,0.023267155759480473,0.023267155759480473,0.023267155759480473,0.028021015090189096,0.028021015090189096,0.06104668813545724],\"y\":[\"insight experiences  \",\"experiences black  \",\"black queer boy  \",\"experiences black queer  \",\"queer boy  \",\"queer boys  \",\"black queer boys  \",\"black queer  \"],\"type\":\"bar\",\"xaxis\":\"x6\",\"yaxis\":\"y6\"},{\"marker\":{\"color\":\"#F0E442\"},\"orientation\":\"h\",\"x\":[0.026287566108553456,0.026287566108553456,0.03305723705796241,0.03305723705796241,0.03305723705796241,0.0399538136828899,0.040946318298035765,0.04407631607728321],\"y\":[\"sexuality coming  \",\"traumatic medical  \",\"young children  \",\"mature age group  \",\"mature age  \",\"age group  \",\"topics discussed  \",\"crushes coming  \"],\"type\":\"bar\",\"xaxis\":\"x7\",\"yaxis\":\"y7\"}],                        {\"template\":{\"data\":{\"barpolar\":[{\"marker\":{\"line\":{\"color\":\"white\",\"width\":0.5},\"pattern\":{\"fillmode\":\"overlay\",\"size\":10,\"solidity\":0.2}},\"type\":\"barpolar\"}],\"bar\":[{\"error_x\":{\"color\":\"#2a3f5f\"},\"error_y\":{\"color\":\"#2a3f5f\"},\"marker\":{\"line\":{\"color\":\"white\",\"width\":0.5},\"pattern\":{\"fillmode\":\"overlay\",\"size\":10,\"solidity\":0.2}},\"type\":\"bar\"}],\"carpet\":[{\"aaxis\":{\"endlinecolor\":\"#2a3f5f\",\"gridcolor\":\"#C8D4E3\",\"linecolor\":\"#C8D4E3\",\"minorgridcolor\":\"#C8D4E3\",\"startlinecolor\":\"#2a3f5f\"},\"baxis\":{\"endlinecolor\":\"#2a3f5f\",\"gridcolor\":\"#C8D4E3\",\"linecolor\":\"#C8D4E3\",\"minorgridcolor\":\"#C8D4E3\",\"startlinecolor\":\"#2a3f5f\"},\"type\":\"carpet\"}],\"choropleth\":[{\"colorbar\":{\"outlinewidth\":0,\"ticks\":\"\"},\"type\":\"choropleth\"}],\"contourcarpet\":[{\"colorbar\":{\"outlinewidth\":0,\"ticks\":\"\"},\"type\":\"contourcarpet\"}],\"contour\":[{\"colorbar\":{\"outlinewidth\":0,\"ticks\":\"\"},\"colorscale\":[[0.0,\"#0d0887\"],[0.1111111111111111,\"#46039f\"],[0.2222222222222222,\"#7201a8\"],[0.3333333333333333,\"#9c179e\"],[0.4444444444444444,\"#bd3786\"],[0.5555555555555556,\"#d8576b\"],[0.6666666666666666,\"#ed7953\"],[0.7777777777777778,\"#fb9f3a\"],[0.8888888888888888,\"#fdca26\"],[1.0,\"#f0f921\"]],\"type\":\"contour\"}],\"heatmapgl\":[{\"colorbar\":{\"outlinewidth\":0,\"ticks\":\"\"},\"colorscale\":[[0.0,\"#0d0887\"],[0.1111111111111111,\"#46039f\"],[0.2222222222222222,\"#7201a8\"],[0.3333333333333333,\"#9c179e\"],[0.4444444444444444,\"#bd3786\"],[0.5555555555555556,\"#d8576b\"],[0.6666666666666666,\"#ed7953\"],[0.7777777777777778,\"#fb9f3a\"],[0.8888888888888888,\"#fdca26\"],[1.0,\"#f0f921\"]],\"type\":\"heatmapgl\"}],\"heatmap\":[{\"colorbar\":{\"outlinewidth\":0,\"ticks\":\"\"},\"colorscale\":[[0.0,\"#0d0887\"],[0.1111111111111111,\"#46039f\"],[0.2222222222222222,\"#7201a8\"],[0.3333333333333333,\"#9c179e\"],[0.4444444444444444,\"#bd3786\"],[0.5555555555555556,\"#d8576b\"],[0.6666666666666666,\"#ed7953\"],[0.7777777777777778,\"#fb9f3a\"],[0.8888888888888888,\"#fdca26\"],[1.0,\"#f0f921\"]],\"type\":\"heatmap\"}],\"histogram2dcontour\":[{\"colorbar\":{\"outlinewidth\":0,\"ticks\":\"\"},\"colorscale\":[[0.0,\"#0d0887\"],[0.1111111111111111,\"#46039f\"],[0.2222222222222222,\"#7201a8\"],[0.3333333333333333,\"#9c179e\"],[0.4444444444444444,\"#bd3786\"],[0.5555555555555556,\"#d8576b\"],[0.6666666666666666,\"#ed7953\"],[0.7777777777777778,\"#fb9f3a\"],[0.8888888888888888,\"#fdca26\"],[1.0,\"#f0f921\"]],\"type\":\"histogram2dcontour\"}],\"histogram2d\":[{\"colorbar\":{\"outlinewidth\":0,\"ticks\":\"\"},\"colorscale\":[[0.0,\"#0d0887\"],[0.1111111111111111,\"#46039f\"],[0.2222222222222222,\"#7201a8\"],[0.3333333333333333,\"#9c179e\"],[0.4444444444444444,\"#bd3786\"],[0.5555555555555556,\"#d8576b\"],[0.6666666666666666,\"#ed7953\"],[0.7777777777777778,\"#fb9f3a\"],[0.8888888888888888,\"#fdca26\"],[1.0,\"#f0f921\"]],\"type\":\"histogram2d\"}],\"histogram\":[{\"marker\":{\"pattern\":{\"fillmode\":\"overlay\",\"size\":10,\"solidity\":0.2}},\"type\":\"histogram\"}],\"mesh3d\":[{\"colorbar\":{\"outlinewidth\":0,\"ticks\":\"\"},\"type\":\"mesh3d\"}],\"parcoords\":[{\"line\":{\"colorbar\":{\"outlinewidth\":0,\"ticks\":\"\"}},\"type\":\"parcoords\"}],\"pie\":[{\"automargin\":true,\"type\":\"pie\"}],\"scatter3d\":[{\"line\":{\"colorbar\":{\"outlinewidth\":0,\"ticks\":\"\"}},\"marker\":{\"colorbar\":{\"outlinewidth\":0,\"ticks\":\"\"}},\"type\":\"scatter3d\"}],\"scattercarpet\":[{\"marker\":{\"colorbar\":{\"outlinewidth\":0,\"ticks\":\"\"}},\"type\":\"scattercarpet\"}],\"scattergeo\":[{\"marker\":{\"colorbar\":{\"outlinewidth\":0,\"ticks\":\"\"}},\"type\":\"scattergeo\"}],\"scattergl\":[{\"marker\":{\"colorbar\":{\"outlinewidth\":0,\"ticks\":\"\"}},\"type\":\"scattergl\"}],\"scattermapbox\":[{\"marker\":{\"colorbar\":{\"outlinewidth\":0,\"ticks\":\"\"}},\"type\":\"scattermapbox\"}],\"scatterpolargl\":[{\"marker\":{\"colorbar\":{\"outlinewidth\":0,\"ticks\":\"\"}},\"type\":\"scatterpolargl\"}],\"scatterpolar\":[{\"marker\":{\"colorbar\":{\"outlinewidth\":0,\"ticks\":\"\"}},\"type\":\"scatterpolar\"}],\"scatter\":[{\"fillpattern\":{\"fillmode\":\"overlay\",\"size\":10,\"solidity\":0.2},\"type\":\"scatter\"}],\"scatterternary\":[{\"marker\":{\"colorbar\":{\"outlinewidth\":0,\"ticks\":\"\"}},\"type\":\"scatterternary\"}],\"surface\":[{\"colorbar\":{\"outlinewidth\":0,\"ticks\":\"\"},\"colorscale\":[[0.0,\"#0d0887\"],[0.1111111111111111,\"#46039f\"],[0.2222222222222222,\"#7201a8\"],[0.3333333333333333,\"#9c179e\"],[0.4444444444444444,\"#bd3786\"],[0.5555555555555556,\"#d8576b\"],[0.6666666666666666,\"#ed7953\"],[0.7777777777777778,\"#fb9f3a\"],[0.8888888888888888,\"#fdca26\"],[1.0,\"#f0f921\"]],\"type\":\"surface\"}],\"table\":[{\"cells\":{\"fill\":{\"color\":\"#EBF0F8\"},\"line\":{\"color\":\"white\"}},\"header\":{\"fill\":{\"color\":\"#C8D4E3\"},\"line\":{\"color\":\"white\"}},\"type\":\"table\"}]},\"layout\":{\"annotationdefaults\":{\"arrowcolor\":\"#2a3f5f\",\"arrowhead\":0,\"arrowwidth\":1},\"autotypenumbers\":\"strict\",\"coloraxis\":{\"colorbar\":{\"outlinewidth\":0,\"ticks\":\"\"}},\"colorscale\":{\"diverging\":[[0,\"#8e0152\"],[0.1,\"#c51b7d\"],[0.2,\"#de77ae\"],[0.3,\"#f1b6da\"],[0.4,\"#fde0ef\"],[0.5,\"#f7f7f7\"],[0.6,\"#e6f5d0\"],[0.7,\"#b8e186\"],[0.8,\"#7fbc41\"],[0.9,\"#4d9221\"],[1,\"#276419\"]],\"sequential\":[[0.0,\"#0d0887\"],[0.1111111111111111,\"#46039f\"],[0.2222222222222222,\"#7201a8\"],[0.3333333333333333,\"#9c179e\"],[0.4444444444444444,\"#bd3786\"],[0.5555555555555556,\"#d8576b\"],[0.6666666666666666,\"#ed7953\"],[0.7777777777777778,\"#fb9f3a\"],[0.8888888888888888,\"#fdca26\"],[1.0,\"#f0f921\"]],\"sequentialminus\":[[0.0,\"#0d0887\"],[0.1111111111111111,\"#46039f\"],[0.2222222222222222,\"#7201a8\"],[0.3333333333333333,\"#9c179e\"],[0.4444444444444444,\"#bd3786\"],[0.5555555555555556,\"#d8576b\"],[0.6666666666666666,\"#ed7953\"],[0.7777777777777778,\"#fb9f3a\"],[0.8888888888888888,\"#fdca26\"],[1.0,\"#f0f921\"]]},\"colorway\":[\"#636efa\",\"#EF553B\",\"#00cc96\",\"#ab63fa\",\"#FFA15A\",\"#19d3f3\",\"#FF6692\",\"#B6E880\",\"#FF97FF\",\"#FECB52\"],\"font\":{\"color\":\"#2a3f5f\"},\"geo\":{\"bgcolor\":\"white\",\"lakecolor\":\"white\",\"landcolor\":\"white\",\"showlakes\":true,\"showland\":true,\"subunitcolor\":\"#C8D4E3\"},\"hoverlabel\":{\"align\":\"left\"},\"hovermode\":\"closest\",\"mapbox\":{\"style\":\"light\"},\"paper_bgcolor\":\"white\",\"plot_bgcolor\":\"white\",\"polar\":{\"angularaxis\":{\"gridcolor\":\"#EBF0F8\",\"linecolor\":\"#EBF0F8\",\"ticks\":\"\"},\"bgcolor\":\"white\",\"radialaxis\":{\"gridcolor\":\"#EBF0F8\",\"linecolor\":\"#EBF0F8\",\"ticks\":\"\"}},\"scene\":{\"xaxis\":{\"backgroundcolor\":\"white\",\"gridcolor\":\"#DFE8F3\",\"gridwidth\":2,\"linecolor\":\"#EBF0F8\",\"showbackground\":true,\"ticks\":\"\",\"zerolinecolor\":\"#EBF0F8\"},\"yaxis\":{\"backgroundcolor\":\"white\",\"gridcolor\":\"#DFE8F3\",\"gridwidth\":2,\"linecolor\":\"#EBF0F8\",\"showbackground\":true,\"ticks\":\"\",\"zerolinecolor\":\"#EBF0F8\"},\"zaxis\":{\"backgroundcolor\":\"white\",\"gridcolor\":\"#DFE8F3\",\"gridwidth\":2,\"linecolor\":\"#EBF0F8\",\"showbackground\":true,\"ticks\":\"\",\"zerolinecolor\":\"#EBF0F8\"}},\"shapedefaults\":{\"line\":{\"color\":\"#2a3f5f\"}},\"ternary\":{\"aaxis\":{\"gridcolor\":\"#DFE8F3\",\"linecolor\":\"#A2B1C6\",\"ticks\":\"\"},\"baxis\":{\"gridcolor\":\"#DFE8F3\",\"linecolor\":\"#A2B1C6\",\"ticks\":\"\"},\"bgcolor\":\"white\",\"caxis\":{\"gridcolor\":\"#DFE8F3\",\"linecolor\":\"#A2B1C6\",\"ticks\":\"\"}},\"title\":{\"x\":0.05},\"xaxis\":{\"automargin\":true,\"gridcolor\":\"#EBF0F8\",\"linecolor\":\"#EBF0F8\",\"ticks\":\"\",\"title\":{\"standoff\":15},\"zerolinecolor\":\"#EBF0F8\",\"zerolinewidth\":2},\"yaxis\":{\"automargin\":true,\"gridcolor\":\"#EBF0F8\",\"linecolor\":\"#EBF0F8\",\"ticks\":\"\",\"title\":{\"standoff\":15},\"zerolinecolor\":\"#EBF0F8\",\"zerolinewidth\":2}}},\"xaxis\":{\"anchor\":\"y\",\"domain\":[0.0,0.175],\"showgrid\":true},\"yaxis\":{\"anchor\":\"x\",\"domain\":[0.6000000000000001,1.0],\"showgrid\":true},\"xaxis2\":{\"anchor\":\"y2\",\"domain\":[0.275,0.45],\"showgrid\":true},\"yaxis2\":{\"anchor\":\"x2\",\"domain\":[0.6000000000000001,1.0],\"showgrid\":true},\"xaxis3\":{\"anchor\":\"y3\",\"domain\":[0.55,0.7250000000000001],\"showgrid\":true},\"yaxis3\":{\"anchor\":\"x3\",\"domain\":[0.6000000000000001,1.0],\"showgrid\":true},\"xaxis4\":{\"anchor\":\"y4\",\"domain\":[0.825,1.0],\"showgrid\":true},\"yaxis4\":{\"anchor\":\"x4\",\"domain\":[0.6000000000000001,1.0],\"showgrid\":true},\"xaxis5\":{\"anchor\":\"y5\",\"domain\":[0.0,0.175],\"showgrid\":true},\"yaxis5\":{\"anchor\":\"x5\",\"domain\":[0.0,0.4],\"showgrid\":true},\"xaxis6\":{\"anchor\":\"y6\",\"domain\":[0.275,0.45],\"showgrid\":true},\"yaxis6\":{\"anchor\":\"x6\",\"domain\":[0.0,0.4],\"showgrid\":true},\"xaxis7\":{\"anchor\":\"y7\",\"domain\":[0.55,0.7250000000000001],\"showgrid\":true},\"yaxis7\":{\"anchor\":\"x7\",\"domain\":[0.0,0.4],\"showgrid\":true},\"xaxis8\":{\"anchor\":\"y8\",\"domain\":[0.825,1.0],\"showgrid\":true},\"yaxis8\":{\"anchor\":\"x8\",\"domain\":[0.0,0.4],\"showgrid\":true},\"annotations\":[{\"font\":{\"size\":16},\"showarrow\":false,\"text\":\"Topic 0\",\"x\":0.0875,\"xanchor\":\"center\",\"xref\":\"paper\",\"y\":1.0,\"yanchor\":\"bottom\",\"yref\":\"paper\"},{\"font\":{\"size\":16},\"showarrow\":false,\"text\":\"Topic 1\",\"x\":0.36250000000000004,\"xanchor\":\"center\",\"xref\":\"paper\",\"y\":1.0,\"yanchor\":\"bottom\",\"yref\":\"paper\"},{\"font\":{\"size\":16},\"showarrow\":false,\"text\":\"Topic 2\",\"x\":0.6375000000000001,\"xanchor\":\"center\",\"xref\":\"paper\",\"y\":1.0,\"yanchor\":\"bottom\",\"yref\":\"paper\"},{\"font\":{\"size\":16},\"showarrow\":false,\"text\":\"Topic 3\",\"x\":0.9125,\"xanchor\":\"center\",\"xref\":\"paper\",\"y\":1.0,\"yanchor\":\"bottom\",\"yref\":\"paper\"},{\"font\":{\"size\":16},\"showarrow\":false,\"text\":\"Topic 4\",\"x\":0.0875,\"xanchor\":\"center\",\"xref\":\"paper\",\"y\":0.4,\"yanchor\":\"bottom\",\"yref\":\"paper\"},{\"font\":{\"size\":16},\"showarrow\":false,\"text\":\"Topic 5\",\"x\":0.36250000000000004,\"xanchor\":\"center\",\"xref\":\"paper\",\"y\":0.4,\"yanchor\":\"bottom\",\"yref\":\"paper\"},{\"font\":{\"size\":16},\"showarrow\":false,\"text\":\"Topic 6\",\"x\":0.6375000000000001,\"xanchor\":\"center\",\"xref\":\"paper\",\"y\":0.4,\"yanchor\":\"bottom\",\"yref\":\"paper\"}],\"title\":{\"font\":{\"size\":22,\"color\":\"Black\"},\"text\":\"Topic Word Scores\",\"x\":0.5,\"xanchor\":\"center\",\"yanchor\":\"top\"},\"hoverlabel\":{\"font\":{\"size\":16,\"family\":\"Rockwell\"},\"bgcolor\":\"white\"},\"showlegend\":false,\"width\":1000,\"height\":500},                        {\"responsive\": true}                    ).then(function(){\n",
       "                            \n",
       "var gd = document.getElementById('77f756c8-5ac8-49ad-a426-8def7e893020');\n",
       "var x = new MutationObserver(function (mutations, observer) {{\n",
       "        var display = window.getComputedStyle(gd).display;\n",
       "        if (!display || display === 'none') {{\n",
       "            console.log([gd, 'removed!']);\n",
       "            Plotly.purge(gd);\n",
       "            observer.disconnect();\n",
       "        }}\n",
       "}});\n",
       "\n",
       "// Listen for the removal of the full notebook cells\n",
       "var notebookContainer = gd.closest('#notebook-container');\n",
       "if (notebookContainer) {{\n",
       "    x.observe(notebookContainer, {childList: true});\n",
       "}}\n",
       "\n",
       "// Listen for the clearing of the current output cell\n",
       "var outputEl = gd.closest('.output');\n",
       "if (outputEl) {{\n",
       "    x.observe(outputEl, {childList: true});\n",
       "}}\n",
       "\n",
       "                        })                };                });            </script>        </div>"
      ]
     },
     "metadata": {},
     "output_type": "display_data"
    }
   ],
   "source": [
    "fig = tm_ban_description.visualize_barchart(n_words=8)\n",
    "fig.write_html(\"tm_ban_description-gpt.html\")\n",
    "fig"
   ]
  },
  {
   "cell_type": "markdown",
   "metadata": {},
   "source": [
    "### Analysis for \"Would you recommend a book...\""
   ]
  },
  {
   "cell_type": "code",
   "execution_count": 80,
   "metadata": {},
   "outputs": [],
   "source": [
    "# Giving GPT3 the description of the book\n",
    "responses_df = pd.read_json('gpt3_banned_books_responses.json')\n",
    "responses_df['answer'] = responses_df['response'].apply(lambda x: x.split('\\nExplain')[0])\n",
    "responses_df['answer'] = responses_df['answer'].apply(clean_answer)\n",
    "responses_df['explain'] = responses_df['response'].apply(clean_explanation)\n",
    "# responses_df = responses_df.drop(columns='response')"
   ]
  },
  {
   "cell_type": "code",
   "execution_count": 126,
   "metadata": {},
   "outputs": [
    {
     "name": "stderr",
     "output_type": "stream",
     "text": [
      "/Users/yenniejun/anaconda3/envs/nlp/lib/python3.8/site-packages/pandas/core/groupby/groupby.py:1160: FutureWarning: Unlike other reduction functions (e.g. `skew`, `kurtosis`), the default behavior of `mode` typically preserves the axis it acts along. In SciPy 1.11.0, this behavior will change: the default value of `keepdims` will become False, the `axis` over which the statistic is taken will be eliminated, and the value None will no longer be accepted. Set `keepdims` to True or False to avoid this warning.\n",
      "  f = lambda x: func(x, *args, **kwargs)\n"
     ]
    }
   ],
   "source": [
    "# Giving GPT3 the title+author of the book\n",
    "rec_title = pd.read_json('gpt3_banned_books_title_author_responses.json')\n",
    "rec_title['answer'] = rec_title['response'].apply(lambda x: x.split('\\nExplain')[0])\n",
    "rec_title['answer'] = rec_title['answer'].apply(clean_answer)\n",
    "rec_title['explain'] = rec_title['response'].apply(clean_explanation)\n",
    "\n",
    "# Giving GPT3 the description of the book\n",
    "rec_description = pd.read_json('gpt3_banned_books_responses.json')\n",
    "rec_description['answer'] = rec_description['response'].apply(lambda x: x.split('\\nExplain')[0])\n",
    "rec_description['answer'] = rec_description['answer'].apply(clean_answer)\n",
    "rec_description['explain'] = rec_description['response'].apply(clean_explanation)\n",
    "temptitle2title = {k:v for k, v in zip(book_descriptions.keys(), rec_title.book.unique())}\n",
    "rec_description.book = rec_description.book.apply(lambda x: temptitle2title[x])\n",
    "\n",
    "data_mode = rec_description.groupby(['book', 'age'])['answer'].agg(scipy.stats.mode).reset_index()\n",
    "data_mode.answer = data_mode.answer.apply(lambda x: x[0][0])\n",
    "data_mode['answer_map'] = data_mode.answer.apply(lambda x: 0 if x=='No' else 1)\n",
    "# data_mode.groupby('age').answer.value_counts(normalize=True)*100\n",
    "data_mode_pivot_description_rec = data_mode.pivot(index='book', columns='age', values='answer_map')\\\n",
    "    .reindex(ban_title.book.unique())\n",
    "\n",
    "\n",
    "data_mode = rec_title.groupby(['book', 'age'])['answer'].agg(scipy.stats.mode).reset_index()\n",
    "data_mode.answer = data_mode.answer.apply(lambda x: x[0][0])\n",
    "data_mode['answer_map'] = data_mode.answer.apply(lambda x: 0 if x=='No' else 1)\n",
    "# data_mode.groupby('age').answer.value_counts(normalize=True)*100\n",
    "data_mode_pivot_title_rec = data_mode.pivot(index='book', columns='age', values='answer_map')\\\n",
    "    .reindex(rec_title.book.unique())\n"
   ]
  },
  {
   "cell_type": "code",
   "execution_count": 127,
   "metadata": {},
   "outputs": [
    {
     "data": {
      "image/png": "[encoded data removed]",
      "text/plain": [
       "<Figure size 1500x400 with 2 Axes>"
      ]
     },
     "metadata": {},
     "output_type": "display_data"
    }
   ],
   "source": [
    "fig, axes = plt.subplots(1,2, figsize=(15,4))\n",
    "\n",
    "for ax, data_mode_pivot, plot_title in zip(axes, \n",
    "                                           [data_mode_pivot_title_rec, data_mode_pivot_description_rec], \n",
    "                                           ['Title + Author', 'Description']):\n",
    "\n",
    "    sns.heatmap(data_mode_pivot,\n",
    "                cbar=False,\n",
    "                cmap=[COLORS[5], COLORS[1]],\n",
    "                linewidths=.2,\n",
    "                linecolor='beige',\n",
    "                ax=ax\n",
    "               )\n",
    "    ax.set_ylabel('')\n",
    "    \n",
    "    ax.set_yticklabels(data_mode_pivot.index, fontsize=12)\n",
    " \n",
    "\n",
    "#     ax.set_tick_params(left=False, bottom=False)\n",
    "    ax.set_xticklabels(data_mode_pivot.columns, fontsize=12)\n",
    "    ax.set_xlabel('Age', size=12)\n",
    "    wrap_labels(ax, 13)\n",
    "    \n",
    "    ax.xaxis.set_ticks_position('none') \n",
    "    ax.yaxis.set_ticks_position('none')\n",
    "\n",
    "\n",
    "    no = mlines.Line2D([], [], color=COLORS[5], marker='s', ls='', label='No')\n",
    "    yes = mlines.Line2D([], [], color=COLORS[1], marker='s', ls='', label='Yes')\n",
    "    ax.legend(handles=[no,yes], loc='upper center', \n",
    "               bbox_to_anchor=(0.5, 1.2), \n",
    "               ncol=2, \n",
    "               frameon=False,\n",
    "               fontsize=14,\n",
    "               markerscale=2,\n",
    "              )\n",
    "    \n",
    "    ax.set_title(f'Would you recommend [{plot_title}]?', y=1.2, size=14)\n",
    "\n",
    "ax.yaxis.set_label_position(\"right\")\n",
    "ax.yaxis.tick_right()\n",
    "ax.yaxis.set_ticks_position('none')"
   ]
  },
  {
   "cell_type": "markdown",
   "metadata": {},
   "source": [
    "### Topic modeling using GPT \"recommend book\" response"
   ]
  },
  {
   "cell_type": "code",
   "execution_count": 96,
   "metadata": {},
   "outputs": [
    {
     "data": {
      "application/vnd.jupyter.widget-view+json": {
       "model_id": "a75b7b37edd54648a9b5ada912d6198e",
       "version_major": 2,
       "version_minor": 0
      },
      "text/plain": [
       "Batches:   0%|          | 0/8 [00:00<?, ?it/s]"
      ]
     },
     "metadata": {},
     "output_type": "display_data"
    },
    {
     "name": "stderr",
     "output_type": "stream",
     "text": [
      "2023-02-24 20:35:13,285 - BERTopic - Transformed documents to Embeddings\n",
      "2023-02-24 20:35:15,829 - BERTopic - Reduced dimensionality\n",
      "2023-02-24 20:35:15,849 - BERTopic - Clustered reduced embeddings\n"
     ]
    },
    {
     "data": {
      "text/html": [
       "<div>\n",
       "<style scoped>\n",
       "    .dataframe tbody tr th:only-of-type {\n",
       "        vertical-align: middle;\n",
       "    }\n",
       "\n",
       "    .dataframe tbody tr th {\n",
       "        vertical-align: top;\n",
       "    }\n",
       "\n",
       "    .dataframe thead th {\n",
       "        text-align: right;\n",
       "    }\n",
       "</style>\n",
       "<table border=\"1\" class=\"dataframe\">\n",
       "  <thead>\n",
       "    <tr style=\"text-align: right;\">\n",
       "      <th></th>\n",
       "      <th>Topic</th>\n",
       "      <th>Count</th>\n",
       "      <th>Name</th>\n",
       "    </tr>\n",
       "  </thead>\n",
       "  <tbody>\n",
       "    <tr>\n",
       "      <th>0</th>\n",
       "      <td>-1</td>\n",
       "      <td>7</td>\n",
       "      <td>-1_mexican_mexican american_american_insight</td>\n",
       "    </tr>\n",
       "    <tr>\n",
       "      <th>1</th>\n",
       "      <td>0</td>\n",
       "      <td>52</td>\n",
       "      <td>0_topics_experiences_themes_students</td>\n",
       "    </tr>\n",
       "    <tr>\n",
       "      <th>2</th>\n",
       "      <td>1</td>\n",
       "      <td>47</td>\n",
       "      <td>1_historical_topics_themes_provides</td>\n",
       "    </tr>\n",
       "    <tr>\n",
       "      <th>3</th>\n",
       "      <td>2</td>\n",
       "      <td>27</td>\n",
       "      <td>2_mature_contains_likely_topics</td>\n",
       "    </tr>\n",
       "    <tr>\n",
       "      <th>4</th>\n",
       "      <td>3</td>\n",
       "      <td>25</td>\n",
       "      <td>3_appropriate_audience_mature_topics</td>\n",
       "    </tr>\n",
       "    <tr>\n",
       "      <th>5</th>\n",
       "      <td>4</td>\n",
       "      <td>25</td>\n",
       "      <td>4_mature_likely_contains_topics</td>\n",
       "    </tr>\n",
       "    <tr>\n",
       "      <th>6</th>\n",
       "      <td>5</td>\n",
       "      <td>25</td>\n",
       "      <td>5_mature_content_themes_likely</td>\n",
       "    </tr>\n",
       "    <tr>\n",
       "      <th>7</th>\n",
       "      <td>6</td>\n",
       "      <td>22</td>\n",
       "      <td>6_mature_themes_older_topics</td>\n",
       "    </tr>\n",
       "    <tr>\n",
       "      <th>8</th>\n",
       "      <td>7</td>\n",
       "      <td>20</td>\n",
       "      <td>7_black_queer_black queer_boy</td>\n",
       "    </tr>\n",
       "  </tbody>\n",
       "</table>\n",
       "</div>"
      ],
      "text/plain": [
       "   Topic  Count                                          Name\n",
       "0     -1      7  -1_mexican_mexican american_american_insight\n",
       "1      0     52          0_topics_experiences_themes_students\n",
       "2      1     47           1_historical_topics_themes_provides\n",
       "3      2     27               2_mature_contains_likely_topics\n",
       "4      3     25          3_appropriate_audience_mature_topics\n",
       "5      4     25               4_mature_likely_contains_topics\n",
       "6      5     25                5_mature_content_themes_likely\n",
       "7      6     22                  6_mature_themes_older_topics\n",
       "8      7     20                 7_black_queer_black queer_boy"
      ]
     },
     "execution_count": 96,
     "metadata": {},
     "output_type": "execute_result"
    }
   ],
   "source": [
    "my_stop_words = list(text.ENGLISH_STOP_WORDS\\\n",
    "                     .union([\"she's\", \"he's\", \"shes\", \"hes\", 'book', 'classroom'])\\\n",
    "                     .union([f'{i}yearold' for i in range(3,23, 2)])\\\n",
    "                     .union([f'{i}yearolds' for i in range(3,23, 2)])\n",
    "                    )\n",
    "# we add this to remove stopwords\n",
    "vectorizer_model = CountVectorizer(ngram_range=(1,3), stop_words=my_stop_words)\n",
    "\n",
    "gpt_response_topic_model = BERTopic(\n",
    "    vectorizer_model=vectorizer_model,\n",
    "    language='english', \n",
    "    calculate_probabilities=True,\n",
    "    verbose=True\n",
    ")\n",
    "topics, probs = gpt_response_topic_model.fit_transform(responses_df.explain.values)\n",
    "\n",
    "gpt_response_topic_model.get_topic_info()\n"
   ]
  },
  {
   "cell_type": "code",
   "execution_count": 97,
   "metadata": {},
   "outputs": [
    {
     "data": {
      "application/vnd.plotly.v1+json": {
       "config": {
        "plotlyServerURL": "https://plot.ly"
       },
       "data": [
        {
         "marker": {
          "color": "#D55E00"
         },
         "orientation": "h",
         "type": "bar",
         "x": [
          0.01619584985021778,
          0.016330527693263597,
          0.01756054925133631,
          0.018204765597080272,
          0.01844213717306693,
          0.019183708063076968,
          0.021581833062304608,
          0.021796818846518476
         ],
         "xaxis": "x",
         "y": [
          "important  ",
          "age  ",
          "identity  ",
          "relevant  ",
          "students  ",
          "themes  ",
          "experiences  ",
          "topics  "
         ],
         "yaxis": "y"
        },
        {
         "marker": {
          "color": "#0072B2"
         },
         "orientation": "h",
         "type": "bar",
         "x": [
          0.017697989701070775,
          0.018859187921716376,
          0.01893036340402529,
          0.019099497225328797,
          0.019800112082822105,
          0.021812551453936367,
          0.022710927650739256,
          0.022983820103723893
         ],
         "xaxis": "x2",
         "y": [
          "identity  ",
          "interracial  ",
          "important  ",
          "novel  ",
          "provides  ",
          "themes  ",
          "topics  ",
          "historical  "
         ],
         "yaxis": "y2"
        },
        {
         "marker": {
          "color": "#CC79A7"
         },
         "orientation": "h",
         "type": "bar",
         "x": [
          0.0261238447548653,
          0.027821599110144906,
          0.030619112415857706,
          0.03097703867414059,
          0.03449264762570984,
          0.035436789828857035,
          0.037269528533185686,
          0.04781640587983567
         ],
         "xaxis": "x3",
         "y": [
          "coming  ",
          "appropriate  ",
          "content  ",
          "themes  ",
          "topics  ",
          "likely  ",
          "contains  ",
          "mature  "
         ],
         "yaxis": "y3"
        },
        {
         "marker": {
          "color": "#E69F00"
         },
         "orientation": "h",
         "type": "bar",
         "x": [
          0.031255612630934126,
          0.03246669750432531,
          0.032479039923953984,
          0.03572093418354993,
          0.03950229406658675,
          0.040350335488071855,
          0.0410498274160073,
          0.057188842615297865
         ],
         "xaxis": "x4",
         "y": [
          "older audience  ",
          "young  ",
          "deals  ",
          "older  ",
          "topics  ",
          "mature  ",
          "audience  ",
          "appropriate  "
         ],
         "yaxis": "y4"
        },
        {
         "marker": {
          "color": "#56B4E9"
         },
         "orientation": "h",
         "type": "bar",
         "x": [
          0.027882180459519696,
          0.035817200966975056,
          0.03629291935201595,
          0.03921601705569468,
          0.039443858720334395,
          0.039778054492150106,
          0.04097378823961595,
          0.05909294694259044
         ],
         "xaxis": "x5",
         "y": [
          "understand  ",
          "themes  ",
          "appropriate  ",
          "content  ",
          "topics  ",
          "contains  ",
          "likely  ",
          "mature  "
         ],
         "yaxis": "y5"
        },
        {
         "marker": {
          "color": "#009E73"
         },
         "orientation": "h",
         "type": "bar",
         "x": [
          0.029856976587765104,
          0.030200145510414094,
          0.03070613844740627,
          0.031297143485998304,
          0.032153817474140034,
          0.03279176982262567,
          0.04167369659869462,
          0.045670050646738215
         ],
         "xaxis": "x6",
         "y": [
          "difficult  ",
          "audience  ",
          "age  ",
          "topics  ",
          "likely  ",
          "themes  ",
          "content  ",
          "mature  "
         ],
         "yaxis": "y6"
        },
        {
         "marker": {
          "color": "#F0E442"
         },
         "orientation": "h",
         "type": "bar",
         "x": [
          0.022862040304282176,
          0.02366573680211097,
          0.025520566053505885,
          0.027996325060520508,
          0.03211656539221534,
          0.03861293152403307,
          0.04282768514200576,
          0.05666499344478747
         ],
         "xaxis": "x7",
         "y": [
          "suitable  ",
          "audience  ",
          "age  ",
          "likely  ",
          "topics  ",
          "older  ",
          "themes  ",
          "mature  "
         ],
         "yaxis": "y7"
        },
        {
         "marker": {
          "color": "#D55E00"
         },
         "orientation": "h",
         "type": "bar",
         "x": [
          0.029949828538283017,
          0.03024175989131412,
          0.0389644008809477,
          0.0389644008809477,
          0.0389644008809477,
          0.05576030464928478,
          0.058000105913073634,
          0.058000105913073634
         ],
         "xaxis": "x8",
         "y": [
          "help  ",
          "experiences  ",
          "queer boy  ",
          "black queer boy  ",
          "boy  ",
          "black queer  ",
          "queer  ",
          "black  "
         ],
         "yaxis": "y8"
        }
       ],
       "layout": {
        "annotations": [
         {
          "font": {
           "size": 16
          },
          "showarrow": false,
          "text": "Topic 0",
          "x": 0.0875,
          "xanchor": "center",
          "xref": "paper",
          "y": 1,
          "yanchor": "bottom",
          "yref": "paper"
         },
         {
          "font": {
           "size": 16
          },
          "showarrow": false,
          "text": "Topic 1",
          "x": 0.36250000000000004,
          "xanchor": "center",
          "xref": "paper",
          "y": 1,
          "yanchor": "bottom",
          "yref": "paper"
         },
         {
          "font": {
           "size": 16
          },
          "showarrow": false,
          "text": "Topic 2",
          "x": 0.6375000000000001,
          "xanchor": "center",
          "xref": "paper",
          "y": 1,
          "yanchor": "bottom",
          "yref": "paper"
         },
         {
          "font": {
           "size": 16
          },
          "showarrow": false,
          "text": "Topic 3",
          "x": 0.9125,
          "xanchor": "center",
          "xref": "paper",
          "y": 1,
          "yanchor": "bottom",
          "yref": "paper"
         },
         {
          "font": {
           "size": 16
          },
          "showarrow": false,
          "text": "Topic 4",
          "x": 0.0875,
          "xanchor": "center",
          "xref": "paper",
          "y": 0.4,
          "yanchor": "bottom",
          "yref": "paper"
         },
         {
          "font": {
           "size": 16
          },
          "showarrow": false,
          "text": "Topic 5",
          "x": 0.36250000000000004,
          "xanchor": "center",
          "xref": "paper",
          "y": 0.4,
          "yanchor": "bottom",
          "yref": "paper"
         },
         {
          "font": {
           "size": 16
          },
          "showarrow": false,
          "text": "Topic 6",
          "x": 0.6375000000000001,
          "xanchor": "center",
          "xref": "paper",
          "y": 0.4,
          "yanchor": "bottom",
          "yref": "paper"
         },
         {
          "font": {
           "size": 16
          },
          "showarrow": false,
          "text": "Topic 7",
          "x": 0.9125,
          "xanchor": "center",
          "xref": "paper",
          "y": 0.4,
          "yanchor": "bottom",
          "yref": "paper"
         }
        ],
        "height": 500,
        "hoverlabel": {
         "bgcolor": "white",
         "font": {
          "family": "Rockwell",
          "size": 16
         }
        },
        "showlegend": false,
        "template": {
         "data": {
          "bar": [
           {
            "error_x": {
             "color": "#2a3f5f"
            },
            "error_y": {
             "color": "#2a3f5f"
            },
            "marker": {
             "line": {
              "color": "white",
              "width": 0.5
             },
             "pattern": {
              "fillmode": "overlay",
              "size": 10,
              "solidity": 0.2
             }
            },
            "type": "bar"
           }
          ],
          "barpolar": [
           {
            "marker": {
             "line": {
              "color": "white",
              "width": 0.5
             },
             "pattern": {
              "fillmode": "overlay",
              "size": 10,
              "solidity": 0.2
             }
            },
            "type": "barpolar"
           }
          ],
          "carpet": [
           {
            "aaxis": {
             "endlinecolor": "#2a3f5f",
             "gridcolor": "#C8D4E3",
             "linecolor": "#C8D4E3",
             "minorgridcolor": "#C8D4E3",
             "startlinecolor": "#2a3f5f"
            },
            "baxis": {
             "endlinecolor": "#2a3f5f",
             "gridcolor": "#C8D4E3",
             "linecolor": "#C8D4E3",
             "minorgridcolor": "#C8D4E3",
             "startlinecolor": "#2a3f5f"
            },
            "type": "carpet"
           }
          ],
          "choropleth": [
           {
            "colorbar": {
             "outlinewidth": 0,
             "ticks": ""
            },
            "type": "choropleth"
           }
          ],
          "contour": [
           {
            "colorbar": {
             "outlinewidth": 0,
             "ticks": ""
            },
            "colorscale": [
             [
              0,
              "#0d0887"
             ],
             [
              0.1111111111111111,
              "#46039f"
             ],
             [
              0.2222222222222222,
              "#7201a8"
             ],
             [
              0.3333333333333333,
              "#9c179e"
             ],
             [
              0.4444444444444444,
              "#bd3786"
             ],
             [
              0.5555555555555556,
              "#d8576b"
             ],
             [
              0.6666666666666666,
              "#ed7953"
             ],
             [
              0.7777777777777778,
              "#fb9f3a"
             ],
             [
              0.8888888888888888,
              "#fdca26"
             ],
             [
              1,
              "#f0f921"
             ]
            ],
            "type": "contour"
           }
          ],
          "contourcarpet": [
           {
            "colorbar": {
             "outlinewidth": 0,
             "ticks": ""
            },
            "type": "contourcarpet"
           }
          ],
          "heatmap": [
           {
            "colorbar": {
             "outlinewidth": 0,
             "ticks": ""
            },
            "colorscale": [
             [
              0,
              "#0d0887"
             ],
             [
              0.1111111111111111,
              "#46039f"
             ],
             [
              0.2222222222222222,
              "#7201a8"
             ],
             [
              0.3333333333333333,
              "#9c179e"
             ],
             [
              0.4444444444444444,
              "#bd3786"
             ],
             [
              0.5555555555555556,
              "#d8576b"
             ],
             [
              0.6666666666666666,
              "#ed7953"
             ],
             [
              0.7777777777777778,
              "#fb9f3a"
             ],
             [
              0.8888888888888888,
              "#fdca26"
             ],
             [
              1,
              "#f0f921"
             ]
            ],
            "type": "heatmap"
           }
          ],
          "heatmapgl": [
           {
            "colorbar": {
             "outlinewidth": 0,
             "ticks": ""
            },
            "colorscale": [
             [
              0,
              "#0d0887"
             ],
             [
              0.1111111111111111,
              "#46039f"
             ],
             [
              0.2222222222222222,
              "#7201a8"
             ],
             [
              0.3333333333333333,
              "#9c179e"
             ],
             [
              0.4444444444444444,
              "#bd3786"
             ],
             [
              0.5555555555555556,
              "#d8576b"
             ],
             [
              0.6666666666666666,
              "#ed7953"
             ],
             [
              0.7777777777777778,
              "#fb9f3a"
             ],
             [
              0.8888888888888888,
              "#fdca26"
             ],
             [
              1,
              "#f0f921"
             ]
            ],
            "type": "heatmapgl"
           }
          ],
          "histogram": [
           {
            "marker": {
             "pattern": {
              "fillmode": "overlay",
              "size": 10,
              "solidity": 0.2
             }
            },
            "type": "histogram"
           }
          ],
          "histogram2d": [
           {
            "colorbar": {
             "outlinewidth": 0,
             "ticks": ""
            },
            "colorscale": [
             [
              0,
              "#0d0887"
             ],
             [
              0.1111111111111111,
              "#46039f"
             ],
             [
              0.2222222222222222,
              "#7201a8"
             ],
             [
              0.3333333333333333,
              "#9c179e"
             ],
             [
              0.4444444444444444,
              "#bd3786"
             ],
             [
              0.5555555555555556,
              "#d8576b"
             ],
             [
              0.6666666666666666,
              "#ed7953"
             ],
             [
              0.7777777777777778,
              "#fb9f3a"
             ],
             [
              0.8888888888888888,
              "#fdca26"
             ],
             [
              1,
              "#f0f921"
             ]
            ],
            "type": "histogram2d"
           }
          ],
          "histogram2dcontour": [
           {
            "colorbar": {
             "outlinewidth": 0,
             "ticks": ""
            },
            "colorscale": [
             [
              0,
              "#0d0887"
             ],
             [
              0.1111111111111111,
              "#46039f"
             ],
             [
              0.2222222222222222,
              "#7201a8"
             ],
             [
              0.3333333333333333,
              "#9c179e"
             ],
             [
              0.4444444444444444,
              "#bd3786"
             ],
             [
              0.5555555555555556,
              "#d8576b"
             ],
             [
              0.6666666666666666,
              "#ed7953"
             ],
             [
              0.7777777777777778,
              "#fb9f3a"
             ],
             [
              0.8888888888888888,
              "#fdca26"
             ],
             [
              1,
              "#f0f921"
             ]
            ],
            "type": "histogram2dcontour"
           }
          ],
          "mesh3d": [
           {
            "colorbar": {
             "outlinewidth": 0,
             "ticks": ""
            },
            "type": "mesh3d"
           }
          ],
          "parcoords": [
           {
            "line": {
             "colorbar": {
              "outlinewidth": 0,
              "ticks": ""
             }
            },
            "type": "parcoords"
           }
          ],
          "pie": [
           {
            "automargin": true,
            "type": "pie"
           }
          ],
          "scatter": [
           {
            "fillpattern": {
             "fillmode": "overlay",
             "size": 10,
             "solidity": 0.2
            },
            "type": "scatter"
           }
          ],
          "scatter3d": [
           {
            "line": {
             "colorbar": {
              "outlinewidth": 0,
              "ticks": ""
             }
            },
            "marker": {
             "colorbar": {
              "outlinewidth": 0,
              "ticks": ""
             }
            },
            "type": "scatter3d"
           }
          ],
          "scattercarpet": [
           {
            "marker": {
             "colorbar": {
              "outlinewidth": 0,
              "ticks": ""
             }
            },
            "type": "scattercarpet"
           }
          ],
          "scattergeo": [
           {
            "marker": {
             "colorbar": {
              "outlinewidth": 0,
              "ticks": ""
             }
            },
            "type": "scattergeo"
           }
          ],
          "scattergl": [
           {
            "marker": {
             "colorbar": {
              "outlinewidth": 0,
              "ticks": ""
             }
            },
            "type": "scattergl"
           }
          ],
          "scattermapbox": [
           {
            "marker": {
             "colorbar": {
              "outlinewidth": 0,
              "ticks": ""
             }
            },
            "type": "scattermapbox"
           }
          ],
          "scatterpolar": [
           {
            "marker": {
             "colorbar": {
              "outlinewidth": 0,
              "ticks": ""
             }
            },
            "type": "scatterpolar"
           }
          ],
          "scatterpolargl": [
           {
            "marker": {
             "colorbar": {
              "outlinewidth": 0,
              "ticks": ""
             }
            },
            "type": "scatterpolargl"
           }
          ],
          "scatterternary": [
           {
            "marker": {
             "colorbar": {
              "outlinewidth": 0,
              "ticks": ""
             }
            },
            "type": "scatterternary"
           }
          ],
          "surface": [
           {
            "colorbar": {
             "outlinewidth": 0,
             "ticks": ""
            },
            "colorscale": [
             [
              0,
              "#0d0887"
             ],
             [
              0.1111111111111111,
              "#46039f"
             ],
             [
              0.2222222222222222,
              "#7201a8"
             ],
             [
              0.3333333333333333,
              "#9c179e"
             ],
             [
              0.4444444444444444,
              "#bd3786"
             ],
             [
              0.5555555555555556,
              "#d8576b"
             ],
             [
              0.6666666666666666,
              "#ed7953"
             ],
             [
              0.7777777777777778,
              "#fb9f3a"
             ],
             [
              0.8888888888888888,
              "#fdca26"
             ],
             [
              1,
              "#f0f921"
             ]
            ],
            "type": "surface"
           }
          ],
          "table": [
           {
            "cells": {
             "fill": {
              "color": "#EBF0F8"
             },
             "line": {
              "color": "white"
             }
            },
            "header": {
             "fill": {
              "color": "#C8D4E3"
             },
             "line": {
              "color": "white"
             }
            },
            "type": "table"
           }
          ]
         },
         "layout": {
          "annotationdefaults": {
           "arrowcolor": "#2a3f5f",
           "arrowhead": 0,
           "arrowwidth": 1
          },
          "autotypenumbers": "strict",
          "coloraxis": {
           "colorbar": {
            "outlinewidth": 0,
            "ticks": ""
           }
          },
          "colorscale": {
           "diverging": [
            [
             0,
             "#8e0152"
            ],
            [
             0.1,
             "#c51b7d"
            ],
            [
             0.2,
             "#de77ae"
            ],
            [
             0.3,
             "#f1b6da"
            ],
            [
             0.4,
             "#fde0ef"
            ],
            [
             0.5,
             "#f7f7f7"
            ],
            [
             0.6,
             "#e6f5d0"
            ],
            [
             0.7,
             "#b8e186"
            ],
            [
             0.8,
             "#7fbc41"
            ],
            [
             0.9,
             "#4d9221"
            ],
            [
             1,
             "#276419"
            ]
           ],
           "sequential": [
            [
             0,
             "#0d0887"
            ],
            [
             0.1111111111111111,
             "#46039f"
            ],
            [
             0.2222222222222222,
             "#7201a8"
            ],
            [
             0.3333333333333333,
             "#9c179e"
            ],
            [
             0.4444444444444444,
             "#bd3786"
            ],
            [
             0.5555555555555556,
             "#d8576b"
            ],
            [
             0.6666666666666666,
             "#ed7953"
            ],
            [
             0.7777777777777778,
             "#fb9f3a"
            ],
            [
             0.8888888888888888,
             "#fdca26"
            ],
            [
             1,
             "#f0f921"
            ]
           ],
           "sequentialminus": [
            [
             0,
             "#0d0887"
            ],
            [
             0.1111111111111111,
             "#46039f"
            ],
            [
             0.2222222222222222,
             "#7201a8"
            ],
            [
             0.3333333333333333,
             "#9c179e"
            ],
            [
             0.4444444444444444,
             "#bd3786"
            ],
            [
             0.5555555555555556,
             "#d8576b"
            ],
            [
             0.6666666666666666,
             "#ed7953"
            ],
            [
             0.7777777777777778,
             "#fb9f3a"
            ],
            [
             0.8888888888888888,
             "#fdca26"
            ],
            [
             1,
             "#f0f921"
            ]
           ]
          },
          "colorway": [
           "#636efa",
           "#EF553B",
           "#00cc96",
           "#ab63fa",
           "#FFA15A",
           "#19d3f3",
           "#FF6692",
           "#B6E880",
           "#FF97FF",
           "#FECB52"
          ],
          "font": {
           "color": "#2a3f5f"
          },
          "geo": {
           "bgcolor": "white",
           "lakecolor": "white",
           "landcolor": "white",
           "showlakes": true,
           "showland": true,
           "subunitcolor": "#C8D4E3"
          },
          "hoverlabel": {
           "align": "left"
          },
          "hovermode": "closest",
          "mapbox": {
           "style": "light"
          },
          "paper_bgcolor": "white",
          "plot_bgcolor": "white",
          "polar": {
           "angularaxis": {
            "gridcolor": "#EBF0F8",
            "linecolor": "#EBF0F8",
            "ticks": ""
           },
           "bgcolor": "white",
           "radialaxis": {
            "gridcolor": "#EBF0F8",
            "linecolor": "#EBF0F8",
            "ticks": ""
           }
          },
          "scene": {
           "xaxis": {
            "backgroundcolor": "white",
            "gridcolor": "#DFE8F3",
            "gridwidth": 2,
            "linecolor": "#EBF0F8",
            "showbackground": true,
            "ticks": "",
            "zerolinecolor": "#EBF0F8"
           },
           "yaxis": {
            "backgroundcolor": "white",
            "gridcolor": "#DFE8F3",
            "gridwidth": 2,
            "linecolor": "#EBF0F8",
            "showbackground": true,
            "ticks": "",
            "zerolinecolor": "#EBF0F8"
           },
           "zaxis": {
            "backgroundcolor": "white",
            "gridcolor": "#DFE8F3",
            "gridwidth": 2,
            "linecolor": "#EBF0F8",
            "showbackground": true,
            "ticks": "",
            "zerolinecolor": "#EBF0F8"
           }
          },
          "shapedefaults": {
           "line": {
            "color": "#2a3f5f"
           }
          },
          "ternary": {
           "aaxis": {
            "gridcolor": "#DFE8F3",
            "linecolor": "#A2B1C6",
            "ticks": ""
           },
           "baxis": {
            "gridcolor": "#DFE8F3",
            "linecolor": "#A2B1C6",
            "ticks": ""
           },
           "bgcolor": "white",
           "caxis": {
            "gridcolor": "#DFE8F3",
            "linecolor": "#A2B1C6",
            "ticks": ""
           }
          },
          "title": {
           "x": 0.05
          },
          "xaxis": {
           "automargin": true,
           "gridcolor": "#EBF0F8",
           "linecolor": "#EBF0F8",
           "ticks": "",
           "title": {
            "standoff": 15
           },
           "zerolinecolor": "#EBF0F8",
           "zerolinewidth": 2
          },
          "yaxis": {
           "automargin": true,
           "gridcolor": "#EBF0F8",
           "linecolor": "#EBF0F8",
           "ticks": "",
           "title": {
            "standoff": 15
           },
           "zerolinecolor": "#EBF0F8",
           "zerolinewidth": 2
          }
         }
        },
        "title": {
         "font": {
          "color": "Black",
          "size": 22
         },
         "text": "Topic Word Scores",
         "x": 0.5,
         "xanchor": "center",
         "yanchor": "top"
        },
        "width": 1000,
        "xaxis": {
         "anchor": "y",
         "domain": [
          0,
          0.175
         ],
         "showgrid": true
        },
        "xaxis2": {
         "anchor": "y2",
         "domain": [
          0.275,
          0.45
         ],
         "showgrid": true
        },
        "xaxis3": {
         "anchor": "y3",
         "domain": [
          0.55,
          0.7250000000000001
         ],
         "showgrid": true
        },
        "xaxis4": {
         "anchor": "y4",
         "domain": [
          0.825,
          1
         ],
         "showgrid": true
        },
        "xaxis5": {
         "anchor": "y5",
         "domain": [
          0,
          0.175
         ],
         "showgrid": true
        },
        "xaxis6": {
         "anchor": "y6",
         "domain": [
          0.275,
          0.45
         ],
         "showgrid": true
        },
        "xaxis7": {
         "anchor": "y7",
         "domain": [
          0.55,
          0.7250000000000001
         ],
         "showgrid": true
        },
        "xaxis8": {
         "anchor": "y8",
         "domain": [
          0.825,
          1
         ],
         "showgrid": true
        },
        "yaxis": {
         "anchor": "x",
         "domain": [
          0.6000000000000001,
          1
         ],
         "showgrid": true
        },
        "yaxis2": {
         "anchor": "x2",
         "domain": [
          0.6000000000000001,
          1
         ],
         "showgrid": true
        },
        "yaxis3": {
         "anchor": "x3",
         "domain": [
          0.6000000000000001,
          1
         ],
         "showgrid": true
        },
        "yaxis4": {
         "anchor": "x4",
         "domain": [
          0.6000000000000001,
          1
         ],
         "showgrid": true
        },
        "yaxis5": {
         "anchor": "x5",
         "domain": [
          0,
          0.4
         ],
         "showgrid": true
        },
        "yaxis6": {
         "anchor": "x6",
         "domain": [
          0,
          0.4
         ],
         "showgrid": true
        },
        "yaxis7": {
         "anchor": "x7",
         "domain": [
          0,
          0.4
         ],
         "showgrid": true
        },
        "yaxis8": {
         "anchor": "x8",
         "domain": [
          0,
          0.4
         ],
         "showgrid": true
        }
       }
      },
      "text/html": [
       "<div>                            <div id=\"3ad1eb8e-5db3-4deb-a4fa-557f25a40fc1\" class=\"plotly-graph-div\" style=\"height:500px; width:1000px;\"></div>            <script type=\"text/javascript\">                require([\"plotly\"], function(Plotly) {                    window.PLOTLYENV=window.PLOTLYENV || {};                                    if (document.getElementById(\"3ad1eb8e-5db3-4deb-a4fa-557f25a40fc1\")) {                    Plotly.newPlot(                        \"3ad1eb8e-5db3-4deb-a4fa-557f25a40fc1\",                        [{\"marker\":{\"color\":\"#D55E00\"},\"orientation\":\"h\",\"x\":[0.01619584985021778,0.016330527693263597,0.01756054925133631,0.018204765597080272,0.01844213717306693,0.019183708063076968,0.021581833062304608,0.021796818846518476],\"y\":[\"important  \",\"age  \",\"identity  \",\"relevant  \",\"students  \",\"themes  \",\"experiences  \",\"topics  \"],\"type\":\"bar\",\"xaxis\":\"x\",\"yaxis\":\"y\"},{\"marker\":{\"color\":\"#0072B2\"},\"orientation\":\"h\",\"x\":[0.017697989701070775,0.018859187921716376,0.01893036340402529,0.019099497225328797,0.019800112082822105,0.021812551453936367,0.022710927650739256,0.022983820103723893],\"y\":[\"identity  \",\"interracial  \",\"important  \",\"novel  \",\"provides  \",\"themes  \",\"topics  \",\"historical  \"],\"type\":\"bar\",\"xaxis\":\"x2\",\"yaxis\":\"y2\"},{\"marker\":{\"color\":\"#CC79A7\"},\"orientation\":\"h\",\"x\":[0.0261238447548653,0.027821599110144906,0.030619112415857706,0.03097703867414059,0.03449264762570984,0.035436789828857035,0.037269528533185686,0.04781640587983567],\"y\":[\"coming  \",\"appropriate  \",\"content  \",\"themes  \",\"topics  \",\"likely  \",\"contains  \",\"mature  \"],\"type\":\"bar\",\"xaxis\":\"x3\",\"yaxis\":\"y3\"},{\"marker\":{\"color\":\"#E69F00\"},\"orientation\":\"h\",\"x\":[0.031255612630934126,0.03246669750432531,0.032479039923953984,0.03572093418354993,0.03950229406658675,0.040350335488071855,0.0410498274160073,0.057188842615297865],\"y\":[\"older audience  \",\"young  \",\"deals  \",\"older  \",\"topics  \",\"mature  \",\"audience  \",\"appropriate  \"],\"type\":\"bar\",\"xaxis\":\"x4\",\"yaxis\":\"y4\"},{\"marker\":{\"color\":\"#56B4E9\"},\"orientation\":\"h\",\"x\":[0.027882180459519696,0.035817200966975056,0.03629291935201595,0.03921601705569468,0.039443858720334395,0.039778054492150106,0.04097378823961595,0.05909294694259044],\"y\":[\"understand  \",\"themes  \",\"appropriate  \",\"content  \",\"topics  \",\"contains  \",\"likely  \",\"mature  \"],\"type\":\"bar\",\"xaxis\":\"x5\",\"yaxis\":\"y5\"},{\"marker\":{\"color\":\"#009E73\"},\"orientation\":\"h\",\"x\":[0.029856976587765104,0.030200145510414094,0.03070613844740627,0.031297143485998304,0.032153817474140034,0.03279176982262567,0.04167369659869462,0.045670050646738215],\"y\":[\"difficult  \",\"audience  \",\"age  \",\"topics  \",\"likely  \",\"themes  \",\"content  \",\"mature  \"],\"type\":\"bar\",\"xaxis\":\"x6\",\"yaxis\":\"y6\"},{\"marker\":{\"color\":\"#F0E442\"},\"orientation\":\"h\",\"x\":[0.022862040304282176,0.02366573680211097,0.025520566053505885,0.027996325060520508,0.03211656539221534,0.03861293152403307,0.04282768514200576,0.05666499344478747],\"y\":[\"suitable  \",\"audience  \",\"age  \",\"likely  \",\"topics  \",\"older  \",\"themes  \",\"mature  \"],\"type\":\"bar\",\"xaxis\":\"x7\",\"yaxis\":\"y7\"},{\"marker\":{\"color\":\"#D55E00\"},\"orientation\":\"h\",\"x\":[0.029949828538283017,0.03024175989131412,0.0389644008809477,0.0389644008809477,0.0389644008809477,0.05576030464928478,0.058000105913073634,0.058000105913073634],\"y\":[\"help  \",\"experiences  \",\"queer boy  \",\"black queer boy  \",\"boy  \",\"black queer  \",\"queer  \",\"black  \"],\"type\":\"bar\",\"xaxis\":\"x8\",\"yaxis\":\"y8\"}],                        {\"template\":{\"data\":{\"barpolar\":[{\"marker\":{\"line\":{\"color\":\"white\",\"width\":0.5},\"pattern\":{\"fillmode\":\"overlay\",\"size\":10,\"solidity\":0.2}},\"type\":\"barpolar\"}],\"bar\":[{\"error_x\":{\"color\":\"#2a3f5f\"},\"error_y\":{\"color\":\"#2a3f5f\"},\"marker\":{\"line\":{\"color\":\"white\",\"width\":0.5},\"pattern\":{\"fillmode\":\"overlay\",\"size\":10,\"solidity\":0.2}},\"type\":\"bar\"}],\"carpet\":[{\"aaxis\":{\"endlinecolor\":\"#2a3f5f\",\"gridcolor\":\"#C8D4E3\",\"linecolor\":\"#C8D4E3\",\"minorgridcolor\":\"#C8D4E3\",\"startlinecolor\":\"#2a3f5f\"},\"baxis\":{\"endlinecolor\":\"#2a3f5f\",\"gridcolor\":\"#C8D4E3\",\"linecolor\":\"#C8D4E3\",\"minorgridcolor\":\"#C8D4E3\",\"startlinecolor\":\"#2a3f5f\"},\"type\":\"carpet\"}],\"choropleth\":[{\"colorbar\":{\"outlinewidth\":0,\"ticks\":\"\"},\"type\":\"choropleth\"}],\"contourcarpet\":[{\"colorbar\":{\"outlinewidth\":0,\"ticks\":\"\"},\"type\":\"contourcarpet\"}],\"contour\":[{\"colorbar\":{\"outlinewidth\":0,\"ticks\":\"\"},\"colorscale\":[[0.0,\"#0d0887\"],[0.1111111111111111,\"#46039f\"],[0.2222222222222222,\"#7201a8\"],[0.3333333333333333,\"#9c179e\"],[0.4444444444444444,\"#bd3786\"],[0.5555555555555556,\"#d8576b\"],[0.6666666666666666,\"#ed7953\"],[0.7777777777777778,\"#fb9f3a\"],[0.8888888888888888,\"#fdca26\"],[1.0,\"#f0f921\"]],\"type\":\"contour\"}],\"heatmapgl\":[{\"colorbar\":{\"outlinewidth\":0,\"ticks\":\"\"},\"colorscale\":[[0.0,\"#0d0887\"],[0.1111111111111111,\"#46039f\"],[0.2222222222222222,\"#7201a8\"],[0.3333333333333333,\"#9c179e\"],[0.4444444444444444,\"#bd3786\"],[0.5555555555555556,\"#d8576b\"],[0.6666666666666666,\"#ed7953\"],[0.7777777777777778,\"#fb9f3a\"],[0.8888888888888888,\"#fdca26\"],[1.0,\"#f0f921\"]],\"type\":\"heatmapgl\"}],\"heatmap\":[{\"colorbar\":{\"outlinewidth\":0,\"ticks\":\"\"},\"colorscale\":[[0.0,\"#0d0887\"],[0.1111111111111111,\"#46039f\"],[0.2222222222222222,\"#7201a8\"],[0.3333333333333333,\"#9c179e\"],[0.4444444444444444,\"#bd3786\"],[0.5555555555555556,\"#d8576b\"],[0.6666666666666666,\"#ed7953\"],[0.7777777777777778,\"#fb9f3a\"],[0.8888888888888888,\"#fdca26\"],[1.0,\"#f0f921\"]],\"type\":\"heatmap\"}],\"histogram2dcontour\":[{\"colorbar\":{\"outlinewidth\":0,\"ticks\":\"\"},\"colorscale\":[[0.0,\"#0d0887\"],[0.1111111111111111,\"#46039f\"],[0.2222222222222222,\"#7201a8\"],[0.3333333333333333,\"#9c179e\"],[0.4444444444444444,\"#bd3786\"],[0.5555555555555556,\"#d8576b\"],[0.6666666666666666,\"#ed7953\"],[0.7777777777777778,\"#fb9f3a\"],[0.8888888888888888,\"#fdca26\"],[1.0,\"#f0f921\"]],\"type\":\"histogram2dcontour\"}],\"histogram2d\":[{\"colorbar\":{\"outlinewidth\":0,\"ticks\":\"\"},\"colorscale\":[[0.0,\"#0d0887\"],[0.1111111111111111,\"#46039f\"],[0.2222222222222222,\"#7201a8\"],[0.3333333333333333,\"#9c179e\"],[0.4444444444444444,\"#bd3786\"],[0.5555555555555556,\"#d8576b\"],[0.6666666666666666,\"#ed7953\"],[0.7777777777777778,\"#fb9f3a\"],[0.8888888888888888,\"#fdca26\"],[1.0,\"#f0f921\"]],\"type\":\"histogram2d\"}],\"histogram\":[{\"marker\":{\"pattern\":{\"fillmode\":\"overlay\",\"size\":10,\"solidity\":0.2}},\"type\":\"histogram\"}],\"mesh3d\":[{\"colorbar\":{\"outlinewidth\":0,\"ticks\":\"\"},\"type\":\"mesh3d\"}],\"parcoords\":[{\"line\":{\"colorbar\":{\"outlinewidth\":0,\"ticks\":\"\"}},\"type\":\"parcoords\"}],\"pie\":[{\"automargin\":true,\"type\":\"pie\"}],\"scatter3d\":[{\"line\":{\"colorbar\":{\"outlinewidth\":0,\"ticks\":\"\"}},\"marker\":{\"colorbar\":{\"outlinewidth\":0,\"ticks\":\"\"}},\"type\":\"scatter3d\"}],\"scattercarpet\":[{\"marker\":{\"colorbar\":{\"outlinewidth\":0,\"ticks\":\"\"}},\"type\":\"scattercarpet\"}],\"scattergeo\":[{\"marker\":{\"colorbar\":{\"outlinewidth\":0,\"ticks\":\"\"}},\"type\":\"scattergeo\"}],\"scattergl\":[{\"marker\":{\"colorbar\":{\"outlinewidth\":0,\"ticks\":\"\"}},\"type\":\"scattergl\"}],\"scattermapbox\":[{\"marker\":{\"colorbar\":{\"outlinewidth\":0,\"ticks\":\"\"}},\"type\":\"scattermapbox\"}],\"scatterpolargl\":[{\"marker\":{\"colorbar\":{\"outlinewidth\":0,\"ticks\":\"\"}},\"type\":\"scatterpolargl\"}],\"scatterpolar\":[{\"marker\":{\"colorbar\":{\"outlinewidth\":0,\"ticks\":\"\"}},\"type\":\"scatterpolar\"}],\"scatter\":[{\"fillpattern\":{\"fillmode\":\"overlay\",\"size\":10,\"solidity\":0.2},\"type\":\"scatter\"}],\"scatterternary\":[{\"marker\":{\"colorbar\":{\"outlinewidth\":0,\"ticks\":\"\"}},\"type\":\"scatterternary\"}],\"surface\":[{\"colorbar\":{\"outlinewidth\":0,\"ticks\":\"\"},\"colorscale\":[[0.0,\"#0d0887\"],[0.1111111111111111,\"#46039f\"],[0.2222222222222222,\"#7201a8\"],[0.3333333333333333,\"#9c179e\"],[0.4444444444444444,\"#bd3786\"],[0.5555555555555556,\"#d8576b\"],[0.6666666666666666,\"#ed7953\"],[0.7777777777777778,\"#fb9f3a\"],[0.8888888888888888,\"#fdca26\"],[1.0,\"#f0f921\"]],\"type\":\"surface\"}],\"table\":[{\"cells\":{\"fill\":{\"color\":\"#EBF0F8\"},\"line\":{\"color\":\"white\"}},\"header\":{\"fill\":{\"color\":\"#C8D4E3\"},\"line\":{\"color\":\"white\"}},\"type\":\"table\"}]},\"layout\":{\"annotationdefaults\":{\"arrowcolor\":\"#2a3f5f\",\"arrowhead\":0,\"arrowwidth\":1},\"autotypenumbers\":\"strict\",\"coloraxis\":{\"colorbar\":{\"outlinewidth\":0,\"ticks\":\"\"}},\"colorscale\":{\"diverging\":[[0,\"#8e0152\"],[0.1,\"#c51b7d\"],[0.2,\"#de77ae\"],[0.3,\"#f1b6da\"],[0.4,\"#fde0ef\"],[0.5,\"#f7f7f7\"],[0.6,\"#e6f5d0\"],[0.7,\"#b8e186\"],[0.8,\"#7fbc41\"],[0.9,\"#4d9221\"],[1,\"#276419\"]],\"sequential\":[[0.0,\"#0d0887\"],[0.1111111111111111,\"#46039f\"],[0.2222222222222222,\"#7201a8\"],[0.3333333333333333,\"#9c179e\"],[0.4444444444444444,\"#bd3786\"],[0.5555555555555556,\"#d8576b\"],[0.6666666666666666,\"#ed7953\"],[0.7777777777777778,\"#fb9f3a\"],[0.8888888888888888,\"#fdca26\"],[1.0,\"#f0f921\"]],\"sequentialminus\":[[0.0,\"#0d0887\"],[0.1111111111111111,\"#46039f\"],[0.2222222222222222,\"#7201a8\"],[0.3333333333333333,\"#9c179e\"],[0.4444444444444444,\"#bd3786\"],[0.5555555555555556,\"#d8576b\"],[0.6666666666666666,\"#ed7953\"],[0.7777777777777778,\"#fb9f3a\"],[0.8888888888888888,\"#fdca26\"],[1.0,\"#f0f921\"]]},\"colorway\":[\"#636efa\",\"#EF553B\",\"#00cc96\",\"#ab63fa\",\"#FFA15A\",\"#19d3f3\",\"#FF6692\",\"#B6E880\",\"#FF97FF\",\"#FECB52\"],\"font\":{\"color\":\"#2a3f5f\"},\"geo\":{\"bgcolor\":\"white\",\"lakecolor\":\"white\",\"landcolor\":\"white\",\"showlakes\":true,\"showland\":true,\"subunitcolor\":\"#C8D4E3\"},\"hoverlabel\":{\"align\":\"left\"},\"hovermode\":\"closest\",\"mapbox\":{\"style\":\"light\"},\"paper_bgcolor\":\"white\",\"plot_bgcolor\":\"white\",\"polar\":{\"angularaxis\":{\"gridcolor\":\"#EBF0F8\",\"linecolor\":\"#EBF0F8\",\"ticks\":\"\"},\"bgcolor\":\"white\",\"radialaxis\":{\"gridcolor\":\"#EBF0F8\",\"linecolor\":\"#EBF0F8\",\"ticks\":\"\"}},\"scene\":{\"xaxis\":{\"backgroundcolor\":\"white\",\"gridcolor\":\"#DFE8F3\",\"gridwidth\":2,\"linecolor\":\"#EBF0F8\",\"showbackground\":true,\"ticks\":\"\",\"zerolinecolor\":\"#EBF0F8\"},\"yaxis\":{\"backgroundcolor\":\"white\",\"gridcolor\":\"#DFE8F3\",\"gridwidth\":2,\"linecolor\":\"#EBF0F8\",\"showbackground\":true,\"ticks\":\"\",\"zerolinecolor\":\"#EBF0F8\"},\"zaxis\":{\"backgroundcolor\":\"white\",\"gridcolor\":\"#DFE8F3\",\"gridwidth\":2,\"linecolor\":\"#EBF0F8\",\"showbackground\":true,\"ticks\":\"\",\"zerolinecolor\":\"#EBF0F8\"}},\"shapedefaults\":{\"line\":{\"color\":\"#2a3f5f\"}},\"ternary\":{\"aaxis\":{\"gridcolor\":\"#DFE8F3\",\"linecolor\":\"#A2B1C6\",\"ticks\":\"\"},\"baxis\":{\"gridcolor\":\"#DFE8F3\",\"linecolor\":\"#A2B1C6\",\"ticks\":\"\"},\"bgcolor\":\"white\",\"caxis\":{\"gridcolor\":\"#DFE8F3\",\"linecolor\":\"#A2B1C6\",\"ticks\":\"\"}},\"title\":{\"x\":0.05},\"xaxis\":{\"automargin\":true,\"gridcolor\":\"#EBF0F8\",\"linecolor\":\"#EBF0F8\",\"ticks\":\"\",\"title\":{\"standoff\":15},\"zerolinecolor\":\"#EBF0F8\",\"zerolinewidth\":2},\"yaxis\":{\"automargin\":true,\"gridcolor\":\"#EBF0F8\",\"linecolor\":\"#EBF0F8\",\"ticks\":\"\",\"title\":{\"standoff\":15},\"zerolinecolor\":\"#EBF0F8\",\"zerolinewidth\":2}}},\"xaxis\":{\"anchor\":\"y\",\"domain\":[0.0,0.175],\"showgrid\":true},\"yaxis\":{\"anchor\":\"x\",\"domain\":[0.6000000000000001,1.0],\"showgrid\":true},\"xaxis2\":{\"anchor\":\"y2\",\"domain\":[0.275,0.45],\"showgrid\":true},\"yaxis2\":{\"anchor\":\"x2\",\"domain\":[0.6000000000000001,1.0],\"showgrid\":true},\"xaxis3\":{\"anchor\":\"y3\",\"domain\":[0.55,0.7250000000000001],\"showgrid\":true},\"yaxis3\":{\"anchor\":\"x3\",\"domain\":[0.6000000000000001,1.0],\"showgrid\":true},\"xaxis4\":{\"anchor\":\"y4\",\"domain\":[0.825,1.0],\"showgrid\":true},\"yaxis4\":{\"anchor\":\"x4\",\"domain\":[0.6000000000000001,1.0],\"showgrid\":true},\"xaxis5\":{\"anchor\":\"y5\",\"domain\":[0.0,0.175],\"showgrid\":true},\"yaxis5\":{\"anchor\":\"x5\",\"domain\":[0.0,0.4],\"showgrid\":true},\"xaxis6\":{\"anchor\":\"y6\",\"domain\":[0.275,0.45],\"showgrid\":true},\"yaxis6\":{\"anchor\":\"x6\",\"domain\":[0.0,0.4],\"showgrid\":true},\"xaxis7\":{\"anchor\":\"y7\",\"domain\":[0.55,0.7250000000000001],\"showgrid\":true},\"yaxis7\":{\"anchor\":\"x7\",\"domain\":[0.0,0.4],\"showgrid\":true},\"xaxis8\":{\"anchor\":\"y8\",\"domain\":[0.825,1.0],\"showgrid\":true},\"yaxis8\":{\"anchor\":\"x8\",\"domain\":[0.0,0.4],\"showgrid\":true},\"annotations\":[{\"font\":{\"size\":16},\"showarrow\":false,\"text\":\"Topic 0\",\"x\":0.0875,\"xanchor\":\"center\",\"xref\":\"paper\",\"y\":1.0,\"yanchor\":\"bottom\",\"yref\":\"paper\"},{\"font\":{\"size\":16},\"showarrow\":false,\"text\":\"Topic 1\",\"x\":0.36250000000000004,\"xanchor\":\"center\",\"xref\":\"paper\",\"y\":1.0,\"yanchor\":\"bottom\",\"yref\":\"paper\"},{\"font\":{\"size\":16},\"showarrow\":false,\"text\":\"Topic 2\",\"x\":0.6375000000000001,\"xanchor\":\"center\",\"xref\":\"paper\",\"y\":1.0,\"yanchor\":\"bottom\",\"yref\":\"paper\"},{\"font\":{\"size\":16},\"showarrow\":false,\"text\":\"Topic 3\",\"x\":0.9125,\"xanchor\":\"center\",\"xref\":\"paper\",\"y\":1.0,\"yanchor\":\"bottom\",\"yref\":\"paper\"},{\"font\":{\"size\":16},\"showarrow\":false,\"text\":\"Topic 4\",\"x\":0.0875,\"xanchor\":\"center\",\"xref\":\"paper\",\"y\":0.4,\"yanchor\":\"bottom\",\"yref\":\"paper\"},{\"font\":{\"size\":16},\"showarrow\":false,\"text\":\"Topic 5\",\"x\":0.36250000000000004,\"xanchor\":\"center\",\"xref\":\"paper\",\"y\":0.4,\"yanchor\":\"bottom\",\"yref\":\"paper\"},{\"font\":{\"size\":16},\"showarrow\":false,\"text\":\"Topic 6\",\"x\":0.6375000000000001,\"xanchor\":\"center\",\"xref\":\"paper\",\"y\":0.4,\"yanchor\":\"bottom\",\"yref\":\"paper\"},{\"font\":{\"size\":16},\"showarrow\":false,\"text\":\"Topic 7\",\"x\":0.9125,\"xanchor\":\"center\",\"xref\":\"paper\",\"y\":0.4,\"yanchor\":\"bottom\",\"yref\":\"paper\"}],\"title\":{\"font\":{\"size\":22,\"color\":\"Black\"},\"text\":\"Topic Word Scores\",\"x\":0.5,\"xanchor\":\"center\",\"yanchor\":\"top\"},\"hoverlabel\":{\"font\":{\"size\":16,\"family\":\"Rockwell\"},\"bgcolor\":\"white\"},\"showlegend\":false,\"width\":1000,\"height\":500},                        {\"responsive\": true}                    ).then(function(){\n",
       "                            \n",
       "var gd = document.getElementById('3ad1eb8e-5db3-4deb-a4fa-557f25a40fc1');\n",
       "var x = new MutationObserver(function (mutations, observer) {{\n",
       "        var display = window.getComputedStyle(gd).display;\n",
       "        if (!display || display === 'none') {{\n",
       "            console.log([gd, 'removed!']);\n",
       "            Plotly.purge(gd);\n",
       "            observer.disconnect();\n",
       "        }}\n",
       "}});\n",
       "\n",
       "// Listen for the removal of the full notebook cells\n",
       "var notebookContainer = gd.closest('#notebook-container');\n",
       "if (notebookContainer) {{\n",
       "    x.observe(notebookContainer, {childList: true});\n",
       "}}\n",
       "\n",
       "// Listen for the clearing of the current output cell\n",
       "var outputEl = gd.closest('.output');\n",
       "if (outputEl) {{\n",
       "    x.observe(outputEl, {childList: true});\n",
       "}}\n",
       "\n",
       "                        })                };                });            </script>        </div>"
      ]
     },
     "metadata": {},
     "output_type": "display_data"
    }
   ],
   "source": [
    "fig = gpt_response_topic_model.visualize_barchart(n_words=8)\n",
    "fig.write_html(\"gpt_response_topic_model-tm.html\")\n",
    "fig"
   ]
  },
  {
   "cell_type": "code",
   "execution_count": 103,
   "metadata": {},
   "outputs": [
    {
     "data": {
      "application/vnd.jupyter.widget-view+json": {
       "model_id": "d41b0d43464c4f06b961228fc4cd5d0f",
       "version_major": 2,
       "version_minor": 0
      },
      "text/plain": [
       "Batches:   0%|          | 0/8 [00:00<?, ?it/s]"
      ]
     },
     "metadata": {},
     "output_type": "display_data"
    },
    {
     "name": "stderr",
     "output_type": "stream",
     "text": [
      "2023-02-24 20:37:31,739 - BERTopic - Transformed documents to Embeddings\n",
      "2023-02-24 20:37:34,649 - BERTopic - Reduced dimensionality\n",
      "2023-02-24 20:37:34,684 - BERTopic - Clustered reduced embeddings\n"
     ]
    },
    {
     "data": {
      "text/html": [
       "<div>\n",
       "<style scoped>\n",
       "    .dataframe tbody tr th:only-of-type {\n",
       "        vertical-align: middle;\n",
       "    }\n",
       "\n",
       "    .dataframe tbody tr th {\n",
       "        vertical-align: top;\n",
       "    }\n",
       "\n",
       "    .dataframe thead th {\n",
       "        text-align: right;\n",
       "    }\n",
       "</style>\n",
       "<table border=\"1\" class=\"dataframe\">\n",
       "  <thead>\n",
       "    <tr style=\"text-align: right;\">\n",
       "      <th></th>\n",
       "      <th>Topic</th>\n",
       "      <th>Count</th>\n",
       "      <th>Name</th>\n",
       "    </tr>\n",
       "  </thead>\n",
       "  <tbody>\n",
       "    <tr>\n",
       "      <th>0</th>\n",
       "      <td>-1</td>\n",
       "      <td>10</td>\n",
       "      <td>-1_mexican american_mexican_american_insight</td>\n",
       "    </tr>\n",
       "    <tr>\n",
       "      <th>1</th>\n",
       "      <td>0</td>\n",
       "      <td>35</td>\n",
       "      <td>0_mature_themes_difficult_content</td>\n",
       "    </tr>\n",
       "    <tr>\n",
       "      <th>2</th>\n",
       "      <td>1</td>\n",
       "      <td>32</td>\n",
       "      <td>1_relevant_experiences_identity_selfdiscovery</td>\n",
       "    </tr>\n",
       "    <tr>\n",
       "      <th>3</th>\n",
       "      <td>2</td>\n",
       "      <td>27</td>\n",
       "      <td>2_mature_contains_likely_topics</td>\n",
       "    </tr>\n",
       "    <tr>\n",
       "      <th>4</th>\n",
       "      <td>3</td>\n",
       "      <td>26</td>\n",
       "      <td>3_mature_content_likely_topics</td>\n",
       "    </tr>\n",
       "    <tr>\n",
       "      <th>5</th>\n",
       "      <td>4</td>\n",
       "      <td>25</td>\n",
       "      <td>4_historical_interracial_provides_novel</td>\n",
       "    </tr>\n",
       "    <tr>\n",
       "      <th>6</th>\n",
       "      <td>5</td>\n",
       "      <td>25</td>\n",
       "      <td>5_appropriate_audience_mature_topics</td>\n",
       "    </tr>\n",
       "    <tr>\n",
       "      <th>7</th>\n",
       "      <td>6</td>\n",
       "      <td>25</td>\n",
       "      <td>6_mature_likely_contains_content</td>\n",
       "    </tr>\n",
       "    <tr>\n",
       "      <th>8</th>\n",
       "      <td>7</td>\n",
       "      <td>23</td>\n",
       "      <td>7_black_queer_black queer_experiences</td>\n",
       "    </tr>\n",
       "    <tr>\n",
       "      <th>9</th>\n",
       "      <td>8</td>\n",
       "      <td>22</td>\n",
       "      <td>8_mature_themes_older_age</td>\n",
       "    </tr>\n",
       "  </tbody>\n",
       "</table>\n",
       "</div>"
      ],
      "text/plain": [
       "   Topic  Count                                           Name\n",
       "0     -1     10   -1_mexican american_mexican_american_insight\n",
       "1      0     35              0_mature_themes_difficult_content\n",
       "2      1     32  1_relevant_experiences_identity_selfdiscovery\n",
       "3      2     27                2_mature_contains_likely_topics\n",
       "4      3     26                 3_mature_content_likely_topics\n",
       "5      4     25        4_historical_interracial_provides_novel\n",
       "6      5     25           5_appropriate_audience_mature_topics\n",
       "7      6     25               6_mature_likely_contains_content\n",
       "8      7     23          7_black_queer_black queer_experiences\n",
       "9      8     22                      8_mature_themes_older_age"
      ]
     },
     "execution_count": 103,
     "metadata": {},
     "output_type": "execute_result"
    }
   ],
   "source": [
    "my_stop_words = list(text.ENGLISH_STOP_WORDS\\\n",
    "                     .union([\"she's\", \"he's\", \"shes\", \"hes\", 'book', 'classroom'])\\\n",
    "                     .union([f'{i}yearold' for i in range(3,23, 2)])\\\n",
    "                     .union([f'{i}yearolds' for i in range(3,23, 2)])\n",
    "                    )\n",
    "# we add this to remove stopwords\n",
    "vectorizer_model = CountVectorizer(ngram_range=(1,3), stop_words=my_stop_words)\n",
    "\n",
    "gpt_response_topic_model = BERTopic(\n",
    "    vectorizer_model=vectorizer_model,\n",
    "    language='english', \n",
    "    calculate_probabilities=True,\n",
    "    verbose=True\n",
    ")\n",
    "topics, probs = gpt_response_topic_model.fit_transform(responses_df.explain.values, \n",
    "                                                       y=responses_df.answer.apply(lambda x: 0 if x=='No' else 1).values)\n",
    "\n",
    "gpt_response_topic_model.get_topic_info()\n"
   ]
  },
  {
   "cell_type": "code",
   "execution_count": 104,
   "metadata": {},
   "outputs": [
    {
     "data": {
      "application/vnd.plotly.v1+json": {
       "config": {
        "plotlyServerURL": "https://plot.ly"
       },
       "data": [
        {
         "marker": {
          "color": "#D55E00"
         },
         "orientation": "h",
         "type": "bar",
         "x": [
          0.02791317276097919,
          0.028575815294833728,
          0.028632916015385868,
          0.029919140906679895,
          0.033021104931625474,
          0.03318786165290581,
          0.03693261526923878,
          0.03957590659575026
         ],
         "xaxis": "x",
         "y": [
          "suitable  ",
          "triggering  ",
          "racism  ",
          "topics  ",
          "content  ",
          "difficult  ",
          "themes  ",
          "mature  "
         ],
         "yaxis": "y"
        },
        {
         "marker": {
          "color": "#0072B2"
         },
         "orientation": "h",
         "type": "bar",
         "x": [
          0.019240852720016702,
          0.021276784292683665,
          0.02182505452168233,
          0.02333440786124787,
          0.024882628859187662,
          0.024996572914469613,
          0.02556969122419011,
          0.027790690994666616
         ],
         "xaxis": "x2",
         "y": [
          "students  ",
          "important  ",
          "relatable  ",
          "topics  ",
          "selfdiscovery  ",
          "identity  ",
          "experiences  ",
          "relevant  "
         ],
         "yaxis": "y2"
        },
        {
         "marker": {
          "color": "#CC79A7"
         },
         "orientation": "h",
         "type": "bar",
         "x": [
          0.025404270511650284,
          0.026917919784621307,
          0.029616526545281702,
          0.029812273226340495,
          0.03314835749279214,
          0.03424084400852244,
          0.03615078266771382,
          0.045982816945540024
         ],
         "xaxis": "x3",
         "y": [
          "coming  ",
          "appropriate  ",
          "content  ",
          "themes  ",
          "topics  ",
          "likely  ",
          "contains  ",
          "mature  "
         ],
         "yaxis": "y3"
        },
        {
         "marker": {
          "color": "#E69F00"
         },
         "orientation": "h",
         "type": "bar",
         "x": [
          0.029256517159586392,
          0.02960206006978878,
          0.029627486408821853,
          0.030032040417109267,
          0.032580882659680586,
          0.03402860737210598,
          0.04075331958503639,
          0.046622856154873334
         ],
         "xaxis": "x4",
         "y": [
          "difficult  ",
          "audience  ",
          "themes  ",
          "age  ",
          "topics  ",
          "likely  ",
          "content  ",
          "mature  "
         ],
         "yaxis": "y4"
        },
        {
         "marker": {
          "color": "#56B4E9"
         },
         "orientation": "h",
         "type": "bar",
         "x": [
          0.02084816238559138,
          0.02244108706002109,
          0.022490600234656644,
          0.022859739260178057,
          0.02483474245289028,
          0.025768836470426118,
          0.026233535352634244,
          0.035414450524209724
         ],
         "xaxis": "x5",
         "y": [
          "period  ",
          "time  ",
          "love  ",
          "history  ",
          "novel  ",
          "provides  ",
          "interracial  ",
          "historical  "
         ],
         "yaxis": "y5"
        },
        {
         "marker": {
          "color": "#009E73"
         },
         "orientation": "h",
         "type": "bar",
         "x": [
          0.030487258095867897,
          0.03146700956719959,
          0.03159088376927618,
          0.03470977954436036,
          0.03796276179531671,
          0.03880304377334167,
          0.03979832520493824,
          0.05533127955727713
         ],
         "xaxis": "x6",
         "y": [
          "older audience  ",
          "young  ",
          "deals  ",
          "older  ",
          "topics  ",
          "mature  ",
          "audience  ",
          "appropriate  "
         ],
         "yaxis": "y6"
        },
        {
         "marker": {
          "color": "#F0E442"
         },
         "orientation": "h",
         "type": "bar",
         "x": [
          0.027114173334549824,
          0.034470440917956195,
          0.035114081257502795,
          0.03790660386366683,
          0.037931935921456945,
          0.038584008424194564,
          0.039590975884854065,
          0.05682694280415422
         ],
         "xaxis": "x7",
         "y": [
          "understand  ",
          "themes  ",
          "appropriate  ",
          "topics  ",
          "content  ",
          "contains  ",
          "likely  ",
          "mature  "
         ],
         "yaxis": "y7"
        },
        {
         "marker": {
          "color": "#D55E00"
         },
         "orientation": "h",
         "type": "bar",
         "x": [
          0.02877674634477096,
          0.029156997580780414,
          0.029156997580780414,
          0.029156997580780414,
          0.03202152725425254,
          0.04302503074505047,
          0.04486507000338563,
          0.04486507000338563
         ],
         "xaxis": "x8",
         "y": [
          "help  ",
          "boy  ",
          "queer boy  ",
          "black queer boy  ",
          "experiences  ",
          "black queer  ",
          "queer  ",
          "black  "
         ],
         "yaxis": "y8"
        }
       ],
       "layout": {
        "annotations": [
         {
          "font": {
           "size": 16
          },
          "showarrow": false,
          "text": "Topic 0",
          "x": 0.0875,
          "xanchor": "center",
          "xref": "paper",
          "y": 1,
          "yanchor": "bottom",
          "yref": "paper"
         },
         {
          "font": {
           "size": 16
          },
          "showarrow": false,
          "text": "Topic 1",
          "x": 0.36250000000000004,
          "xanchor": "center",
          "xref": "paper",
          "y": 1,
          "yanchor": "bottom",
          "yref": "paper"
         },
         {
          "font": {
           "size": 16
          },
          "showarrow": false,
          "text": "Topic 2",
          "x": 0.6375000000000001,
          "xanchor": "center",
          "xref": "paper",
          "y": 1,
          "yanchor": "bottom",
          "yref": "paper"
         },
         {
          "font": {
           "size": 16
          },
          "showarrow": false,
          "text": "Topic 3",
          "x": 0.9125,
          "xanchor": "center",
          "xref": "paper",
          "y": 1,
          "yanchor": "bottom",
          "yref": "paper"
         },
         {
          "font": {
           "size": 16
          },
          "showarrow": false,
          "text": "Topic 4",
          "x": 0.0875,
          "xanchor": "center",
          "xref": "paper",
          "y": 0.4,
          "yanchor": "bottom",
          "yref": "paper"
         },
         {
          "font": {
           "size": 16
          },
          "showarrow": false,
          "text": "Topic 5",
          "x": 0.36250000000000004,
          "xanchor": "center",
          "xref": "paper",
          "y": 0.4,
          "yanchor": "bottom",
          "yref": "paper"
         },
         {
          "font": {
           "size": 16
          },
          "showarrow": false,
          "text": "Topic 6",
          "x": 0.6375000000000001,
          "xanchor": "center",
          "xref": "paper",
          "y": 0.4,
          "yanchor": "bottom",
          "yref": "paper"
         },
         {
          "font": {
           "size": 16
          },
          "showarrow": false,
          "text": "Topic 7",
          "x": 0.9125,
          "xanchor": "center",
          "xref": "paper",
          "y": 0.4,
          "yanchor": "bottom",
          "yref": "paper"
         }
        ],
        "height": 500,
        "hoverlabel": {
         "bgcolor": "white",
         "font": {
          "family": "Rockwell",
          "size": 16
         }
        },
        "showlegend": false,
        "template": {
         "data": {
          "bar": [
           {
            "error_x": {
             "color": "#2a3f5f"
            },
            "error_y": {
             "color": "#2a3f5f"
            },
            "marker": {
             "line": {
              "color": "white",
              "width": 0.5
             },
             "pattern": {
              "fillmode": "overlay",
              "size": 10,
              "solidity": 0.2
             }
            },
            "type": "bar"
           }
          ],
          "barpolar": [
           {
            "marker": {
             "line": {
              "color": "white",
              "width": 0.5
             },
             "pattern": {
              "fillmode": "overlay",
              "size": 10,
              "solidity": 0.2
             }
            },
            "type": "barpolar"
           }
          ],
          "carpet": [
           {
            "aaxis": {
             "endlinecolor": "#2a3f5f",
             "gridcolor": "#C8D4E3",
             "linecolor": "#C8D4E3",
             "minorgridcolor": "#C8D4E3",
             "startlinecolor": "#2a3f5f"
            },
            "baxis": {
             "endlinecolor": "#2a3f5f",
             "gridcolor": "#C8D4E3",
             "linecolor": "#C8D4E3",
             "minorgridcolor": "#C8D4E3",
             "startlinecolor": "#2a3f5f"
            },
            "type": "carpet"
           }
          ],
          "choropleth": [
           {
            "colorbar": {
             "outlinewidth": 0,
             "ticks": ""
            },
            "type": "choropleth"
           }
          ],
          "contour": [
           {
            "colorbar": {
             "outlinewidth": 0,
             "ticks": ""
            },
            "colorscale": [
             [
              0,
              "#0d0887"
             ],
             [
              0.1111111111111111,
              "#46039f"
             ],
             [
              0.2222222222222222,
              "#7201a8"
             ],
             [
              0.3333333333333333,
              "#9c179e"
             ],
             [
              0.4444444444444444,
              "#bd3786"
             ],
             [
              0.5555555555555556,
              "#d8576b"
             ],
             [
              0.6666666666666666,
              "#ed7953"
             ],
             [
              0.7777777777777778,
              "#fb9f3a"
             ],
             [
              0.8888888888888888,
              "#fdca26"
             ],
             [
              1,
              "#f0f921"
             ]
            ],
            "type": "contour"
           }
          ],
          "contourcarpet": [
           {
            "colorbar": {
             "outlinewidth": 0,
             "ticks": ""
            },
            "type": "contourcarpet"
           }
          ],
          "heatmap": [
           {
            "colorbar": {
             "outlinewidth": 0,
             "ticks": ""
            },
            "colorscale": [
             [
              0,
              "#0d0887"
             ],
             [
              0.1111111111111111,
              "#46039f"
             ],
             [
              0.2222222222222222,
              "#7201a8"
             ],
             [
              0.3333333333333333,
              "#9c179e"
             ],
             [
              0.4444444444444444,
              "#bd3786"
             ],
             [
              0.5555555555555556,
              "#d8576b"
             ],
             [
              0.6666666666666666,
              "#ed7953"
             ],
             [
              0.7777777777777778,
              "#fb9f3a"
             ],
             [
              0.8888888888888888,
              "#fdca26"
             ],
             [
              1,
              "#f0f921"
             ]
            ],
            "type": "heatmap"
           }
          ],
          "heatmapgl": [
           {
            "colorbar": {
             "outlinewidth": 0,
             "ticks": ""
            },
            "colorscale": [
             [
              0,
              "#0d0887"
             ],
             [
              0.1111111111111111,
              "#46039f"
             ],
             [
              0.2222222222222222,
              "#7201a8"
             ],
             [
              0.3333333333333333,
              "#9c179e"
             ],
             [
              0.4444444444444444,
              "#bd3786"
             ],
             [
              0.5555555555555556,
              "#d8576b"
             ],
             [
              0.6666666666666666,
              "#ed7953"
             ],
             [
              0.7777777777777778,
              "#fb9f3a"
             ],
             [
              0.8888888888888888,
              "#fdca26"
             ],
             [
              1,
              "#f0f921"
             ]
            ],
            "type": "heatmapgl"
           }
          ],
          "histogram": [
           {
            "marker": {
             "pattern": {
              "fillmode": "overlay",
              "size": 10,
              "solidity": 0.2
             }
            },
            "type": "histogram"
           }
          ],
          "histogram2d": [
           {
            "colorbar": {
             "outlinewidth": 0,
             "ticks": ""
            },
            "colorscale": [
             [
              0,
              "#0d0887"
             ],
             [
              0.1111111111111111,
              "#46039f"
             ],
             [
              0.2222222222222222,
              "#7201a8"
             ],
             [
              0.3333333333333333,
              "#9c179e"
             ],
             [
              0.4444444444444444,
              "#bd3786"
             ],
             [
              0.5555555555555556,
              "#d8576b"
             ],
             [
              0.6666666666666666,
              "#ed7953"
             ],
             [
              0.7777777777777778,
              "#fb9f3a"
             ],
             [
              0.8888888888888888,
              "#fdca26"
             ],
             [
              1,
              "#f0f921"
             ]
            ],
            "type": "histogram2d"
           }
          ],
          "histogram2dcontour": [
           {
            "colorbar": {
             "outlinewidth": 0,
             "ticks": ""
            },
            "colorscale": [
             [
              0,
              "#0d0887"
             ],
             [
              0.1111111111111111,
              "#46039f"
             ],
             [
              0.2222222222222222,
              "#7201a8"
             ],
             [
              0.3333333333333333,
              "#9c179e"
             ],
             [
              0.4444444444444444,
              "#bd3786"
             ],
             [
              0.5555555555555556,
              "#d8576b"
             ],
             [
              0.6666666666666666,
              "#ed7953"
             ],
             [
              0.7777777777777778,
              "#fb9f3a"
             ],
             [
              0.8888888888888888,
              "#fdca26"
             ],
             [
              1,
              "#f0f921"
             ]
            ],
            "type": "histogram2dcontour"
           }
          ],
          "mesh3d": [
           {
            "colorbar": {
             "outlinewidth": 0,
             "ticks": ""
            },
            "type": "mesh3d"
           }
          ],
          "parcoords": [
           {
            "line": {
             "colorbar": {
              "outlinewidth": 0,
              "ticks": ""
             }
            },
            "type": "parcoords"
           }
          ],
          "pie": [
           {
            "automargin": true,
            "type": "pie"
           }
          ],
          "scatter": [
           {
            "fillpattern": {
             "fillmode": "overlay",
             "size": 10,
             "solidity": 0.2
            },
            "type": "scatter"
           }
          ],
          "scatter3d": [
           {
            "line": {
             "colorbar": {
              "outlinewidth": 0,
              "ticks": ""
             }
            },
            "marker": {
             "colorbar": {
              "outlinewidth": 0,
              "ticks": ""
             }
            },
            "type": "scatter3d"
           }
          ],
          "scattercarpet": [
           {
            "marker": {
             "colorbar": {
              "outlinewidth": 0,
              "ticks": ""
             }
            },
            "type": "scattercarpet"
           }
          ],
          "scattergeo": [
           {
            "marker": {
             "colorbar": {
              "outlinewidth": 0,
              "ticks": ""
             }
            },
            "type": "scattergeo"
           }
          ],
          "scattergl": [
           {
            "marker": {
             "colorbar": {
              "outlinewidth": 0,
              "ticks": ""
             }
            },
            "type": "scattergl"
           }
          ],
          "scattermapbox": [
           {
            "marker": {
             "colorbar": {
              "outlinewidth": 0,
              "ticks": ""
             }
            },
            "type": "scattermapbox"
           }
          ],
          "scatterpolar": [
           {
            "marker": {
             "colorbar": {
              "outlinewidth": 0,
              "ticks": ""
             }
            },
            "type": "scatterpolar"
           }
          ],
          "scatterpolargl": [
           {
            "marker": {
             "colorbar": {
              "outlinewidth": 0,
              "ticks": ""
             }
            },
            "type": "scatterpolargl"
           }
          ],
          "scatterternary": [
           {
            "marker": {
             "colorbar": {
              "outlinewidth": 0,
              "ticks": ""
             }
            },
            "type": "scatterternary"
           }
          ],
          "surface": [
           {
            "colorbar": {
             "outlinewidth": 0,
             "ticks": ""
            },
            "colorscale": [
             [
              0,
              "#0d0887"
             ],
             [
              0.1111111111111111,
              "#46039f"
             ],
             [
              0.2222222222222222,
              "#7201a8"
             ],
             [
              0.3333333333333333,
              "#9c179e"
             ],
             [
              0.4444444444444444,
              "#bd3786"
             ],
             [
              0.5555555555555556,
              "#d8576b"
             ],
             [
              0.6666666666666666,
              "#ed7953"
             ],
             [
              0.7777777777777778,
              "#fb9f3a"
             ],
             [
              0.8888888888888888,
              "#fdca26"
             ],
             [
              1,
              "#f0f921"
             ]
            ],
            "type": "surface"
           }
          ],
          "table": [
           {
            "cells": {
             "fill": {
              "color": "#EBF0F8"
             },
             "line": {
              "color": "white"
             }
            },
            "header": {
             "fill": {
              "color": "#C8D4E3"
             },
             "line": {
              "color": "white"
             }
            },
            "type": "table"
           }
          ]
         },
         "layout": {
          "annotationdefaults": {
           "arrowcolor": "#2a3f5f",
           "arrowhead": 0,
           "arrowwidth": 1
          },
          "autotypenumbers": "strict",
          "coloraxis": {
           "colorbar": {
            "outlinewidth": 0,
            "ticks": ""
           }
          },
          "colorscale": {
           "diverging": [
            [
             0,
             "#8e0152"
            ],
            [
             0.1,
             "#c51b7d"
            ],
            [
             0.2,
             "#de77ae"
            ],
            [
             0.3,
             "#f1b6da"
            ],
            [
             0.4,
             "#fde0ef"
            ],
            [
             0.5,
             "#f7f7f7"
            ],
            [
             0.6,
             "#e6f5d0"
            ],
            [
             0.7,
             "#b8e186"
            ],
            [
             0.8,
             "#7fbc41"
            ],
            [
             0.9,
             "#4d9221"
            ],
            [
             1,
             "#276419"
            ]
           ],
           "sequential": [
            [
             0,
             "#0d0887"
            ],
            [
             0.1111111111111111,
             "#46039f"
            ],
            [
             0.2222222222222222,
             "#7201a8"
            ],
            [
             0.3333333333333333,
             "#9c179e"
            ],
            [
             0.4444444444444444,
             "#bd3786"
            ],
            [
             0.5555555555555556,
             "#d8576b"
            ],
            [
             0.6666666666666666,
             "#ed7953"
            ],
            [
             0.7777777777777778,
             "#fb9f3a"
            ],
            [
             0.8888888888888888,
             "#fdca26"
            ],
            [
             1,
             "#f0f921"
            ]
           ],
           "sequentialminus": [
            [
             0,
             "#0d0887"
            ],
            [
             0.1111111111111111,
             "#46039f"
            ],
            [
             0.2222222222222222,
             "#7201a8"
            ],
            [
             0.3333333333333333,
             "#9c179e"
            ],
            [
             0.4444444444444444,
             "#bd3786"
            ],
            [
             0.5555555555555556,
             "#d8576b"
            ],
            [
             0.6666666666666666,
             "#ed7953"
            ],
            [
             0.7777777777777778,
             "#fb9f3a"
            ],
            [
             0.8888888888888888,
             "#fdca26"
            ],
            [
             1,
             "#f0f921"
            ]
           ]
          },
          "colorway": [
           "#636efa",
           "#EF553B",
           "#00cc96",
           "#ab63fa",
           "#FFA15A",
           "#19d3f3",
           "#FF6692",
           "#B6E880",
           "#FF97FF",
           "#FECB52"
          ],
          "font": {
           "color": "#2a3f5f"
          },
          "geo": {
           "bgcolor": "white",
           "lakecolor": "white",
           "landcolor": "white",
           "showlakes": true,
           "showland": true,
           "subunitcolor": "#C8D4E3"
          },
          "hoverlabel": {
           "align": "left"
          },
          "hovermode": "closest",
          "mapbox": {
           "style": "light"
          },
          "paper_bgcolor": "white",
          "plot_bgcolor": "white",
          "polar": {
           "angularaxis": {
            "gridcolor": "#EBF0F8",
            "linecolor": "#EBF0F8",
            "ticks": ""
           },
           "bgcolor": "white",
           "radialaxis": {
            "gridcolor": "#EBF0F8",
            "linecolor": "#EBF0F8",
            "ticks": ""
           }
          },
          "scene": {
           "xaxis": {
            "backgroundcolor": "white",
            "gridcolor": "#DFE8F3",
            "gridwidth": 2,
            "linecolor": "#EBF0F8",
            "showbackground": true,
            "ticks": "",
            "zerolinecolor": "#EBF0F8"
           },
           "yaxis": {
            "backgroundcolor": "white",
            "gridcolor": "#DFE8F3",
            "gridwidth": 2,
            "linecolor": "#EBF0F8",
            "showbackground": true,
            "ticks": "",
            "zerolinecolor": "#EBF0F8"
           },
           "zaxis": {
            "backgroundcolor": "white",
            "gridcolor": "#DFE8F3",
            "gridwidth": 2,
            "linecolor": "#EBF0F8",
            "showbackground": true,
            "ticks": "",
            "zerolinecolor": "#EBF0F8"
           }
          },
          "shapedefaults": {
           "line": {
            "color": "#2a3f5f"
           }
          },
          "ternary": {
           "aaxis": {
            "gridcolor": "#DFE8F3",
            "linecolor": "#A2B1C6",
            "ticks": ""
           },
           "baxis": {
            "gridcolor": "#DFE8F3",
            "linecolor": "#A2B1C6",
            "ticks": ""
           },
           "bgcolor": "white",
           "caxis": {
            "gridcolor": "#DFE8F3",
            "linecolor": "#A2B1C6",
            "ticks": ""
           }
          },
          "title": {
           "x": 0.05
          },
          "xaxis": {
           "automargin": true,
           "gridcolor": "#EBF0F8",
           "linecolor": "#EBF0F8",
           "ticks": "",
           "title": {
            "standoff": 15
           },
           "zerolinecolor": "#EBF0F8",
           "zerolinewidth": 2
          },
          "yaxis": {
           "automargin": true,
           "gridcolor": "#EBF0F8",
           "linecolor": "#EBF0F8",
           "ticks": "",
           "title": {
            "standoff": 15
           },
           "zerolinecolor": "#EBF0F8",
           "zerolinewidth": 2
          }
         }
        },
        "title": {
         "font": {
          "color": "Black",
          "size": 22
         },
         "text": "Topic Word Scores",
         "x": 0.5,
         "xanchor": "center",
         "yanchor": "top"
        },
        "width": 1000,
        "xaxis": {
         "anchor": "y",
         "domain": [
          0,
          0.175
         ],
         "showgrid": true
        },
        "xaxis2": {
         "anchor": "y2",
         "domain": [
          0.275,
          0.45
         ],
         "showgrid": true
        },
        "xaxis3": {
         "anchor": "y3",
         "domain": [
          0.55,
          0.7250000000000001
         ],
         "showgrid": true
        },
        "xaxis4": {
         "anchor": "y4",
         "domain": [
          0.825,
          1
         ],
         "showgrid": true
        },
        "xaxis5": {
         "anchor": "y5",
         "domain": [
          0,
          0.175
         ],
         "showgrid": true
        },
        "xaxis6": {
         "anchor": "y6",
         "domain": [
          0.275,
          0.45
         ],
         "showgrid": true
        },
        "xaxis7": {
         "anchor": "y7",
         "domain": [
          0.55,
          0.7250000000000001
         ],
         "showgrid": true
        },
        "xaxis8": {
         "anchor": "y8",
         "domain": [
          0.825,
          1
         ],
         "showgrid": true
        },
        "yaxis": {
         "anchor": "x",
         "domain": [
          0.6000000000000001,
          1
         ],
         "showgrid": true
        },
        "yaxis2": {
         "anchor": "x2",
         "domain": [
          0.6000000000000001,
          1
         ],
         "showgrid": true
        },
        "yaxis3": {
         "anchor": "x3",
         "domain": [
          0.6000000000000001,
          1
         ],
         "showgrid": true
        },
        "yaxis4": {
         "anchor": "x4",
         "domain": [
          0.6000000000000001,
          1
         ],
         "showgrid": true
        },
        "yaxis5": {
         "anchor": "x5",
         "domain": [
          0,
          0.4
         ],
         "showgrid": true
        },
        "yaxis6": {
         "anchor": "x6",
         "domain": [
          0,
          0.4
         ],
         "showgrid": true
        },
        "yaxis7": {
         "anchor": "x7",
         "domain": [
          0,
          0.4
         ],
         "showgrid": true
        },
        "yaxis8": {
         "anchor": "x8",
         "domain": [
          0,
          0.4
         ],
         "showgrid": true
        }
       }
      },
      "text/html": [
       "<div>                            <div id=\"a3d60ff5-2d09-4dcd-ba4c-f013ae45c7e4\" class=\"plotly-graph-div\" style=\"height:500px; width:1000px;\"></div>            <script type=\"text/javascript\">                require([\"plotly\"], function(Plotly) {                    window.PLOTLYENV=window.PLOTLYENV || {};                                    if (document.getElementById(\"a3d60ff5-2d09-4dcd-ba4c-f013ae45c7e4\")) {                    Plotly.newPlot(                        \"a3d60ff5-2d09-4dcd-ba4c-f013ae45c7e4\",                        [{\"marker\":{\"color\":\"#D55E00\"},\"orientation\":\"h\",\"x\":[0.02791317276097919,0.028575815294833728,0.028632916015385868,0.029919140906679895,0.033021104931625474,0.03318786165290581,0.03693261526923878,0.03957590659575026],\"y\":[\"suitable  \",\"triggering  \",\"racism  \",\"topics  \",\"content  \",\"difficult  \",\"themes  \",\"mature  \"],\"type\":\"bar\",\"xaxis\":\"x\",\"yaxis\":\"y\"},{\"marker\":{\"color\":\"#0072B2\"},\"orientation\":\"h\",\"x\":[0.019240852720016702,0.021276784292683665,0.02182505452168233,0.02333440786124787,0.024882628859187662,0.024996572914469613,0.02556969122419011,0.027790690994666616],\"y\":[\"students  \",\"important  \",\"relatable  \",\"topics  \",\"selfdiscovery  \",\"identity  \",\"experiences  \",\"relevant  \"],\"type\":\"bar\",\"xaxis\":\"x2\",\"yaxis\":\"y2\"},{\"marker\":{\"color\":\"#CC79A7\"},\"orientation\":\"h\",\"x\":[0.025404270511650284,0.026917919784621307,0.029616526545281702,0.029812273226340495,0.03314835749279214,0.03424084400852244,0.03615078266771382,0.045982816945540024],\"y\":[\"coming  \",\"appropriate  \",\"content  \",\"themes  \",\"topics  \",\"likely  \",\"contains  \",\"mature  \"],\"type\":\"bar\",\"xaxis\":\"x3\",\"yaxis\":\"y3\"},{\"marker\":{\"color\":\"#E69F00\"},\"orientation\":\"h\",\"x\":[0.029256517159586392,0.02960206006978878,0.029627486408821853,0.030032040417109267,0.032580882659680586,0.03402860737210598,0.04075331958503639,0.046622856154873334],\"y\":[\"difficult  \",\"audience  \",\"themes  \",\"age  \",\"topics  \",\"likely  \",\"content  \",\"mature  \"],\"type\":\"bar\",\"xaxis\":\"x4\",\"yaxis\":\"y4\"},{\"marker\":{\"color\":\"#56B4E9\"},\"orientation\":\"h\",\"x\":[0.02084816238559138,0.02244108706002109,0.022490600234656644,0.022859739260178057,0.02483474245289028,0.025768836470426118,0.026233535352634244,0.035414450524209724],\"y\":[\"period  \",\"time  \",\"love  \",\"history  \",\"novel  \",\"provides  \",\"interracial  \",\"historical  \"],\"type\":\"bar\",\"xaxis\":\"x5\",\"yaxis\":\"y5\"},{\"marker\":{\"color\":\"#009E73\"},\"orientation\":\"h\",\"x\":[0.030487258095867897,0.03146700956719959,0.03159088376927618,0.03470977954436036,0.03796276179531671,0.03880304377334167,0.03979832520493824,0.05533127955727713],\"y\":[\"older audience  \",\"young  \",\"deals  \",\"older  \",\"topics  \",\"mature  \",\"audience  \",\"appropriate  \"],\"type\":\"bar\",\"xaxis\":\"x6\",\"yaxis\":\"y6\"},{\"marker\":{\"color\":\"#F0E442\"},\"orientation\":\"h\",\"x\":[0.027114173334549824,0.034470440917956195,0.035114081257502795,0.03790660386366683,0.037931935921456945,0.038584008424194564,0.039590975884854065,0.05682694280415422],\"y\":[\"understand  \",\"themes  \",\"appropriate  \",\"topics  \",\"content  \",\"contains  \",\"likely  \",\"mature  \"],\"type\":\"bar\",\"xaxis\":\"x7\",\"yaxis\":\"y7\"},{\"marker\":{\"color\":\"#D55E00\"},\"orientation\":\"h\",\"x\":[0.02877674634477096,0.029156997580780414,0.029156997580780414,0.029156997580780414,0.03202152725425254,0.04302503074505047,0.04486507000338563,0.04486507000338563],\"y\":[\"help  \",\"boy  \",\"queer boy  \",\"black queer boy  \",\"experiences  \",\"black queer  \",\"queer  \",\"black  \"],\"type\":\"bar\",\"xaxis\":\"x8\",\"yaxis\":\"y8\"}],                        {\"template\":{\"data\":{\"barpolar\":[{\"marker\":{\"line\":{\"color\":\"white\",\"width\":0.5},\"pattern\":{\"fillmode\":\"overlay\",\"size\":10,\"solidity\":0.2}},\"type\":\"barpolar\"}],\"bar\":[{\"error_x\":{\"color\":\"#2a3f5f\"},\"error_y\":{\"color\":\"#2a3f5f\"},\"marker\":{\"line\":{\"color\":\"white\",\"width\":0.5},\"pattern\":{\"fillmode\":\"overlay\",\"size\":10,\"solidity\":0.2}},\"type\":\"bar\"}],\"carpet\":[{\"aaxis\":{\"endlinecolor\":\"#2a3f5f\",\"gridcolor\":\"#C8D4E3\",\"linecolor\":\"#C8D4E3\",\"minorgridcolor\":\"#C8D4E3\",\"startlinecolor\":\"#2a3f5f\"},\"baxis\":{\"endlinecolor\":\"#2a3f5f\",\"gridcolor\":\"#C8D4E3\",\"linecolor\":\"#C8D4E3\",\"minorgridcolor\":\"#C8D4E3\",\"startlinecolor\":\"#2a3f5f\"},\"type\":\"carpet\"}],\"choropleth\":[{\"colorbar\":{\"outlinewidth\":0,\"ticks\":\"\"},\"type\":\"choropleth\"}],\"contourcarpet\":[{\"colorbar\":{\"outlinewidth\":0,\"ticks\":\"\"},\"type\":\"contourcarpet\"}],\"contour\":[{\"colorbar\":{\"outlinewidth\":0,\"ticks\":\"\"},\"colorscale\":[[0.0,\"#0d0887\"],[0.1111111111111111,\"#46039f\"],[0.2222222222222222,\"#7201a8\"],[0.3333333333333333,\"#9c179e\"],[0.4444444444444444,\"#bd3786\"],[0.5555555555555556,\"#d8576b\"],[0.6666666666666666,\"#ed7953\"],[0.7777777777777778,\"#fb9f3a\"],[0.8888888888888888,\"#fdca26\"],[1.0,\"#f0f921\"]],\"type\":\"contour\"}],\"heatmapgl\":[{\"colorbar\":{\"outlinewidth\":0,\"ticks\":\"\"},\"colorscale\":[[0.0,\"#0d0887\"],[0.1111111111111111,\"#46039f\"],[0.2222222222222222,\"#7201a8\"],[0.3333333333333333,\"#9c179e\"],[0.4444444444444444,\"#bd3786\"],[0.5555555555555556,\"#d8576b\"],[0.6666666666666666,\"#ed7953\"],[0.7777777777777778,\"#fb9f3a\"],[0.8888888888888888,\"#fdca26\"],[1.0,\"#f0f921\"]],\"type\":\"heatmapgl\"}],\"heatmap\":[{\"colorbar\":{\"outlinewidth\":0,\"ticks\":\"\"},\"colorscale\":[[0.0,\"#0d0887\"],[0.1111111111111111,\"#46039f\"],[0.2222222222222222,\"#7201a8\"],[0.3333333333333333,\"#9c179e\"],[0.4444444444444444,\"#bd3786\"],[0.5555555555555556,\"#d8576b\"],[0.6666666666666666,\"#ed7953\"],[0.7777777777777778,\"#fb9f3a\"],[0.8888888888888888,\"#fdca26\"],[1.0,\"#f0f921\"]],\"type\":\"heatmap\"}],\"histogram2dcontour\":[{\"colorbar\":{\"outlinewidth\":0,\"ticks\":\"\"},\"colorscale\":[[0.0,\"#0d0887\"],[0.1111111111111111,\"#46039f\"],[0.2222222222222222,\"#7201a8\"],[0.3333333333333333,\"#9c179e\"],[0.4444444444444444,\"#bd3786\"],[0.5555555555555556,\"#d8576b\"],[0.6666666666666666,\"#ed7953\"],[0.7777777777777778,\"#fb9f3a\"],[0.8888888888888888,\"#fdca26\"],[1.0,\"#f0f921\"]],\"type\":\"histogram2dcontour\"}],\"histogram2d\":[{\"colorbar\":{\"outlinewidth\":0,\"ticks\":\"\"},\"colorscale\":[[0.0,\"#0d0887\"],[0.1111111111111111,\"#46039f\"],[0.2222222222222222,\"#7201a8\"],[0.3333333333333333,\"#9c179e\"],[0.4444444444444444,\"#bd3786\"],[0.5555555555555556,\"#d8576b\"],[0.6666666666666666,\"#ed7953\"],[0.7777777777777778,\"#fb9f3a\"],[0.8888888888888888,\"#fdca26\"],[1.0,\"#f0f921\"]],\"type\":\"histogram2d\"}],\"histogram\":[{\"marker\":{\"pattern\":{\"fillmode\":\"overlay\",\"size\":10,\"solidity\":0.2}},\"type\":\"histogram\"}],\"mesh3d\":[{\"colorbar\":{\"outlinewidth\":0,\"ticks\":\"\"},\"type\":\"mesh3d\"}],\"parcoords\":[{\"line\":{\"colorbar\":{\"outlinewidth\":0,\"ticks\":\"\"}},\"type\":\"parcoords\"}],\"pie\":[{\"automargin\":true,\"type\":\"pie\"}],\"scatter3d\":[{\"line\":{\"colorbar\":{\"outlinewidth\":0,\"ticks\":\"\"}},\"marker\":{\"colorbar\":{\"outlinewidth\":0,\"ticks\":\"\"}},\"type\":\"scatter3d\"}],\"scattercarpet\":[{\"marker\":{\"colorbar\":{\"outlinewidth\":0,\"ticks\":\"\"}},\"type\":\"scattercarpet\"}],\"scattergeo\":[{\"marker\":{\"colorbar\":{\"outlinewidth\":0,\"ticks\":\"\"}},\"type\":\"scattergeo\"}],\"scattergl\":[{\"marker\":{\"colorbar\":{\"outlinewidth\":0,\"ticks\":\"\"}},\"type\":\"scattergl\"}],\"scattermapbox\":[{\"marker\":{\"colorbar\":{\"outlinewidth\":0,\"ticks\":\"\"}},\"type\":\"scattermapbox\"}],\"scatterpolargl\":[{\"marker\":{\"colorbar\":{\"outlinewidth\":0,\"ticks\":\"\"}},\"type\":\"scatterpolargl\"}],\"scatterpolar\":[{\"marker\":{\"colorbar\":{\"outlinewidth\":0,\"ticks\":\"\"}},\"type\":\"scatterpolar\"}],\"scatter\":[{\"fillpattern\":{\"fillmode\":\"overlay\",\"size\":10,\"solidity\":0.2},\"type\":\"scatter\"}],\"scatterternary\":[{\"marker\":{\"colorbar\":{\"outlinewidth\":0,\"ticks\":\"\"}},\"type\":\"scatterternary\"}],\"surface\":[{\"colorbar\":{\"outlinewidth\":0,\"ticks\":\"\"},\"colorscale\":[[0.0,\"#0d0887\"],[0.1111111111111111,\"#46039f\"],[0.2222222222222222,\"#7201a8\"],[0.3333333333333333,\"#9c179e\"],[0.4444444444444444,\"#bd3786\"],[0.5555555555555556,\"#d8576b\"],[0.6666666666666666,\"#ed7953\"],[0.7777777777777778,\"#fb9f3a\"],[0.8888888888888888,\"#fdca26\"],[1.0,\"#f0f921\"]],\"type\":\"surface\"}],\"table\":[{\"cells\":{\"fill\":{\"color\":\"#EBF0F8\"},\"line\":{\"color\":\"white\"}},\"header\":{\"fill\":{\"color\":\"#C8D4E3\"},\"line\":{\"color\":\"white\"}},\"type\":\"table\"}]},\"layout\":{\"annotationdefaults\":{\"arrowcolor\":\"#2a3f5f\",\"arrowhead\":0,\"arrowwidth\":1},\"autotypenumbers\":\"strict\",\"coloraxis\":{\"colorbar\":{\"outlinewidth\":0,\"ticks\":\"\"}},\"colorscale\":{\"diverging\":[[0,\"#8e0152\"],[0.1,\"#c51b7d\"],[0.2,\"#de77ae\"],[0.3,\"#f1b6da\"],[0.4,\"#fde0ef\"],[0.5,\"#f7f7f7\"],[0.6,\"#e6f5d0\"],[0.7,\"#b8e186\"],[0.8,\"#7fbc41\"],[0.9,\"#4d9221\"],[1,\"#276419\"]],\"sequential\":[[0.0,\"#0d0887\"],[0.1111111111111111,\"#46039f\"],[0.2222222222222222,\"#7201a8\"],[0.3333333333333333,\"#9c179e\"],[0.4444444444444444,\"#bd3786\"],[0.5555555555555556,\"#d8576b\"],[0.6666666666666666,\"#ed7953\"],[0.7777777777777778,\"#fb9f3a\"],[0.8888888888888888,\"#fdca26\"],[1.0,\"#f0f921\"]],\"sequentialminus\":[[0.0,\"#0d0887\"],[0.1111111111111111,\"#46039f\"],[0.2222222222222222,\"#7201a8\"],[0.3333333333333333,\"#9c179e\"],[0.4444444444444444,\"#bd3786\"],[0.5555555555555556,\"#d8576b\"],[0.6666666666666666,\"#ed7953\"],[0.7777777777777778,\"#fb9f3a\"],[0.8888888888888888,\"#fdca26\"],[1.0,\"#f0f921\"]]},\"colorway\":[\"#636efa\",\"#EF553B\",\"#00cc96\",\"#ab63fa\",\"#FFA15A\",\"#19d3f3\",\"#FF6692\",\"#B6E880\",\"#FF97FF\",\"#FECB52\"],\"font\":{\"color\":\"#2a3f5f\"},\"geo\":{\"bgcolor\":\"white\",\"lakecolor\":\"white\",\"landcolor\":\"white\",\"showlakes\":true,\"showland\":true,\"subunitcolor\":\"#C8D4E3\"},\"hoverlabel\":{\"align\":\"left\"},\"hovermode\":\"closest\",\"mapbox\":{\"style\":\"light\"},\"paper_bgcolor\":\"white\",\"plot_bgcolor\":\"white\",\"polar\":{\"angularaxis\":{\"gridcolor\":\"#EBF0F8\",\"linecolor\":\"#EBF0F8\",\"ticks\":\"\"},\"bgcolor\":\"white\",\"radialaxis\":{\"gridcolor\":\"#EBF0F8\",\"linecolor\":\"#EBF0F8\",\"ticks\":\"\"}},\"scene\":{\"xaxis\":{\"backgroundcolor\":\"white\",\"gridcolor\":\"#DFE8F3\",\"gridwidth\":2,\"linecolor\":\"#EBF0F8\",\"showbackground\":true,\"ticks\":\"\",\"zerolinecolor\":\"#EBF0F8\"},\"yaxis\":{\"backgroundcolor\":\"white\",\"gridcolor\":\"#DFE8F3\",\"gridwidth\":2,\"linecolor\":\"#EBF0F8\",\"showbackground\":true,\"ticks\":\"\",\"zerolinecolor\":\"#EBF0F8\"},\"zaxis\":{\"backgroundcolor\":\"white\",\"gridcolor\":\"#DFE8F3\",\"gridwidth\":2,\"linecolor\":\"#EBF0F8\",\"showbackground\":true,\"ticks\":\"\",\"zerolinecolor\":\"#EBF0F8\"}},\"shapedefaults\":{\"line\":{\"color\":\"#2a3f5f\"}},\"ternary\":{\"aaxis\":{\"gridcolor\":\"#DFE8F3\",\"linecolor\":\"#A2B1C6\",\"ticks\":\"\"},\"baxis\":{\"gridcolor\":\"#DFE8F3\",\"linecolor\":\"#A2B1C6\",\"ticks\":\"\"},\"bgcolor\":\"white\",\"caxis\":{\"gridcolor\":\"#DFE8F3\",\"linecolor\":\"#A2B1C6\",\"ticks\":\"\"}},\"title\":{\"x\":0.05},\"xaxis\":{\"automargin\":true,\"gridcolor\":\"#EBF0F8\",\"linecolor\":\"#EBF0F8\",\"ticks\":\"\",\"title\":{\"standoff\":15},\"zerolinecolor\":\"#EBF0F8\",\"zerolinewidth\":2},\"yaxis\":{\"automargin\":true,\"gridcolor\":\"#EBF0F8\",\"linecolor\":\"#EBF0F8\",\"ticks\":\"\",\"title\":{\"standoff\":15},\"zerolinecolor\":\"#EBF0F8\",\"zerolinewidth\":2}}},\"xaxis\":{\"anchor\":\"y\",\"domain\":[0.0,0.175],\"showgrid\":true},\"yaxis\":{\"anchor\":\"x\",\"domain\":[0.6000000000000001,1.0],\"showgrid\":true},\"xaxis2\":{\"anchor\":\"y2\",\"domain\":[0.275,0.45],\"showgrid\":true},\"yaxis2\":{\"anchor\":\"x2\",\"domain\":[0.6000000000000001,1.0],\"showgrid\":true},\"xaxis3\":{\"anchor\":\"y3\",\"domain\":[0.55,0.7250000000000001],\"showgrid\":true},\"yaxis3\":{\"anchor\":\"x3\",\"domain\":[0.6000000000000001,1.0],\"showgrid\":true},\"xaxis4\":{\"anchor\":\"y4\",\"domain\":[0.825,1.0],\"showgrid\":true},\"yaxis4\":{\"anchor\":\"x4\",\"domain\":[0.6000000000000001,1.0],\"showgrid\":true},\"xaxis5\":{\"anchor\":\"y5\",\"domain\":[0.0,0.175],\"showgrid\":true},\"yaxis5\":{\"anchor\":\"x5\",\"domain\":[0.0,0.4],\"showgrid\":true},\"xaxis6\":{\"anchor\":\"y6\",\"domain\":[0.275,0.45],\"showgrid\":true},\"yaxis6\":{\"anchor\":\"x6\",\"domain\":[0.0,0.4],\"showgrid\":true},\"xaxis7\":{\"anchor\":\"y7\",\"domain\":[0.55,0.7250000000000001],\"showgrid\":true},\"yaxis7\":{\"anchor\":\"x7\",\"domain\":[0.0,0.4],\"showgrid\":true},\"xaxis8\":{\"anchor\":\"y8\",\"domain\":[0.825,1.0],\"showgrid\":true},\"yaxis8\":{\"anchor\":\"x8\",\"domain\":[0.0,0.4],\"showgrid\":true},\"annotations\":[{\"font\":{\"size\":16},\"showarrow\":false,\"text\":\"Topic 0\",\"x\":0.0875,\"xanchor\":\"center\",\"xref\":\"paper\",\"y\":1.0,\"yanchor\":\"bottom\",\"yref\":\"paper\"},{\"font\":{\"size\":16},\"showarrow\":false,\"text\":\"Topic 1\",\"x\":0.36250000000000004,\"xanchor\":\"center\",\"xref\":\"paper\",\"y\":1.0,\"yanchor\":\"bottom\",\"yref\":\"paper\"},{\"font\":{\"size\":16},\"showarrow\":false,\"text\":\"Topic 2\",\"x\":0.6375000000000001,\"xanchor\":\"center\",\"xref\":\"paper\",\"y\":1.0,\"yanchor\":\"bottom\",\"yref\":\"paper\"},{\"font\":{\"size\":16},\"showarrow\":false,\"text\":\"Topic 3\",\"x\":0.9125,\"xanchor\":\"center\",\"xref\":\"paper\",\"y\":1.0,\"yanchor\":\"bottom\",\"yref\":\"paper\"},{\"font\":{\"size\":16},\"showarrow\":false,\"text\":\"Topic 4\",\"x\":0.0875,\"xanchor\":\"center\",\"xref\":\"paper\",\"y\":0.4,\"yanchor\":\"bottom\",\"yref\":\"paper\"},{\"font\":{\"size\":16},\"showarrow\":false,\"text\":\"Topic 5\",\"x\":0.36250000000000004,\"xanchor\":\"center\",\"xref\":\"paper\",\"y\":0.4,\"yanchor\":\"bottom\",\"yref\":\"paper\"},{\"font\":{\"size\":16},\"showarrow\":false,\"text\":\"Topic 6\",\"x\":0.6375000000000001,\"xanchor\":\"center\",\"xref\":\"paper\",\"y\":0.4,\"yanchor\":\"bottom\",\"yref\":\"paper\"},{\"font\":{\"size\":16},\"showarrow\":false,\"text\":\"Topic 7\",\"x\":0.9125,\"xanchor\":\"center\",\"xref\":\"paper\",\"y\":0.4,\"yanchor\":\"bottom\",\"yref\":\"paper\"}],\"title\":{\"font\":{\"size\":22,\"color\":\"Black\"},\"text\":\"Topic Word Scores\",\"x\":0.5,\"xanchor\":\"center\",\"yanchor\":\"top\"},\"hoverlabel\":{\"font\":{\"size\":16,\"family\":\"Rockwell\"},\"bgcolor\":\"white\"},\"showlegend\":false,\"width\":1000,\"height\":500},                        {\"responsive\": true}                    ).then(function(){\n",
       "                            \n",
       "var gd = document.getElementById('a3d60ff5-2d09-4dcd-ba4c-f013ae45c7e4');\n",
       "var x = new MutationObserver(function (mutations, observer) {{\n",
       "        var display = window.getComputedStyle(gd).display;\n",
       "        if (!display || display === 'none') {{\n",
       "            console.log([gd, 'removed!']);\n",
       "            Plotly.purge(gd);\n",
       "            observer.disconnect();\n",
       "        }}\n",
       "}});\n",
       "\n",
       "// Listen for the removal of the full notebook cells\n",
       "var notebookContainer = gd.closest('#notebook-container');\n",
       "if (notebookContainer) {{\n",
       "    x.observe(notebookContainer, {childList: true});\n",
       "}}\n",
       "\n",
       "// Listen for the clearing of the current output cell\n",
       "var outputEl = gd.closest('.output');\n",
       "if (outputEl) {{\n",
       "    x.observe(outputEl, {childList: true});\n",
       "}}\n",
       "\n",
       "                        })                };                });            </script>        </div>"
      ]
     },
     "metadata": {},
     "output_type": "display_data"
    }
   ],
   "source": [
    "fig = gpt_response_topic_model.visualize_barchart(n_words=8)\n",
    "fig.write_html(\"gpt_response_topic_model-tm_selfsupervised.html\")\n",
    "fig"
   ]
  },
  {
   "cell_type": "markdown",
   "metadata": {},
   "source": [
    "#### Word Cloud"
   ]
  },
  {
   "cell_type": "code",
   "execution_count": 215,
   "metadata": {
    "scrolled": true
   },
   "outputs": [],
   "source": [
    "no_tokens = responses_df[responses_df.answer=='No'].explain\n",
    "no_tokens = [i for sublist in no_tokens for i in sublist.split()]\n",
    "no_tokens = clean_tokens(no_tokens)"
   ]
  },
  {
   "cell_type": "code",
   "execution_count": 220,
   "metadata": {},
   "outputs": [
    {
     "data": {
      "text/plain": [
       "[(('book', 'may'), 43),\n",
       " (('age', 'group'), 34),\n",
       " (('may', 'mature'), 28),\n",
       " (('older', 'audience'), 24),\n",
       " (('subject', 'matter'), 24),\n",
       " (('book', 'contains'), 21),\n",
       " (('likely', 'mature'), 19),\n",
       " (('mature', 'classroom'), 19),\n",
       " (('book', 'likely'), 18),\n",
       " (('audience', 'book'), 17)]"
      ]
     },
     "execution_count": 220,
     "metadata": {},
     "output_type": "execute_result"
    }
   ],
   "source": [
    "_ngrams = get_ngrams(no_tokens, 2)\n",
    "Counter(_ngrams).most_common(10)"
   ]
  },
  {
   "cell_type": "code",
   "execution_count": 221,
   "metadata": {
    "scrolled": true
   },
   "outputs": [
    {
     "data": {
      "text/plain": [
       "[(('age', 'group', 'book'), 15),\n",
       " (('older', 'audience', 'book'), 10),\n",
       " (('suited', 'older', 'audience'), 9),\n",
       " (('book', 'may', 'contain'), 9),\n",
       " (('better', 'suited', 'older'), 8),\n",
       " (('would', 'recommend', 'book'), 8),\n",
       " (('book', 'contains', 'mature'), 7),\n",
       " (('coming', 'family', 'society'), 7),\n",
       " (('may', 'mature', 'classroom'), 7),\n",
       " (('mature', 'age', 'group'), 6)]"
      ]
     },
     "execution_count": 221,
     "metadata": {},
     "output_type": "execute_result"
    }
   ],
   "source": [
    "_ngrams = get_ngrams(no_tokens, 3)\n",
    "Counter(_ngrams).most_common(10)"
   ]
  },
  {
   "cell_type": "code",
   "execution_count": 226,
   "metadata": {},
   "outputs": [],
   "source": [
    "from wordcloud import WordCloud, STOPWORDS\n",
    "customStopwords=list(STOPWORDS) + ['may']"
   ]
  },
  {
   "cell_type": "code",
   "execution_count": 242,
   "metadata": {},
   "outputs": [
    {
     "data": {
      "image/png": "[encoded data removed]",
      "text/plain": [
       "<Figure size 432x288 with 1 Axes>"
      ]
     },
     "metadata": {
      "needs_background": "light"
     },
     "output_type": "display_data"
    }
   ],
   "source": [
    "wordcloud = WordCloud(\n",
    "    stopwords=customStopwords,\n",
    "    collocation_threshold = 3,\n",
    "    background_color ='white',\n",
    "    max_words=2000,\n",
    "    scale=3,\n",
    "    min_font_size = 5\n",
    ")\\\n",
    ".generate(\" \".join(no_tokens))\n",
    "\n",
    "plt.imshow(wordcloud)\n",
    "plt.axis('off')\n",
    "    \n",
    "plt.tight_layout(pad = 0)\n",
    "plt.show()"
   ]
  },
  {
   "cell_type": "markdown",
   "metadata": {},
   "source": [
    "Bing's responses\n",
    "- Gender Queer: \"Based on the description you provided, I would not recommend this book to a classroom unless it is for mature students who are interested in topics such as self-identity, sexuality, and trauma. The description suggests that the book contains explicit and sensitive content that may not be suitable for younger or more conservative audiences. The description also does not clearly convey the genre, tone, or theme of the book.\""
   ]
  },
  {
   "cell_type": "markdown",
   "metadata": {},
   "source": [
    "### ChatGPT\n",
    "\n",
    "The following is a description for a book. Make a Markdown table, one column for ages {3, 5, 7, 9, 11, 13, 15, 17, 19, 21}. Write whether you would recommend this book (Yes) or not (No) for a classroom filled with students of that corresponding age. Write another column with a short reason why or why not you would ban.\n",
    "\n",
    "“An autobiography … which includes the mortification and confusion of adolescent crushes, grappling with how to come out to family and society, bonding with friends over erotic gay fanfiction, and facing the trauma and fundamental violation of pap smears”\n",
    "\n",
    "Gender Queer\n",
    "`The book description includes topics related to adolescent crushes, coming out, and sexual health, which are important subjects for young adults to learn about. While the subject matter may not be appropriate for younger children, there is no reason to ban the book for any of the age groups listed. The book's content is more suitable for older readers who are beginning to navigate similar issues in their own lives.`\n",
    "No for everything\n",
    "\n"
   ]
  },
  {
   "cell_type": "code",
   "execution_count": 410,
   "metadata": {},
   "outputs": [],
   "source": [
    "chat_gpt = {\n",
    "    'gender_queer': {\n",
    "        3: 'No',\n",
    "        5: 'No',\n",
    "        7: 'No',\n",
    "        9: 'No',\n",
    "        11: 'No',\n",
    "        13: 'Yes',\n",
    "        15: 'Yes',\n",
    "        17: 'Yes',\n",
    "        19: 'Yes',\n",
    "        21: 'Yes'\n",
    "    },\n",
    "    'all_boys_arent_blue': {\n",
    "        3: 'No',\n",
    "        5: 'No',\n",
    "        7: 'No',\n",
    "        9: 'No',\n",
    "        11: 'No',\n",
    "        13: 'Yes',\n",
    "        15: 'Yes',\n",
    "        17: 'Yes',\n",
    "        19: 'Yes',\n",
    "        21: 'Yes'\n",
    "    },\n",
    "    'out_of_darkness': {\n",
    "        3: 'No',\n",
    "        5: 'No',\n",
    "        7: 'No',\n",
    "        9: 'No',\n",
    "        11: 'Yes',\n",
    "        13: 'Yes',\n",
    "        15: 'Yes',\n",
    "        17: 'Yes',\n",
    "        19: 'Yes',\n",
    "        21: 'Yes'\n",
    "    },\n",
    "    'bluest_eye': {\n",
    "        3: 'No',\n",
    "        5: 'No',\n",
    "        7: 'No',\n",
    "        9: 'No',\n",
    "        11: 'Yes',\n",
    "        13: 'Yes',\n",
    "        15: 'Yes',\n",
    "        17: 'Yes',\n",
    "        19: 'Yes',\n",
    "        21: 'Yes'\n",
    "    },\n",
    "    'lawn_boy': {\n",
    "        3: 'No',\n",
    "        5: 'No',\n",
    "        7: 'No',\n",
    "        9: 'No',\n",
    "        11: 'Yes',\n",
    "        13: 'Yes',\n",
    "        15: 'Yes',\n",
    "        17: 'Yes',\n",
    "        19: 'Yes',\n",
    "        21: 'Yes'\n",
    "    }\n",
    "\n",
    "}\n",
    "\n",
    "\n",
    "\n",
    "bing = {\n",
    "    'gender_queer': {\n",
    "        3: 'No',\n",
    "        5: 'No',\n",
    "        7: 'No',\n",
    "        9: 'No',\n",
    "        11: 'No',\n",
    "        13: 'Yes',\n",
    "        15: 'Yes',\n",
    "        17: 'Yes',\n",
    "        19: 'Yes',\n",
    "        21: 'Yes'\n",
    "    },\n",
    "    'all_boys_arent_blue': {\n",
    "        3: 'No',\n",
    "        5: 'No',\n",
    "        7: 'No',\n",
    "        9: 'No',\n",
    "        11: 'No',\n",
    "        13: 'Yes',\n",
    "        15: 'Yes',\n",
    "        17: 'Yes',\n",
    "        19: 'Yes',\n",
    "        21: 'Yes'\n",
    "    },\n",
    "    'out_of_darkness': {\n",
    "        3: 'No',\n",
    "        5: 'No',\n",
    "        7: 'No',\n",
    "        9: 'No',\n",
    "        11: 'No',\n",
    "        13: 'Yes',\n",
    "        15: 'Yes',\n",
    "        17: 'Yes',\n",
    "        19: 'Yes',\n",
    "        21: 'Yes'\n",
    "    },\n",
    "    'bluest_eye': {\n",
    "        3: 'No',\n",
    "        5: 'No',\n",
    "        7: 'No',\n",
    "        9: 'No',\n",
    "        11: 'Yes',\n",
    "        13: 'Yes',\n",
    "        15: 'Yes',\n",
    "        17: 'Yes',\n",
    "        19: 'Yes',\n",
    "        21: 'Yes'\n",
    "    },\n",
    "    'lawn_boy': {\n",
    "        3: 'No',\n",
    "        5: 'No',\n",
    "        7: 'No',\n",
    "        9: 'No',\n",
    "        11: 'Yes',\n",
    "        13: 'Yes',\n",
    "        15: 'Yes',\n",
    "        17: 'Yes',\n",
    "        19: 'Yes',\n",
    "        21: 'Yes'\n",
    "    }\n",
    "\n",
    "}"
   ]
  },
  {
   "cell_type": "code",
   "execution_count": 443,
   "metadata": {},
   "outputs": [
    {
     "data": {
      "text/html": [
       "<div>\n",
       "<style scoped>\n",
       "    .dataframe tbody tr th:only-of-type {\n",
       "        vertical-align: middle;\n",
       "    }\n",
       "\n",
       "    .dataframe tbody tr th {\n",
       "        vertical-align: top;\n",
       "    }\n",
       "\n",
       "    .dataframe thead th {\n",
       "        text-align: right;\n",
       "    }\n",
       "</style>\n",
       "<table border=\"1\" class=\"dataframe\">\n",
       "  <thead>\n",
       "    <tr style=\"text-align: right;\">\n",
       "      <th></th>\n",
       "      <th>3</th>\n",
       "      <th>5</th>\n",
       "      <th>7</th>\n",
       "      <th>9</th>\n",
       "      <th>11</th>\n",
       "      <th>13</th>\n",
       "      <th>15</th>\n",
       "      <th>17</th>\n",
       "      <th>19</th>\n",
       "      <th>21</th>\n",
       "    </tr>\n",
       "  </thead>\n",
       "  <tbody>\n",
       "    <tr>\n",
       "      <th>Gender Queer</th>\n",
       "      <td>0</td>\n",
       "      <td>0</td>\n",
       "      <td>0</td>\n",
       "      <td>0</td>\n",
       "      <td>0</td>\n",
       "      <td>1</td>\n",
       "      <td>1</td>\n",
       "      <td>1</td>\n",
       "      <td>1</td>\n",
       "      <td>1</td>\n",
       "    </tr>\n",
       "    <tr>\n",
       "      <th>All Boys Arent Blue</th>\n",
       "      <td>0</td>\n",
       "      <td>0</td>\n",
       "      <td>0</td>\n",
       "      <td>0</td>\n",
       "      <td>0</td>\n",
       "      <td>1</td>\n",
       "      <td>1</td>\n",
       "      <td>1</td>\n",
       "      <td>1</td>\n",
       "      <td>1</td>\n",
       "    </tr>\n",
       "    <tr>\n",
       "      <th>Out Of Darkness</th>\n",
       "      <td>0</td>\n",
       "      <td>0</td>\n",
       "      <td>0</td>\n",
       "      <td>0</td>\n",
       "      <td>0</td>\n",
       "      <td>1</td>\n",
       "      <td>1</td>\n",
       "      <td>1</td>\n",
       "      <td>1</td>\n",
       "      <td>1</td>\n",
       "    </tr>\n",
       "    <tr>\n",
       "      <th>Bluest Eye</th>\n",
       "      <td>0</td>\n",
       "      <td>0</td>\n",
       "      <td>0</td>\n",
       "      <td>0</td>\n",
       "      <td>1</td>\n",
       "      <td>1</td>\n",
       "      <td>1</td>\n",
       "      <td>1</td>\n",
       "      <td>1</td>\n",
       "      <td>1</td>\n",
       "    </tr>\n",
       "    <tr>\n",
       "      <th>Lawn Boy</th>\n",
       "      <td>0</td>\n",
       "      <td>0</td>\n",
       "      <td>0</td>\n",
       "      <td>0</td>\n",
       "      <td>1</td>\n",
       "      <td>1</td>\n",
       "      <td>1</td>\n",
       "      <td>1</td>\n",
       "      <td>1</td>\n",
       "      <td>1</td>\n",
       "    </tr>\n",
       "  </tbody>\n",
       "</table>\n",
       "</div>"
      ],
      "text/plain": [
       "                     3   5   7   9   11  13  15  17  19  21\n",
       "Gender Queer          0   0   0   0   0   1   1   1   1   1\n",
       "All Boys Arent Blue   0   0   0   0   0   1   1   1   1   1\n",
       "Out Of Darkness       0   0   0   0   0   1   1   1   1   1\n",
       "Bluest Eye            0   0   0   0   1   1   1   1   1   1\n",
       "Lawn Boy              0   0   0   0   1   1   1   1   1   1"
      ]
     },
     "execution_count": 443,
     "metadata": {},
     "output_type": "execute_result"
    }
   ],
   "source": [
    "chatgpt_pivot = pd.DataFrame(chat_gpt)\n",
    "for c in chatgpt_pivot.columns:\n",
    "    chatgpt_pivot[c] = chatgpt_pivot[c].apply(lambda x: 0 if x=='No' else 1)\n",
    "\n",
    "chatgpt_pivot.columns = [i.replace('_', ' ').title() for i in chatgpt_pivot.columns]\n",
    "chatgpt_pivot = chatgpt_pivot.T\n",
    "\n",
    "bing_pivot = pd.DataFrame(bing)\n",
    "for c in bing_pivot.columns:\n",
    "    bing_pivot[c] = bing_pivot[c].apply(lambda x: 0 if x=='No' else 1)\n",
    "\n",
    "bing_pivot.columns = [i.replace('_', ' ').title() for i in bing_pivot.columns]\n",
    "bing_pivot = bing_pivot.T\n",
    "bing_pivot"
   ]
  },
  {
   "cell_type": "code",
   "execution_count": 461,
   "metadata": {},
   "outputs": [
    {
     "data": {
      "image/png": "[encoded data removed]",
      "text/plain": [
       "<Figure size 1224x360 with 2 Axes>"
      ]
     },
     "metadata": {
      "needs_background": "light"
     },
     "output_type": "display_data"
    }
   ],
   "source": [
    "fig, axes = plt.subplots(1,2, figsize=(17, 5))\n",
    "\n",
    "for ax, chatbot_df, chatbot_name in zip(axes, [chatgpt_pivot, bing_pivot], ['ChatGPT', 'Bing']):\n",
    "    sns.heatmap(\n",
    "        ax=ax,\n",
    "        data=chatgpt_pivot,\n",
    "        square=True,\n",
    "        cbar=False,\n",
    "        cmap=[COLORS[5], COLORS[1]],\n",
    "        linewidths=.2,\n",
    "        linecolor='beige',\n",
    "        )\n",
    "    ax.set_ylabel('')\n",
    "#     ax.set_yticks(size=12)\n",
    "#     ax.set_tick_params(left=False, bottom=False)\n",
    "#     ax.set_xticks(size=12)\n",
    "    ax.set_xlabel('Age', size=12)\n",
    "\n",
    "    no = mlines.Line2D([], [], color=COLORS[5], marker='s', ls='', label='No')\n",
    "    yes = mlines.Line2D([], [], color=COLORS[1], marker='s', ls='', label='Yes')\n",
    "\n",
    "    ax.set_title(chatbot_name)\n"
   ]
  },
  {
   "cell_type": "code",
   "execution_count": 462,
   "metadata": {},
   "outputs": [
    {
     "data": {
      "text/plain": [
       "Text(0.5, 1.2, 'ChatGPT / Bing')"
      ]
     },
     "execution_count": 462,
     "metadata": {},
     "output_type": "execute_result"
    },
    {
     "data": {
      "image/png": "[encoded data removed]",
      "text/plain": [
       "<Figure size 432x288 with 1 Axes>"
      ]
     },
     "metadata": {
      "needs_background": "light"
     },
     "output_type": "display_data"
    }
   ],
   "source": [
    "sns.heatmap(chatgpt_pivot,\n",
    "            square=True,\n",
    "            cbar=False,\n",
    "            cmap=[COLORS[5], COLORS[1]],\n",
    "            linewidths=.2,\n",
    "            linecolor='beige',\n",
    "           )\n",
    "plt.ylabel('')\n",
    "plt.yticks(size=12)\n",
    "plt.tick_params(left=False, bottom=False)\n",
    "plt.xticks(size=12)\n",
    "plt.xlabel('Age', size=12)\n",
    "\n",
    "import matplotlib.lines as mlines\n",
    "no = mlines.Line2D([], [], color=COLORS[5], marker='s', ls='', label='No')\n",
    "yes = mlines.Line2D([], [], color=COLORS[1], marker='s', ls='', label='Yes')\n",
    "plt.legend(handles=[no,yes], loc='upper center', \n",
    "           bbox_to_anchor=(0.5, 1.2), \n",
    "           ncol=2, \n",
    "           frameon=False,\n",
    "           fontsize=14,\n",
    "           markerscale=2,\n",
    "          )\n",
    "plt.title('ChatGPT / Bing', y=1.2, size=14)\n"
   ]
  },
  {
   "cell_type": "markdown",
   "metadata": {},
   "source": [
    "## Author analysis"
   ]
  },
  {
   "cell_type": "markdown",
   "metadata": {},
   "source": [
    "The most commonly banned authors, across all districts"
   ]
  },
  {
   "cell_type": "code",
   "execution_count": 111,
   "metadata": {
    "scrolled": true
   },
   "outputs": [
    {
     "data": {
      "text/html": [
       "<div>\n",
       "<style scoped>\n",
       "    .dataframe tbody tr th:only-of-type {\n",
       "        vertical-align: middle;\n",
       "    }\n",
       "\n",
       "    .dataframe tbody tr th {\n",
       "        vertical-align: top;\n",
       "    }\n",
       "\n",
       "    .dataframe thead th {\n",
       "        text-align: right;\n",
       "    }\n",
       "</style>\n",
       "<table border=\"1\" class=\"dataframe\">\n",
       "  <thead>\n",
       "    <tr style=\"text-align: right;\">\n",
       "      <th></th>\n",
       "      <th>author</th>\n",
       "      <th>gender</th>\n",
       "      <th>ethnicity</th>\n",
       "      <th>count</th>\n",
       "      <th>gender_and_eth</th>\n",
       "    </tr>\n",
       "  </thead>\n",
       "  <tbody>\n",
       "    <tr>\n",
       "      <th>0</th>\n",
       "      <td>Ellen Hopkins</td>\n",
       "      <td>F</td>\n",
       "      <td>White</td>\n",
       "      <td>43</td>\n",
       "      <td>White (F)</td>\n",
       "    </tr>\n",
       "    <tr>\n",
       "      <th>1</th>\n",
       "      <td>Maia Kobabe</td>\n",
       "      <td>NB</td>\n",
       "      <td>White</td>\n",
       "      <td>41</td>\n",
       "      <td>White (NB)</td>\n",
       "    </tr>\n",
       "    <tr>\n",
       "      <th>2</th>\n",
       "      <td>Toni Morrison</td>\n",
       "      <td>F</td>\n",
       "      <td>Black</td>\n",
       "      <td>34</td>\n",
       "      <td>Black (F)</td>\n",
       "    </tr>\n",
       "    <tr>\n",
       "      <th>3</th>\n",
       "      <td>George M. Johnson</td>\n",
       "      <td>NB</td>\n",
       "      <td>Black</td>\n",
       "      <td>30</td>\n",
       "      <td>Black (NB)</td>\n",
       "    </tr>\n",
       "    <tr>\n",
       "      <th>4</th>\n",
       "      <td>Lauren Myracle</td>\n",
       "      <td>F</td>\n",
       "      <td>White</td>\n",
       "      <td>29</td>\n",
       "      <td>White (F)</td>\n",
       "    </tr>\n",
       "    <tr>\n",
       "      <th>5</th>\n",
       "      <td>Ashley Hope Pérez</td>\n",
       "      <td>F</td>\n",
       "      <td>White</td>\n",
       "      <td>23</td>\n",
       "      <td>White (F)</td>\n",
       "    </tr>\n",
       "    <tr>\n",
       "      <th>6</th>\n",
       "      <td>Angie Thomas</td>\n",
       "      <td>F</td>\n",
       "      <td>Black</td>\n",
       "      <td>19</td>\n",
       "      <td>Black (F)</td>\n",
       "    </tr>\n",
       "    <tr>\n",
       "      <th>7</th>\n",
       "      <td>Sarah J. Maas</td>\n",
       "      <td>F</td>\n",
       "      <td>White</td>\n",
       "      <td>18</td>\n",
       "      <td>White (F)</td>\n",
       "    </tr>\n",
       "    <tr>\n",
       "      <th>8</th>\n",
       "      <td>Jason Reynolds</td>\n",
       "      <td>M</td>\n",
       "      <td>Black</td>\n",
       "      <td>18</td>\n",
       "      <td>Black (M)</td>\n",
       "    </tr>\n",
       "    <tr>\n",
       "      <th>9</th>\n",
       "      <td>Saadia Faruqi</td>\n",
       "      <td>F</td>\n",
       "      <td>Pakistani</td>\n",
       "      <td>17</td>\n",
       "      <td>Pakistani (F)</td>\n",
       "    </tr>\n",
       "    <tr>\n",
       "      <th>10</th>\n",
       "      <td>Jacqueline Jules</td>\n",
       "      <td>F</td>\n",
       "      <td>White</td>\n",
       "      <td>17</td>\n",
       "      <td>White (F)</td>\n",
       "    </tr>\n",
       "    <tr>\n",
       "      <th>11</th>\n",
       "      <td>Jonathan Evison</td>\n",
       "      <td>M</td>\n",
       "      <td>White</td>\n",
       "      <td>17</td>\n",
       "      <td>White (M)</td>\n",
       "    </tr>\n",
       "    <tr>\n",
       "      <th>12</th>\n",
       "      <td>Jesse Andrews</td>\n",
       "      <td>M</td>\n",
       "      <td>White</td>\n",
       "      <td>17</td>\n",
       "      <td>White (M)</td>\n",
       "    </tr>\n",
       "    <tr>\n",
       "      <th>13</th>\n",
       "      <td>Anh Do</td>\n",
       "      <td>M</td>\n",
       "      <td>Asian</td>\n",
       "      <td>17</td>\n",
       "      <td>Asian (M)</td>\n",
       "    </tr>\n",
       "    <tr>\n",
       "      <th>14</th>\n",
       "      <td>Sherman Alexie</td>\n",
       "      <td>M</td>\n",
       "      <td>native american</td>\n",
       "      <td>17</td>\n",
       "      <td>native american (M)</td>\n",
       "    </tr>\n",
       "    <tr>\n",
       "      <th>15</th>\n",
       "      <td>Adam Silvera</td>\n",
       "      <td>M</td>\n",
       "      <td>POC</td>\n",
       "      <td>16</td>\n",
       "      <td>POC (M)</td>\n",
       "    </tr>\n",
       "    <tr>\n",
       "      <th>16</th>\n",
       "      <td>John Green</td>\n",
       "      <td>M</td>\n",
       "      <td>White</td>\n",
       "      <td>16</td>\n",
       "      <td>White (M)</td>\n",
       "    </tr>\n",
       "    <tr>\n",
       "      <th>17</th>\n",
       "      <td>Margaret Atwood</td>\n",
       "      <td>F</td>\n",
       "      <td>White</td>\n",
       "      <td>15</td>\n",
       "      <td>White (F)</td>\n",
       "    </tr>\n",
       "    <tr>\n",
       "      <th>18</th>\n",
       "      <td>Shaun David Hutchinson</td>\n",
       "      <td>M</td>\n",
       "      <td>White</td>\n",
       "      <td>15</td>\n",
       "      <td>White (M)</td>\n",
       "    </tr>\n",
       "    <tr>\n",
       "      <th>19</th>\n",
       "      <td>David Levithan</td>\n",
       "      <td>M</td>\n",
       "      <td>White</td>\n",
       "      <td>14</td>\n",
       "      <td>White (M)</td>\n",
       "    </tr>\n",
       "  </tbody>\n",
       "</table>\n",
       "</div>"
      ],
      "text/plain": [
       "                    author gender        ethnicity  count       gender_and_eth\n",
       "0            Ellen Hopkins      F            White     43            White (F)\n",
       "1              Maia Kobabe     NB            White     41           White (NB)\n",
       "2            Toni Morrison      F            Black     34            Black (F)\n",
       "3        George M. Johnson     NB            Black     30           Black (NB)\n",
       "4           Lauren Myracle      F            White     29            White (F)\n",
       "5        Ashley Hope Pérez      F            White     23            White (F)\n",
       "6             Angie Thomas      F            Black     19            Black (F)\n",
       "7            Sarah J. Maas      F            White     18            White (F)\n",
       "8           Jason Reynolds      M            Black     18            Black (M)\n",
       "9            Saadia Faruqi      F        Pakistani     17        Pakistani (F)\n",
       "10        Jacqueline Jules      F            White     17            White (F)\n",
       "11         Jonathan Evison      M            White     17            White (M)\n",
       "12           Jesse Andrews      M            White     17            White (M)\n",
       "13                  Anh Do      M            Asian     17            Asian (M)\n",
       "14          Sherman Alexie      M  native american     17  native american (M)\n",
       "15            Adam Silvera      M              POC     16              POC (M)\n",
       "16              John Green      M            White     16            White (M)\n",
       "17         Margaret Atwood      F            White     15            White (F)\n",
       "18  Shaun David Hutchinson      M            White     15            White (M)\n",
       "19          David Levithan      M            White     14            White (M)"
      ]
     },
     "execution_count": 111,
     "metadata": {},
     "output_type": "execute_result"
    }
   ],
   "source": [
    "banned_authors = df.Author.value_counts().head(20).reset_index()\n",
    "banned_authors.columns = ['author', 'count']\n",
    "banned_authors['author'] = banned_authors.author.apply(lambda x: ' '.join(x.split(',')[::-1]).strip())\n",
    "banned_authors = banned_authors.merge(author_metadata, on='author', how='left')\n",
    "banned_authors = banned_authors[['author', 'gender', 'ethnicity', 'count']]\n",
    "banned_authors['gender_and_eth'] = banned_authors.apply(lambda x: f\"{x.ethnicity} ({x.gender})\", axis=1)\n",
    "banned_authors"
   ]
  },
  {
   "cell_type": "code",
   "execution_count": 137,
   "metadata": {},
   "outputs": [
    {
     "data": {
      "image/png": "[encoded data removed]",
      "text/plain": [
       "<Figure size 1000x500 with 1 Axes>"
      ]
     },
     "metadata": {},
     "output_type": "display_data"
    }
   ],
   "source": [
    "\n",
    "poc_colors = [COLORS[0] if i == 'White' else COLORS[2] for i in banned_authors.ethnicity]\n",
    "make_barchart(banned_authors, x='count', y='author', palette=poc_colors)\n",
    "\n",
    "\n"
   ]
  },
  {
   "cell_type": "code",
   "execution_count": 134,
   "metadata": {},
   "outputs": [
    {
     "data": {
      "image/png": "[encoded data removed]",
      "text/plain": [
       "<Figure size 1000x500 with 1 Axes>"
      ]
     },
     "metadata": {},
     "output_type": "display_data"
    }
   ],
   "source": [
    "\n",
    "whiteman_colors = [COLORS[0] if i == 'White (M)' else COLORS[2] for i in banned_authors.gender_and_eth]\n",
    "make_barchart(banned_authors, x='count', y='author', palette=whiteman_colors)\n",
    "\n"
   ]
  },
  {
   "cell_type": "code",
   "execution_count": 112,
   "metadata": {
    "scrolled": false
   },
   "outputs": [
    {
     "data": {
      "image/png": "[encoded data removed]",
      "text/plain": [
       "<Figure size 1000x500 with 1 Axes>"
      ]
     },
     "metadata": {},
     "output_type": "display_data"
    }
   ],
   "source": [
    "make_barchart(banned_authors, x='count', y='author')"
   ]
  },
  {
   "cell_type": "markdown",
   "metadata": {},
   "source": [
    "Of the top 10 banned authors, 60% identify as women, 20% as NB, 20% as men"
   ]
  },
  {
   "cell_type": "code",
   "execution_count": 115,
   "metadata": {
    "scrolled": true
   },
   "outputs": [
    {
     "data": {
      "text/plain": [
       "F     9\n",
       "M     9\n",
       "NB    2\n",
       "Name: gender, dtype: int64"
      ]
     },
     "execution_count": 115,
     "metadata": {},
     "output_type": "execute_result"
    }
   ],
   "source": [
    "banned_authors.gender.value_counts()"
   ]
  },
  {
   "cell_type": "code",
   "execution_count": 114,
   "metadata": {},
   "outputs": [
    {
     "data": {
      "text/plain": [
       "White              12\n",
       "Black               4\n",
       "native american     1\n",
       "Asian               1\n",
       "POC                 1\n",
       "Pakistani           1\n",
       "Name: ethnicity, dtype: int64"
      ]
     },
     "execution_count": 114,
     "metadata": {},
     "output_type": "execute_result"
    }
   ],
   "source": [
    "# 40% are Black\n",
    "banned_authors.ethnicity.value_counts()"
   ]
  },
  {
   "cell_type": "markdown",
   "metadata": {},
   "source": [
    " In fact, of the top 10 banned authors, only 1 is a White man (Jonathan Eviston). The others are women, nonbinary, and/or POC.\n",
    " \n",
    " Whereas, what about NYT bestseller list for last 10 years? Top 10 authors/top 10 books? Top 10 NYT bestseller books by what peopl?"
   ]
  },
  {
   "cell_type": "code",
   "execution_count": 116,
   "metadata": {},
   "outputs": [
    {
     "data": {
      "text/plain": [
       "gender  ethnicity      \n",
       "F       White              6\n",
       "M       White              5\n",
       "F       Black              2\n",
       "        Pakistani          1\n",
       "M       Asian              1\n",
       "        Black              1\n",
       "        POC                1\n",
       "        native american    1\n",
       "NB      Black              1\n",
       "        White              1\n",
       "dtype: int64"
      ]
     },
     "execution_count": 116,
     "metadata": {},
     "output_type": "execute_result"
    }
   ],
   "source": [
    "# 20% are Black women, 30% are POC / non male, \n",
    "# Only 1/10 is a White man\n",
    "# Everyone else is POC or woman or nonbinary\n",
    "# Pretty low percentage that only 1 \n",
    "banned_authors[['gender', 'ethnicity']].value_counts()"
   ]
  }
 ],
 "metadata": {
  "kernelspec": {
   "display_name": "nlp",
   "language": "python",
   "name": "nlp"
  },
  "language_info": {
   "codemirror_mode": {
    "name": "ipython",
    "version": 3
   },
   "file_extension": ".py",
   "mimetype": "text/x-python",
   "name": "python",
   "nbconvert_exporter": "python",
   "pygments_lexer": "ipython3",
   "version": "3.8.5"
  }
 },
 "nbformat": 4,
 "nbformat_minor": 4
}
